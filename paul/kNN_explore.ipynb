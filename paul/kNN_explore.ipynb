{
 "cells": [
  {
   "cell_type": "code",
   "execution_count": null,
   "outputs": [],
   "source": [
    "import pandas as pd\n",
    "import numpy as np\n",
    "from sklearn.preprocessing import StandardScaler\n",
    "from sklearn.neighbors import KNeighborsClassifier\n",
    "from sklearn.model_selection import GridSearchCV\n",
    "from sklearn.feature_selection import SelectKBest, f_classif\n",
    "from imblearn.combine import SMOTEENN\n",
    "import plotly.express as px"
   ],
   "metadata": {
    "collapsed": false,
    "pycharm": {
     "name": "#%%\n"
    }
   }
  },
  {
   "cell_type": "markdown",
   "source": [
    "# Use SVCs to predict high level features"
   ],
   "metadata": {
    "collapsed": false,
    "pycharm": {
     "name": "#%% md\n"
    }
   }
  },
  {
   "cell_type": "code",
   "execution_count": null,
   "outputs": [],
   "source": [
    "# load the data and reset index of dataframe\n",
    "df: pd.DataFrame = pd.read_pickle(\n",
    "    \"../training_dataset_task3/task_3_training_e8da4715deef7d56_f8b7378_pandas.pkl\").reset_index()\n",
    "\n",
    "# get only the low and mid level features + segment_id\n",
    "X = df.loc[:, \"essentia_dissonance_mean\":\"mirtoolbox_roughness_pct_90\"]\n",
    "# target value\n",
    "y = df[\"quadrant\"]\n",
    "\n",
    "# preprocess dataset\n",
    "X_std = StandardScaler().fit_transform(X)\n",
    "X = pd.DataFrame(X_std, columns=X.columns)"
   ],
   "metadata": {
    "collapsed": false,
    "pycharm": {
     "name": "#%%\n"
    }
   }
  },
  {
   "cell_type": "code",
   "execution_count": null,
   "outputs": [],
   "source": [
    "# add segment_id to data for filtering segments\n",
    "X[\"segment_id\"] = df[\"segment_id\"]"
   ],
   "metadata": {
    "collapsed": false,
    "pycharm": {
     "name": "#%%\n"
    }
   }
  },
  {
   "cell_type": "code",
   "execution_count": null,
   "outputs": [],
   "source": [
    "# remove segment_id 26 and keep as test/ eval data for later\n",
    "seg_26_indices = (X[\"segment_id\"] == 26)\n",
    "X_test = X[seg_26_indices].drop([\"segment_id\"], axis=1)\n",
    "y_test = y[seg_26_indices]\n",
    "\n",
    "X_train = X.drop(X[seg_26_indices].index, axis=0).reset_index(drop=True)\n",
    "y_train = y.drop(X[seg_26_indices].index, axis=0)"
   ],
   "metadata": {
    "collapsed": false,
    "pycharm": {
     "name": "#%%\n"
    }
   }
  },
  {
   "cell_type": "code",
   "execution_count": null,
   "outputs": [],
   "source": [
    "# Combination of over- and under-sampling\n",
    "# https://imbalanced-learn.org/stable/combine.html\n",
    "smote_enn = SMOTEENN(random_state=0)\n",
    "X_resampled, y_resampled = smote_enn.fit_resample(X_train, y_train)\n",
    "# X_resampled, y_resampled = X_train, y_train"
   ],
   "metadata": {
    "collapsed": false,
    "pycharm": {
     "name": "#%%\n"
    }
   }
  },
  {
   "cell_type": "code",
   "execution_count": null,
   "outputs": [],
   "source": [
    "# split the data according to segment_id\n",
    "# store the splits as tuple (train indices, test_indices)\n",
    "# 2 segments for test, the rest for training (not including segment 26)\n",
    "cv = []\n",
    "\n",
    "for i in range(24):\n",
    "    train_indices = X_resampled[~X_resampled[\"segment_id\"].isin([i, i + 1])].index.to_list()\n",
    "    test_indices = X_resampled[X_resampled[\"segment_id\"].isin([i, i + 1])].index.to_list()\n",
    "    cv.append((train_indices, test_indices))"
   ],
   "metadata": {
    "collapsed": false,
    "pycharm": {
     "name": "#%%\n"
    }
   }
  },
  {
   "cell_type": "code",
   "execution_count": null,
   "outputs": [],
   "source": [
    "# remove the segment_id as we don't want it in the training data\n",
    "X_resampled = X_resampled.drop([\"segment_id\"], axis=1)"
   ],
   "metadata": {
    "collapsed": false,
    "pycharm": {
     "name": "#%%\n"
    }
   }
  },
  {
   "cell_type": "code",
   "execution_count": null,
   "outputs": [],
   "source": [
    "# select k best features according to ANOVA F-value between label/feature (for classification tasks)\n",
    "best_features = SelectKBest(score_func=f_classif, k=15).fit(X_resampled, y_resampled).get_feature_names_out()\n",
    "X_select = X_resampled[best_features]"
   ],
   "metadata": {
    "collapsed": false,
    "pycharm": {
     "name": "#%%\n"
    }
   }
  },
  {
   "cell_type": "code",
   "execution_count": null,
   "outputs": [],
   "source": [
    "# parameters for grid search\n",
    "params = {\n",
    "    \"n_neighbors\": np.linspace(1, 300, 150, dtype=int).tolist(),\n",
    "    \"weights\": [\"uniform\"],  # {‘uniform’, ‘distance’}\n",
    "    \"algorithm\": [\"auto\"],  # {‘auto’, ‘ball_tree’, ‘kd_tree’, ‘brute’}\n",
    "}\n",
    "\n",
    "gs_cv = GridSearchCV(KNeighborsClassifier(), params, cv=cv, return_train_score=True, n_jobs=-1)\n",
    "gs_cv.fit(X_select, y_resampled)\n",
    "print(gs_cv.best_score_, gs_cv.best_params_)"
   ],
   "metadata": {
    "collapsed": false,
    "pycharm": {
     "name": "#%%\n"
    }
   }
  },
  {
   "cell_type": "markdown",
   "source": [
    "1 neighbor is clearly overfitting, a bigger value should be better.\n",
    "\n",
    "When searching for n_neighbors > 50 the best one was --> 0.546534203234109 {'algorithm': 'auto', 'n_neighbors': 73, 'weights': 'uniform'}"
   ],
   "metadata": {
    "collapsed": false,
    "pycharm": {
     "name": "#%% md\n"
    }
   }
  },
  {
   "cell_type": "code",
   "execution_count": null,
   "outputs": [],
   "source": [
    "# results of the Grid Search CV\n",
    "cv_results = pd.DataFrame.from_dict(gs_cv.cv_results_)\n",
    "cv_results.head(4)"
   ],
   "metadata": {
    "collapsed": false,
    "pycharm": {
     "name": "#%%\n"
    }
   }
  },
  {
   "cell_type": "code",
   "execution_count": null,
   "outputs": [],
   "source": [
    "# plot the train and test error against number of neighbors\n",
    "fig = px.line(\n",
    "    cv_results,\n",
    "    x=\"param_n_neighbors\",\n",
    "    y=[\"mean_test_score\", \"mean_train_score\"],\n",
    "    title=\"Train and Test Error for an increasing number of neighbors\",\n",
    "    labels={\n",
    "        \"param_n_neighbors\": \"Number of Neighbors\",\n",
    "        \"mean_test_score\": \"Mean Test Score\",\n",
    "        \"mean_train_score\": \"Mean Train Score\",\n",
    "        \"value\": \"Accuracy\",\n",
    "    },\n",
    "    width=800,\n",
    "    height=400,\n",
    ")\n",
    "fig.update_traces(mode=\"lines\")\n",
    "fig.show()"
   ],
   "metadata": {
    "collapsed": false,
    "pycharm": {
     "name": "#%%\n"
    }
   }
  },
  {
   "cell_type": "code",
   "execution_count": null,
   "outputs": [],
   "source": [
    "# score on held out test set, segment 26\n",
    "gs_cv.score(X_test[best_features], y_test)"
   ],
   "metadata": {
    "collapsed": false,
    "pycharm": {
     "name": "#%%\n"
    }
   }
  }
 ],
 "metadata": {
  "kernelspec": {
   "display_name": "Python 3 (ipykernel)",
   "language": "python",
   "name": "python3"
  },
  "language_info": {
   "codemirror_mode": {
    "name": "ipython",
    "version": 3
   },
   "file_extension": ".py",
   "mimetype": "text/x-python",
   "name": "python",
   "nbconvert_exporter": "python",
   "pygments_lexer": "ipython3",
   "version": "3.9.6"
  }
 },
 "nbformat": 4,
 "nbformat_minor": 4
}