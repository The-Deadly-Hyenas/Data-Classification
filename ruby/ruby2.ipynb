{
 "cells": [
  {
   "cell_type": "markdown",
   "id": "65d79666",
   "metadata": {},
   "source": [
    "__________\n",
    "# Shit gets real here"
   ]
  },
  {
   "cell_type": "markdown",
   "id": "f8f44b1e",
   "metadata": {},
   "source": [
    "### Dataset and Imports"
   ]
  },
  {
   "cell_type": "code",
   "execution_count": 1,
   "id": "1686a86b",
   "metadata": {},
   "outputs": [],
   "source": [
    "import time\n",
    "from tqdm.notebook import tqdm, trange\n",
    "import pandas as pd\n",
    "import numpy as np\n",
    "import matplotlib.pyplot as plt\n",
    "import sklearn\n",
    "\n",
    "from sklearn.preprocessing import StandardScaler\n",
    "from sklearn.model_selection import cross_val_score, KFold"
   ]
  },
  {
   "cell_type": "code",
   "execution_count": 2,
   "id": "94fc0f1c",
   "metadata": {},
   "outputs": [],
   "source": [
    "data_all = pd.read_pickle('../training_dataset_task3/task_3_training_e8da4715deef7d56_f8b7378_pandas.pkl')\n",
    "data = data_all.loc[:,'pianist_id':'arousal']\n",
    "\n",
    "X = data.drop(['quadrant', 'valence', 'arousal'], axis=1)\n",
    "y = data['quadrant']\n",
    "\n",
    "# preprocess dataset\n",
    "X = StandardScaler().fit_transform(X)\n",
    "\n",
    "# cross validation\n",
    "kf = KFold(n_splits=10)"
   ]
  },
  {
   "cell_type": "code",
   "execution_count": 3,
   "id": "d71bc0c2",
   "metadata": {},
   "outputs": [],
   "source": [
    "def cross_val(model, kf=kf):\n",
    "    val = cross_val_score(estimator=model, X=X, y=y, cv=kf).mean()\n",
    "    # print(val, 'for', model)\n",
    "    return val"
   ]
  },
  {
   "cell_type": "markdown",
   "id": "2497206a",
   "metadata": {},
   "source": [
    "# Focus: Random Forests"
   ]
  },
  {
   "cell_type": "code",
   "execution_count": 4,
   "id": "73833c15",
   "metadata": {},
   "outputs": [],
   "source": [
    "from sklearn.ensemble import RandomForestClassifier, RandomForestRegressor"
   ]
  },
  {
   "cell_type": "markdown",
   "id": "366239f1",
   "metadata": {},
   "source": [
    "#### The hyperparameters\n",
    "\n",
    "**n_estimators:** int, default=100\n",
    "The number of trees in the forest.\n",
    "\n",
    "**criterion:** {“gini”, “entropy”}, default=”gini” <br>\n",
    "The function to measure the quality of a split. Supported criteria are “gini” for the Gini impurity and “entropy” for the information gain. Note: this parameter is tree-specific.\n",
    "\n",
    "**max_depth:** int, default=None <br>\n",
    "The maximum depth of the tree. If None, then nodes are expanded until all leaves are pure or until all leaves contain less than min_samples_split samples.\n",
    "\n",
    "**min_samples_split:** int or float, default=2 <br>\n",
    "The minimum number of samples required to split an internal node: <br>\n",
    "If int, then consider min_samples_split as the minimum number. <br>\n",
    "If float, then min_samples_split is a fraction and ceil(min_samples_split * n_samples) are the minimum number of samples for each split.\n",
    "\n",
    "**min_samples_leaf:** int or float, default=1 <br>\n",
    "The minimum number of samples required to be at a leaf node. A split point at any depth will only be considered if it leaves at least min_samples_leaf training samples in each of the left and right branches. This may have the effect of smoothing the model, especially in regression. <br>\n",
    "If int, then consider min_samples_leaf as the minimum number. <br>\n",
    "If float, then min_samples_leaf is a fraction and ceil(min_samples_leaf * n_samples) are the minimum number of samples for each node.\n",
    "\n",
    "**min_weight_fraction_leaf:** float, default=0.0 <br>\n",
    "The minimum weighted fraction of the sum total of weights (of all the input samples) required to be at a leaf node. Samples have equal weight when sample_weight is not provided.\n",
    "\n",
    "**max_features:**: {“auto”, “sqrt”, “log2”} int or float, default=”auto” <br>\n",
    "The number of features to consider when looking for the best split: <br>\n",
    "If int, then consider max_features features at each split. <br>\n",
    "If float, then max_features is a fraction and round(max_features * n_features) features are considered at each split. <br>\n",
    "If “auto”, then max_features=sqrt(n_features). <br>\n",
    "If “sqrt”, then max_features=sqrt(n_features) (same as “auto”). <br>\n",
    "If “log2”, then max_features=log2(n_features). <br>\n",
    "If None, then max_features=n_features. <br>\n",
    "Note: the search for a split does not stop until at least one valid partition of the node samples is found, even if it requires to effectively inspect more than max_features features.\n",
    "\n",
    "**max_leaf_nodes:** int, default=None <br>\n",
    "Grow trees with max_leaf_nodes in best-first fashion. Best nodes are defined as relative reduction in impurity. If None then unlimited number of leaf nodes.\n",
    "\n",
    "**min_impurity_decrease:** float, default=0.0 <br>\n",
    "A node will be split if this split induces a decrease of the impurity greater than or equal to this value.\n",
    "\n",
    "The weighted impurity decrease equation is the following: <br>\n",
    "N_t / N * (impurity - N_t_R / N_t * right_impurity\n",
    "                    - N_t_L / N_t * left_impurity) <br>\n",
    "where N is the total number of samples, N_t is the number of samples at the current node, N_t_L is the number of samples in the left child, and N_t_R is the number of samples in the right child. <br>\n",
    "N, N_t, N_t_R and N_t_L all refer to the weighted sum, if sample_weight is passed.\n",
    "\n",
    "\n",
    "**bootstrap:** bool, default=True <br>\n",
    "Whether bootstrap samples are used when building trees. If False, the whole dataset is used to build each tree.\n",
    "\n",
    "**oob_score:** bool, default=False <br>\n",
    "Whether to use out-of-bag samples to estimate the generalization score. Only available if bootstrap=True.\n",
    "\n",
    "**n_jobs:** int, default=None <br>\n",
    "The number of jobs to run in parallel. fit, predict, decision_path and apply are all parallelized over the trees. None means 1 unless in a joblib.parallel_backend context. -1 means using all processors.\n",
    "\n",
    "**random_state:** int RandomState instance or None, default=None <br>\n",
    "Controls both the randomness of the bootstrapping of the samples used when building trees (if bootstrap=True) and the sampling of the features to consider when looking for the best split at each node (if max_features < n_features). See Glossary for details.\n",
    "\n",
    "**verbose:** int, default=0 <br>\n",
    "Controls the verbosity when fitting and predicting.\n",
    "\n",
    "**warm_start:** bool, default=False <br>\n",
    "When set to True, reuse the solution of the previous call to fit and add more estimators to the ensemble, otherwise, just fit a whole new forest. See the Glossary.\n",
    "\n",
    "**class_weight:** {“balanced”, “balanced_subsample”} dict or list of dicts, default=None <br>\n",
    "Weights associated with classes in the form {class_label: weight}. If not given, all classes are supposed to have weight one. For multi-output problems, a list of dicts can be provided in the same order as the columns of y.\n",
    "\n",
    "**ccp_alpha:** non-negative float, default=0.0 <br>\n",
    "Complexity parameter used for Minimal Cost-Complexity Pruning. The subtree with the largest cost complexity that is smaller than ccp_alpha will be chosen. By default, no pruning is performed. See Minimal Cost-Complexity Pruning for details.\n",
    "\n",
    "**max_samples:** int or float, default=None <br>\n",
    "If bootstrap is True, the number of samples to draw from X to train each base estimator. <br>\n",
    "If None (default), then draw X.shape[0] samples. <br>\n",
    "If int, then draw max_samples samples. <br>\n",
    "If float, then draw max_samples * X.shape[0] samples. Thus, max_samples should be in the interval (0.0, 1.0]."
   ]
  },
  {
   "cell_type": "code",
   "execution_count": 5,
   "id": "a9e12bd2",
   "metadata": {},
   "outputs": [],
   "source": [
    "# Random Forest - no parameter specification\n",
    "\n",
    "# start = time.time()\n",
    "# rf0 = RandomForestClassifier()\n",
    "# val0 = cross_val(rf0)\n",
    "# end = time.time()\n",
    "# runtime = f'{end-start} seconds'\n",
    "\n",
    "# print(f'Score for {rf0}:')\n",
    "# print(f'{val0} in {runtime} runtime.')"
   ]
  },
  {
   "cell_type": "code",
   "execution_count": 6,
   "id": "6543670d",
   "metadata": {},
   "outputs": [],
   "source": [
    "# Random Forest - n_estimators=10, criterion=gini(default), max_deph=5, max_features=1\n",
    "\n",
    "# start = time.time()\n",
    "# rf1 = RandomForestClassifier(n_estimators=10, max_depth=5, max_features=1)\n",
    "# val1 = cross_val(rf1)\n",
    "# end = time.time()\n",
    "# runtime = f'{end-start} seconds'\n",
    "\n",
    "# print(f'Score for {rf1}:')\n",
    "# print(f'{val1} in {runtime} runtime.')"
   ]
  },
  {
   "cell_type": "markdown",
   "id": "9e5e28d2",
   "metadata": {},
   "source": [
    "## Hyperparameter - n_estimators (number of trees in forest)"
   ]
  },
  {
   "cell_type": "code",
   "execution_count": 7,
   "id": "b4831dc0",
   "metadata": {},
   "outputs": [
    {
     "name": "stdout",
     "output_type": "stream",
     "text": [
      "0.0 seconds runtime\n"
     ]
    }
   ],
   "source": [
    "# trial 1\n",
    "\n",
    "start = time.time()\n",
    "# uncomment next line will take forever\n",
    "# accuracies = [cross_val(RandomForestClassifier(n_estimators=i)) for i in trange(10,300,10)]\n",
    "end = time.time()\n",
    "\n",
    "print(end-start, 'seconds runtime')"
   ]
  },
  {
   "cell_type": "code",
   "execution_count": 8,
   "id": "47df64a2",
   "metadata": {},
   "outputs": [
    {
     "data": {
      "image/png": "[encoded data removed]",
      "text/plain": [
       "<Figure size 432x288 with 1 Axes>"
      ]
     },
     "metadata": {
      "needs_background": "light"
     },
     "output_type": "display_data"
    }
   ],
   "source": [
    "# plot\n",
    "# plt.plot(range(10,300,10), accuracies)\n",
    "plt.title('Mean accuracy; increasing number of estimators')\n",
    "plt.xlabel('n_estimators')\n",
    "plt.ylabel('mean accuracy')\n",
    "plt.show()"
   ]
  },
  {
   "cell_type": "code",
   "execution_count": 9,
   "id": "4cfcf3cc",
   "metadata": {},
   "outputs": [],
   "source": [
    "# Result\n",
    "# picture of plot saved as 'n_estimators_10_300_10.png'\n",
    "# runtime: not yet measured"
   ]
  },
  {
   "cell_type": "code",
   "execution_count": 10,
   "id": "d8e648ea",
   "metadata": {},
   "outputs": [
    {
     "name": "stdout",
     "output_type": "stream",
     "text": [
      "0.0 seconds runtime\n"
     ]
    }
   ],
   "source": [
    "# trial 2\n",
    "\n",
    "start = time.time()\n",
    "# uncomment next line will take forever\n",
    "# accuracies2 = [cross_val(RandomForestClassifier(n_estimators=i)) for i in trange(240,340,10)]\n",
    "end = time.time()\n",
    "\n",
    "print(end-start, 'seconds runtime')"
   ]
  },
  {
   "cell_type": "code",
   "execution_count": 11,
   "id": "5c91048c",
   "metadata": {},
   "outputs": [
    {
     "data": {
      "image/png": "[encoded data removed]",
      "text/plain": [
       "<Figure size 432x288 with 1 Axes>"
      ]
     },
     "metadata": {
      "needs_background": "light"
     },
     "output_type": "display_data"
    }
   ],
   "source": [
    "# plot\n",
    "# plt.plot(range(240,340,10), accuracies2)\n",
    "plt.title('Mean accuracy; increasing number of estimators')\n",
    "plt.xlabel('n_estimators')\n",
    "plt.ylabel('mean accuracy')\n",
    "plt.show()"
   ]
  },
  {
   "cell_type": "code",
   "execution_count": 12,
   "id": "25a3b733",
   "metadata": {},
   "outputs": [],
   "source": [
    "# Result\n",
    "# picture of plot saved as 'n_estimators_240_340_10.png'\n",
    "# runtime: 473 seconds or 7.88 minutes runtime"
   ]
  },
  {
   "cell_type": "markdown",
   "id": "3639ce3a",
   "metadata": {},
   "source": [
    "### Facit\n",
    "\n",
    "Increasing the numbers of trees does not make a huge difference that justifies the extremely long runtime.<br>\n",
    "Let's settle on **80 trees**, which has around 0.47% accuracy and play with some other parameters instead!"
   ]
  },
  {
   "cell_type": "markdown",
   "id": "8029f77e",
   "metadata": {},
   "source": [
    "## Hyperparameter - Criterion"
   ]
  },
  {
   "cell_type": "code",
   "execution_count": 13,
   "id": "222d6323",
   "metadata": {},
   "outputs": [],
   "source": [
    "# gini is default; try for 'entropy'\n",
    "\n",
    "start = time.time()\n",
    "# rf_80_entropy = RandomForestClassifier(n_estimators=80, criterion='entropy')\n",
    "# val_80_entropy = cross_val(rf_80_entropy)\n",
    "end = time.time()\n",
    "runtime = f'{end-start} seconds'\n",
    "\n",
    "# print(f'Score for {rf_80_entropy}:')\n",
    "# print(f'{val_80_entropy} in {runtime} runtime.')"
   ]
  },
  {
   "cell_type": "markdown",
   "id": "b74829e9",
   "metadata": {},
   "source": [
    "### Facit\n",
    "\n",
    "Varying between gini and entropy does not make a huge difference, so we will stick with the default value, **gini**."
   ]
  },
  {
   "cell_type": "markdown",
   "id": "0df7e6a0",
   "metadata": {},
   "source": [
    "## Hyperparameter - Max_Depth and Min_Sample_Split"
   ]
  },
  {
   "cell_type": "markdown",
   "id": "4e5ad11b",
   "metadata": {},
   "source": [
    "**Max_depth** defines how deep each single tree goes. <br>\n",
    "So far, we have not defined a maximum depth, therefore\n",
    "the algorithm continued to split the nodes until min_sample_split, which was by default 2. <br>\n",
    "Let's play around with these parameters."
   ]
  },
  {
   "cell_type": "code",
   "execution_count": 14,
   "id": "1f1d4f7f",
   "metadata": {},
   "outputs": [
    {
     "name": "stdout",
     "output_type": "stream",
     "text": [
      "0.0 seconds runtime\n"
     ]
    }
   ],
   "source": [
    "# trial 1\n",
    "\n",
    "start = time.time()\n",
    "# uncomment next line will take forever\n",
    "# accuracies3 = [cross_val(RandomForestClassifier(n_estimators=80, max_depth=i)) for i in trange(5,30)]\n",
    "end = time.time()\n",
    "\n",
    "print(end-start, 'seconds runtime')"
   ]
  },
  {
   "cell_type": "code",
   "execution_count": 15,
   "id": "093fd344",
   "metadata": {},
   "outputs": [
    {
     "data": {
      "image/png": "[encoded data removed]",
      "text/plain": [
       "<Figure size 432x288 with 1 Axes>"
      ]
     },
     "metadata": {
      "needs_background": "light"
     },
     "output_type": "display_data"
    }
   ],
   "source": [
    "# plot\n",
    "# plt.plot(range(5,30), accuracies3)\n",
    "plt.title('Mean accuracy; increasing maximum depth')\n",
    "plt.xlabel('max_depth')\n",
    "plt.ylabel('mean accuracy')\n",
    "plt.show()"
   ]
  },
  {
   "cell_type": "code",
   "execution_count": 16,
   "id": "1016b1ca",
   "metadata": {},
   "outputs": [],
   "source": [
    "# Result\n",
    "# picture of plot saved as 'max_depth_5_30.png'\n",
    "# runtime: 312 seconds or 5.2 minutes runtime"
   ]
  },
  {
   "cell_type": "code",
   "execution_count": 17,
   "id": "5055fac2",
   "metadata": {},
   "outputs": [
    {
     "name": "stdout",
     "output_type": "stream",
     "text": [
      "0.0 seconds runtime\n"
     ]
    }
   ],
   "source": [
    "# trial 2\n",
    "\n",
    "start = time.time()\n",
    "# uncomment next line will take forever\n",
    "# accuracies4 = [cross_val(RandomForestClassifier(n_estimators=80, max_depth=i)) for i in trange(10,100,10)]\n",
    "end = time.time()\n",
    "\n",
    "print(end-start, 'seconds runtime')"
   ]
  },
  {
   "cell_type": "code",
   "execution_count": 18,
   "id": "94f4e005",
   "metadata": {},
   "outputs": [
    {
     "data": {
      "image/png": "[encoded data removed]",
      "text/plain": [
       "<Figure size 432x288 with 1 Axes>"
      ]
     },
     "metadata": {
      "needs_background": "light"
     },
     "output_type": "display_data"
    }
   ],
   "source": [
    "# plot\n",
    "# plt.plot(range(10,100,10), accuracies4)\n",
    "plt.title('Mean accuracy; increasing maximum depth')\n",
    "plt.xlabel('max_depth')\n",
    "plt.ylabel('mean accuracy')\n",
    "plt.show()"
   ]
  },
  {
   "cell_type": "code",
   "execution_count": 19,
   "id": "934fef86",
   "metadata": {},
   "outputs": [],
   "source": [
    "# Result\n",
    "# picture of plot saved as 'max_depth_10_100_10.png'\n",
    "# runtime: 120 seconds or 2 minutes runtime"
   ]
  },
  {
   "cell_type": "markdown",
   "id": "c8309c9b",
   "metadata": {},
   "source": [
    "## Interlude\n",
    "\n",
    "Because I had an idea and wanted to try it. Enjoy my random classifier not basd on anything but luck."
   ]
  },
  {
   "cell_type": "code",
   "execution_count": 20,
   "id": "efab6084",
   "metadata": {},
   "outputs": [],
   "source": [
    "def random_picker(list):\n",
    "    index = np.random.randint(len(list))\n",
    "    value = list[index]\n",
    "    return value\n",
    "\n",
    "def randomest_random_forest():\n",
    "    hyperparameter = []\n",
    "    \n",
    "    # n_estimators (50-200)\n",
    "    hyperparameter.append('n_estimators:')\n",
    "    n_estimator_choices = [i for i in range(50,201)]\n",
    "    n_estimators = random_picker(n_estimator_choices)\n",
    "    hyperparameter.append(n_estimators)\n",
    "\n",
    "    # max_depth (5-300)\n",
    "    hyperparameter.append('max_depth:')\n",
    "    max_depth_choices = [i for i in range(5,301)]\n",
    "    max_depth = random_picker(max_depth_choices)\n",
    "    hyperparameter.append(max_depth)\n",
    "\n",
    "    # max_features (auto, log2, int)\n",
    "    hyperparameter.append('max_features:')\n",
    "    max_features_choices = [i for i in range(0, X.shape[1])]\n",
    "    max_features = random_picker(max_features_choices)\n",
    "    hyperparameter.append(max_features)\n",
    "    \n",
    "    return hyperparameter, cross_val(RandomForestClassifier(n_estimators=n_estimators, max_depth=max_depth, max_features=max_features))"
   ]
  },
  {
   "cell_type": "code",
   "execution_count": 21,
   "id": "6f5a206b",
   "metadata": {},
   "outputs": [],
   "source": [
    "# Now we train a Random forest based on random hyperparameters and save them to 'log_randomest_random_forest.txt'"
   ]
  },
  {
   "cell_type": "code",
   "execution_count": 22,
   "id": "13090dfe",
   "metadata": {},
   "outputs": [],
   "source": [
    "# hyperparameter, evaluation = randomest_random_forest()\n",
    "\n",
    "# with open('log_randomest_random_forest.txt', mode=\"a+\") as f:\n",
    "#         f.write('hyperparameter: ' + str(hyperparameter) + '\\n')\n",
    "#         f.write(\"performance: \" + str(evaluation) + \"\\n\")"
   ]
  },
  {
   "cell_type": "code",
   "execution_count": 23,
   "id": "c8b8f74e",
   "metadata": {},
   "outputs": [],
   "source": [
    "# To perform n interations of the randomest random forest, call 'perform_randomest_rf(n)'.\n",
    "# This will append the evaluations into 'log_randomest_random_forest.txt'\n",
    "\n",
    "def perform_randomest_rf(iterations):\n",
    "    for i in trange(iterations):\n",
    "        \n",
    "        hyperparameter, evaluation = randomest_random_forest()\n",
    "        \n",
    "        with open('log_randomest_random_forest.txt', mode=\"a+\") as f:\n",
    "            f.write('hyperparameter: ' + str(hyperparameter) + '\\n')\n",
    "            f.write(\"performance: \" + str(evaluation) + \"\\n\")\n",
    "            \n",
    "    print('Done :)')"
   ]
  },
  {
   "cell_type": "code",
   "execution_count": 24,
   "id": "61f36a37",
   "metadata": {},
   "outputs": [],
   "source": [
    "# After performing the randomest random forest, call 'best_performance_randomest_rf()' to get the best performance\n",
    "# and the corresponding Hyperparameters\n",
    "\n",
    "def best_performance_randomest_rf():\n",
    "    with open('log_randomest_random_forest.txt', mode=\"r\") as h:\n",
    "        content = h.readlines()\n",
    "        performances = []\n",
    "\n",
    "        for i in content:\n",
    "            if i.startswith('performance'):\n",
    "                performances.append(i[13:-1])\n",
    "        best_performance = max(performances)\n",
    "\n",
    "        for i, e in enumerate(content):\n",
    "            if best_performance in e:\n",
    "                best_hypers = content[i-1][17:-2]\n",
    "\n",
    "        print(f'Best performance: {best_performance}\\nis given by hyperparameters: {best_hypers}')"
   ]
  },
  {
   "cell_type": "code",
   "execution_count": 25,
   "id": "8cdbc172",
   "metadata": {},
   "outputs": [],
   "source": [
    "# perform_randomest_rf(10)"
   ]
  },
  {
   "cell_type": "code",
   "execution_count": 26,
   "id": "3d808140",
   "metadata": {},
   "outputs": [
    {
     "name": "stdout",
     "output_type": "stream",
     "text": [
      "Best performance: 0.4789933348655482\n",
      "is given by hyperparameters: 'n_estimators:', 175, 'max_depth:', 151, 'max_features:', 166\n"
     ]
    }
   ],
   "source": [
    "best_performance_randomest_rf()"
   ]
  },
  {
   "cell_type": "code",
   "execution_count": 27,
   "id": "6301c8ca",
   "metadata": {},
   "outputs": [],
   "source": [
    "# Realized there is a skit inplementation similar to this, tried it in anther Notebook; see .txt for logs\n",
    "\n",
    "# best result\n",
    "# RandomForestRegressor(bootstrap=False, max_depth=50, max_features='sqrt', min_samples_leaf=2, n_estimators=800)\n",
    "# Model Performance\n",
    "# Average Error: 0.8146 degrees.\n",
    "# Accuracy = 56.43%.\n",
    "# Model Performance\n",
    "# Average Error: 0.7858 degrees.\n",
    "# Accuracy = 57.24%.\n",
    "# Improvement of 1.44%."
   ]
  },
  {
   "cell_type": "code",
   "execution_count": 28,
   "id": "347622d9",
   "metadata": {},
   "outputs": [],
   "source": [
    "# Random Forest Classifier - n_estimators=800, max_depth=50, max_features='sqrt', min_samples_leaf=2, bootstrap=False\n",
    "\n",
    "start = time.time()\n",
    "# best_crf = RandomForestClassifier(n_estimators=800, max_depth=50, max_features='sqrt', min_samples_leaf=2, bootstrap=False)\n",
    "# best_crf_val = cross_val(best_crf)\n",
    "end = time.time()\n",
    "runtime = f'{end-start} seconds'\n",
    "\n",
    "# print(f'Score for {best_crf}:')\n",
    "# print(f'{best_crf_val} in {runtime} runtime.')"
   ]
  },
  {
   "cell_type": "code",
   "execution_count": 29,
   "id": "51fc261e",
   "metadata": {},
   "outputs": [],
   "source": [
    "# Result\n",
    "# accuracy: 46.32%\n",
    "# runtime: 171 seconds or 2,85 minutes"
   ]
  },
  {
   "cell_type": "code",
   "execution_count": 30,
   "id": "bf944cb0",
   "metadata": {},
   "outputs": [],
   "source": [
    "# Random Forest Regressot - n_estimators=800, max_depth=50, max_features='sqrt', min_samples_leaf=2, bootstrap=False\n",
    "\n",
    "start = time.time()\n",
    "# best_rrf = RandomForestRegressor(n_estimators=800, max_depth=50, max_features='sqrt', min_samples_leaf=2, bootstrap=False)\n",
    "# best_rrf_val = cross_val(best_rrf)\n",
    "end = time.time()\n",
    "runtime = f'{end-start} seconds'\n",
    "\n",
    "# print(f'Score for {best_rrf}:')\n",
    "# print(f'{best_rrf_val} in {runtime} runtime.')"
   ]
  },
  {
   "cell_type": "code",
   "execution_count": 31,
   "id": "38c2a2f0",
   "metadata": {},
   "outputs": [],
   "source": [
    "# Result\n",
    "# accuracy: 12.02%\n",
    "# runtime: 154 seconds or 2,6 minutes"
   ]
  },
  {
   "cell_type": "code",
   "execution_count": 32,
   "id": "139fb034",
   "metadata": {},
   "outputs": [],
   "source": [
    "# This is odd, since in the other notebook (ruby3) this classifier achieved 57.24% accuracy.\n",
    "# There, I have used strict training and test set seperation. I will try this again:\n",
    "\n",
    "from sklearn.model_selection import train_test_split\n",
    "X_train, X_test, y_train, y_test = train_test_split(X, y, test_size=0.33, random_state=42)\n",
    "\n",
    "from sklearn.ensemble import RandomForestRegressor"
   ]
  },
  {
   "cell_type": "code",
   "execution_count": 33,
   "id": "a0339d38",
   "metadata": {},
   "outputs": [],
   "source": [
    "def evaluate(model, test_features, test_labels):\n",
    "    predictions = model.predict(test_features)\n",
    "    errors = abs(predictions - test_labels)\n",
    "    mape = 100 * np.mean(errors / test_labels)\n",
    "    accuracy = 100 - mape\n",
    "    print('Model Performance')\n",
    "    print('Average Error: {:0.4f} degrees.'.format(np.mean(errors)))\n",
    "    print('Accuracy = {:0.2f}%.'.format(accuracy))\n",
    "    \n",
    "    return accuracy"
   ]
  },
  {
   "cell_type": "code",
   "execution_count": 34,
   "id": "9ab1a490",
   "metadata": {},
   "outputs": [],
   "source": [
    "# best_random = RandomForestRegressor(bootstrap=False, max_depth=50, max_features='sqrt', min_samples_leaf=2, n_estimators=800)"
   ]
  },
  {
   "cell_type": "code",
   "execution_count": 35,
   "id": "17ee8b75",
   "metadata": {},
   "outputs": [],
   "source": [
    "# best_random.fit(X,y)\n",
    "# evaluate(best_random, X_test, y_test)"
   ]
  },
  {
   "cell_type": "code",
   "execution_count": 36,
   "id": "6fefc72f",
   "metadata": {},
   "outputs": [],
   "source": [
    "# Holy fucking cow"
   ]
  },
  {
   "cell_type": "code",
   "execution_count": 37,
   "id": "1a47185d",
   "metadata": {},
   "outputs": [
    {
     "data": {
      "text/plain": [
       "0.1190594786639477"
      ]
     },
     "execution_count": 37,
     "metadata": {},
     "output_type": "execute_result"
    }
   ],
   "source": [
    "rf = RandomForestRegressor(bootstrap=False, max_depth=50, max_features='sqrt', min_samples_leaf=2, n_estimators=800)\n",
    "rf.fit(X,y)\n",
    "cross_val(rf)"
   ]
  },
  {
   "cell_type": "code",
   "execution_count": null,
   "id": "9102baa0",
   "metadata": {},
   "outputs": [],
   "source": []
  }
 ],
 "metadata": {
  "kernelspec": {
   "display_name": "Python 3 (ipykernel)",
   "language": "python",
   "name": "python3"
  },
  "language_info": {
   "codemirror_mode": {
    "name": "ipython",
    "version": 3
   },
   "file_extension": ".py",
   "mimetype": "text/x-python",
   "name": "python",
   "nbconvert_exporter": "python",
   "pygments_lexer": "ipython3",
   "version": "3.10.4"
  }
 },
 "nbformat": 4,
 "nbformat_minor": 5
}
