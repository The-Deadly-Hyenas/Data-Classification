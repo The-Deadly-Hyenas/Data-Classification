{
 "cells": [
  {
   "cell_type": "markdown",
   "id": "65d79666",
   "metadata": {},
   "source": [
    "__________\n",
    "# Shit gets real here"
   ]
  },
  {
   "cell_type": "markdown",
   "id": "f8f44b1e",
   "metadata": {},
   "source": [
    "### Dataset and Imports"
   ]
  },
  {
   "cell_type": "code",
   "execution_count": 1,
   "id": "1686a86b",
   "metadata": {},
   "outputs": [],
   "source": [
    "import time\n",
    "from tqdm.notebook import tqdm, trange\n",
    "import pandas as pd\n",
    "import numpy as np\n",
    "import matplotlib.pyplot as plt\n",
    "import sklearn\n",
    "\n",
    "from sklearn.preprocessing import StandardScaler\n",
    "from sklearn.model_selection import cross_val_score, KFold"
   ]
  },
  {
   "cell_type": "code",
   "execution_count": 2,
   "id": "94fc0f1c",
   "metadata": {},
   "outputs": [],
   "source": [
    "data_all = pd.read_pickle('../training_dataset_task3/task_3_training_e8da4715deef7d56_f8b7378_pandas.pkl')\n",
    "data = data_all.loc[:,'pianist_id':'arousal']\n",
    "\n",
    "X = data.drop(['quadrant', 'valence', 'arousal'], axis=1)\n",
    "y = data['quadrant']\n",
    "\n",
    "# preprocess dataset\n",
    "X = StandardScaler().fit_transform(X)\n",
    "\n",
    "# cross validation\n",
    "kf = KFold(n_splits=10)"
   ]
  },
  {
   "cell_type": "code",
   "execution_count": 3,
   "id": "d71bc0c2",
   "metadata": {},
   "outputs": [],
   "source": [
    "def cross_val(model, kf=kf):\n",
    "    val = cross_val_score(estimator=model, X=X, y=y, cv=kf).mean()\n",
    "    # print(val, 'for', model)\n",
    "    return val"
   ]
  },
  {
   "cell_type": "markdown",
   "id": "2497206a",
   "metadata": {},
   "source": [
    "# Focus: Random Forests"
   ]
  },
  {
   "cell_type": "code",
   "execution_count": 4,
   "id": "73833c15",
   "metadata": {},
   "outputs": [],
   "source": [
    "from sklearn.ensemble import RandomForestClassifier"
   ]
  },
  {
   "cell_type": "markdown",
   "id": "366239f1",
   "metadata": {},
   "source": [
    "#### The hyperparameters\n",
    "\n",
    "**n_estimators:** int, default=100\n",
    "The number of trees in the forest.\n",
    "\n",
    "**criterion:** {“gini”, “entropy”}, default=”gini” <br>\n",
    "The function to measure the quality of a split. Supported criteria are “gini” for the Gini impurity and “entropy” for the information gain. Note: this parameter is tree-specific.\n",
    "\n",
    "**max_depth:** int, default=None <br>\n",
    "The maximum depth of the tree. If None, then nodes are expanded until all leaves are pure or until all leaves contain less than min_samples_split samples.\n",
    "\n",
    "**min_samples_split:** int or float, default=2 <br>\n",
    "The minimum number of samples required to split an internal node: <br>\n",
    "If int, then consider min_samples_split as the minimum number. <br>\n",
    "If float, then min_samples_split is a fraction and ceil(min_samples_split * n_samples) are the minimum number of samples for each split.\n",
    "\n",
    "**min_samples_leaf:** int or float, default=1 <br>\n",
    "The minimum number of samples required to be at a leaf node. A split point at any depth will only be considered if it leaves at least min_samples_leaf training samples in each of the left and right branches. This may have the effect of smoothing the model, especially in regression. <br>\n",
    "If int, then consider min_samples_leaf as the minimum number. <br>\n",
    "If float, then min_samples_leaf is a fraction and ceil(min_samples_leaf * n_samples) are the minimum number of samples for each node.\n",
    "\n",
    "**min_weight_fraction_leaf:** float, default=0.0 <br>\n",
    "The minimum weighted fraction of the sum total of weights (of all the input samples) required to be at a leaf node. Samples have equal weight when sample_weight is not provided.\n",
    "\n",
    "**max_features:**: {“auto”, “sqrt”, “log2”} int or float, default=”auto” <br>\n",
    "The number of features to consider when looking for the best split: <br>\n",
    "If int, then consider max_features features at each split. <br>\n",
    "If float, then max_features is a fraction and round(max_features * n_features) features are considered at each split. <br>\n",
    "If “auto”, then max_features=sqrt(n_features). <br>\n",
    "If “sqrt”, then max_features=sqrt(n_features) (same as “auto”). <br>\n",
    "If “log2”, then max_features=log2(n_features). <br>\n",
    "If None, then max_features=n_features. <br>\n",
    "Note: the search for a split does not stop until at least one valid partition of the node samples is found, even if it requires to effectively inspect more than max_features features.\n",
    "\n",
    "**max_leaf_nodes:** int, default=None <br>\n",
    "Grow trees with max_leaf_nodes in best-first fashion. Best nodes are defined as relative reduction in impurity. If None then unlimited number of leaf nodes.\n",
    "\n",
    "**min_impurity_decrease:** float, default=0.0 <br>\n",
    "A node will be split if this split induces a decrease of the impurity greater than or equal to this value.\n",
    "\n",
    "The weighted impurity decrease equation is the following: <br>\n",
    "N_t / N * (impurity - N_t_R / N_t * right_impurity\n",
    "                    - N_t_L / N_t * left_impurity) <br>\n",
    "where N is the total number of samples, N_t is the number of samples at the current node, N_t_L is the number of samples in the left child, and N_t_R is the number of samples in the right child. <br>\n",
    "N, N_t, N_t_R and N_t_L all refer to the weighted sum, if sample_weight is passed.\n",
    "\n",
    "\n",
    "**bootstrap:** bool, default=True <br>\n",
    "Whether bootstrap samples are used when building trees. If False, the whole dataset is used to build each tree.\n",
    "\n",
    "**oob_score:** bool, default=False <br>\n",
    "Whether to use out-of-bag samples to estimate the generalization score. Only available if bootstrap=True.\n",
    "\n",
    "**n_jobs:** int, default=None <br>\n",
    "The number of jobs to run in parallel. fit, predict, decision_path and apply are all parallelized over the trees. None means 1 unless in a joblib.parallel_backend context. -1 means using all processors.\n",
    "\n",
    "**random_state:** int RandomState instance or None, default=None <br>\n",
    "Controls both the randomness of the bootstrapping of the samples used when building trees (if bootstrap=True) and the sampling of the features to consider when looking for the best split at each node (if max_features < n_features). See Glossary for details.\n",
    "\n",
    "**verbose:** int, default=0 <br>\n",
    "Controls the verbosity when fitting and predicting.\n",
    "\n",
    "**warm_start:** bool, default=False <br>\n",
    "When set to True, reuse the solution of the previous call to fit and add more estimators to the ensemble, otherwise, just fit a whole new forest. See the Glossary.\n",
    "\n",
    "**class_weight:** {“balanced”, “balanced_subsample”} dict or list of dicts, default=None <br>\n",
    "Weights associated with classes in the form {class_label: weight}. If not given, all classes are supposed to have weight one. For multi-output problems, a list of dicts can be provided in the same order as the columns of y.\n",
    "\n",
    "**ccp_alpha:** non-negative float, default=0.0 <br>\n",
    "Complexity parameter used for Minimal Cost-Complexity Pruning. The subtree with the largest cost complexity that is smaller than ccp_alpha will be chosen. By default, no pruning is performed. See Minimal Cost-Complexity Pruning for details.\n",
    "\n",
    "**max_samples:** int or float, default=None <br>\n",
    "If bootstrap is True, the number of samples to draw from X to train each base estimator. <br>\n",
    "If None (default), then draw X.shape[0] samples. <br>\n",
    "If int, then draw max_samples samples. <br>\n",
    "If float, then draw max_samples * X.shape[0] samples. Thus, max_samples should be in the interval (0.0, 1.0]."
   ]
  },
  {
   "cell_type": "code",
   "execution_count": 5,
   "id": "a9e12bd2",
   "metadata": {},
   "outputs": [],
   "source": [
    "# Random Forest - no parameter specification\n",
    "\n",
    "# start = time.time()\n",
    "# rf0 = RandomForestClassifier()\n",
    "# val0 = cross_val(rf0)\n",
    "# end = time.time()\n",
    "# runtime = f'{end-start} seconds'\n",
    "\n",
    "# print(f'Score for {rf0}:')\n",
    "# print(f'{val0} in {runtime} runtime.')"
   ]
  },
  {
   "cell_type": "code",
   "execution_count": 6,
   "id": "6543670d",
   "metadata": {},
   "outputs": [],
   "source": [
    "# Random Forest - n_estimators=10, criterion=gini(default), max_deph=5, max_features=1\n",
    "\n",
    "# start = time.time()\n",
    "# rf1 = RandomForestClassifier(n_estimators=10, max_depth=5, max_features=1)\n",
    "# val1 = cross_val(rf1)\n",
    "# end = time.time()\n",
    "# runtime = f'{end-start} seconds'\n",
    "\n",
    "# print(f'Score for {rf1}:')\n",
    "# print(f'{val1} in {runtime} runtime.')"
   ]
  },
  {
   "cell_type": "markdown",
   "id": "9e5e28d2",
   "metadata": {},
   "source": [
    "## Hyperparameter - n_estimators (number of trees in forest)"
   ]
  },
  {
   "cell_type": "code",
   "execution_count": 7,
   "id": "b4831dc0",
   "metadata": {},
   "outputs": [
    {
     "name": "stdout",
     "output_type": "stream",
     "text": [
      "0.001028299331665039 seconds runtime\n"
     ]
    }
   ],
   "source": [
    "# trial 1\n",
    "\n",
    "start = time.time()\n",
    "# uncomment next line will take forever\n",
    "# accuracies = [cross_val(RandomForestClassifier(n_estimators=i)) for i in trange(10,300,10)]\n",
    "end = time.time()\n",
    "\n",
    "print(end-start, 'seconds runtime')"
   ]
  },
  {
   "cell_type": "code",
   "execution_count": 8,
   "id": "47df64a2",
   "metadata": {},
   "outputs": [
    {
     "data": {
      "image/png": "[encoded data removed]",
      "text/plain": [
       "<Figure size 432x288 with 1 Axes>"
      ]
     },
     "metadata": {
      "needs_background": "light"
     },
     "output_type": "display_data"
    }
   ],
   "source": [
    "# plot\n",
    "# plt.plot(range(10,300,10), accuracies)\n",
    "plt.title('Mean accuracy; increasing number of estimators')\n",
    "plt.xlabel('n_estimators')\n",
    "plt.ylabel('mean accuracy')\n",
    "plt.show()"
   ]
  },
  {
   "cell_type": "code",
   "execution_count": 9,
   "id": "4cfcf3cc",
   "metadata": {},
   "outputs": [],
   "source": [
    "# Result\n",
    "# picture of plot saved as 'n_estimators_10_300_10.png'\n",
    "# runtime: not yet measured"
   ]
  },
  {
   "cell_type": "code",
   "execution_count": 10,
   "id": "d8e648ea",
   "metadata": {},
   "outputs": [
    {
     "name": "stdout",
     "output_type": "stream",
     "text": [
      "0.0 seconds runtime\n"
     ]
    }
   ],
   "source": [
    "# trial 2\n",
    "\n",
    "start = time.time()\n",
    "# uncomment next line will take forever\n",
    "# accuracies2 = [cross_val(RandomForestClassifier(n_estimators=i)) for i in trange(240,340,10)]\n",
    "end = time.time()\n",
    "\n",
    "print(end-start, 'seconds runtime')"
   ]
  },
  {
   "cell_type": "code",
   "execution_count": 11,
   "id": "5c91048c",
   "metadata": {},
   "outputs": [
    {
     "data": {
      "image/png": "[encoded data removed]",
      "text/plain": [
       "<Figure size 432x288 with 1 Axes>"
      ]
     },
     "metadata": {
      "needs_background": "light"
     },
     "output_type": "display_data"
    }
   ],
   "source": [
    "# plot\n",
    "# plt.plot(range(240,340,10), accuracies2)\n",
    "plt.title('Mean accuracy; increasing number of estimators')\n",
    "plt.xlabel('n_estimators')\n",
    "plt.ylabel('mean accuracy')\n",
    "plt.show()"
   ]
  },
  {
   "cell_type": "code",
   "execution_count": 12,
   "id": "25a3b733",
   "metadata": {},
   "outputs": [],
   "source": [
    "# Result\n",
    "# picture of plot saved as 'n_estimators_240_340_10.png'\n",
    "# runtime: 473 seconds or 7.88 minutes runtime"
   ]
  },
  {
   "cell_type": "markdown",
   "id": "3639ce3a",
   "metadata": {},
   "source": [
    "### Facit\n",
    "\n",
    "Increasing the numbers of trees does not make a huge difference that justifies the extremely long runtime.<br>\n",
    "Let's settle on **80 trees**, which has around 0.47% accuracy and play with some other parameters instead!"
   ]
  },
  {
   "cell_type": "markdown",
   "id": "8029f77e",
   "metadata": {},
   "source": [
    "## Hyperparameter - Criterion"
   ]
  },
  {
   "cell_type": "code",
   "execution_count": 13,
   "id": "222d6323",
   "metadata": {},
   "outputs": [
    {
     "name": "stdout",
     "output_type": "stream",
     "text": [
      "Score for RandomForestClassifier(criterion='entropy', n_estimators=80):\n",
      "0.4601509231594269 in 25.770052194595337 seconds runtime.\n"
     ]
    }
   ],
   "source": [
    "# gini is default; try for 'entropy'\n",
    "\n",
    "start = time.time()\n",
    "rf_80_entropy = RandomForestClassifier(n_estimators=80, criterion='entropy')\n",
    "val_80_entropy = cross_val(rf_80_entropy)\n",
    "end = time.time()\n",
    "runtime = f'{end-start} seconds'\n",
    "\n",
    "print(f'Score for {rf_80_entropy}:')\n",
    "print(f'{val_80_entropy} in {runtime} runtime.')"
   ]
  },
  {
   "cell_type": "markdown",
   "id": "b74829e9",
   "metadata": {},
   "source": [
    "### Facit\n",
    "\n",
    "Varying between gini and entropy does not make a huge difference, so we will stick with the default value, **gini**."
   ]
  },
  {
   "cell_type": "markdown",
   "id": "0df7e6a0",
   "metadata": {},
   "source": [
    "## Hyperparameter - Max_Depth and Min_Sample_Split"
   ]
  },
  {
   "cell_type": "markdown",
   "id": "4e5ad11b",
   "metadata": {},
   "source": [
    "**Max_depth** defines how deep each single tree goes. <br>\n",
    "So far, we have not defined a maximum depth, therefore\n",
    "the algorithm continued to split the nodes until min_sample_split, which was by default 2. <br>\n",
    "Let's play around with these parameters."
   ]
  },
  {
   "cell_type": "code",
   "execution_count": 14,
   "id": "1f1d4f7f",
   "metadata": {},
   "outputs": [
    {
     "data": {
      "application/vnd.jupyter.widget-view+json": {
       "model_id": "709bff09ebed4b4da44e8e562627ae0e",
       "version_major": 2,
       "version_minor": 0
      },
      "text/plain": [
       "  0%|          | 0/25 [00:00<?, ?it/s]"
      ]
     },
     "metadata": {},
     "output_type": "display_data"
    },
    {
     "name": "stdout",
     "output_type": "stream",
     "text": [
      "312.0483651161194 seconds runtime\n"
     ]
    }
   ],
   "source": [
    "# trial 1\n",
    "\n",
    "start = time.time()\n",
    "# uncomment next line will take forever\n",
    "# accuracies3 = [cross_val(RandomForestClassifier(n_estimators=80, max_depth=i)) for i in trange(5,30)]\n",
    "end = time.time()\n",
    "\n",
    "print(end-start, 'seconds runtime')"
   ]
  },
  {
   "cell_type": "code",
   "execution_count": 16,
   "id": "093fd344",
   "metadata": {},
   "outputs": [
    {
     "data": {
      "image/png": "[encoded data removed]",
      "text/plain": [
       "<Figure size 432x288 with 1 Axes>"
      ]
     },
     "metadata": {
      "needs_background": "light"
     },
     "output_type": "display_data"
    }
   ],
   "source": [
    "# plot\n",
    "# plt.plot(range(5,30), accuracies3)\n",
    "plt.title('Mean accuracy; increasing maximum depth')\n",
    "plt.xlabel('max_depth')\n",
    "plt.ylabel('mean accuracy')\n",
    "plt.show()"
   ]
  },
  {
   "cell_type": "code",
   "execution_count": null,
   "id": "1016b1ca",
   "metadata": {},
   "outputs": [],
   "source": [
    "# Result\n",
    "# picture of plot saved as 'max_depth_5_30.png'\n",
    "# runtime: 312 seconds or 5.2 minutes runtime"
   ]
  },
  {
   "cell_type": "code",
   "execution_count": 18,
   "id": "5055fac2",
   "metadata": {},
   "outputs": [
    {
     "data": {
      "application/vnd.jupyter.widget-view+json": {
       "model_id": "2c8078a61be94aff8f2709ed532d68e8",
       "version_major": 2,
       "version_minor": 0
      },
      "text/plain": [
       "  0%|          | 0/9 [00:00<?, ?it/s]"
      ]
     },
     "metadata": {},
     "output_type": "display_data"
    },
    {
     "name": "stdout",
     "output_type": "stream",
     "text": [
      "119.91624546051025 seconds runtime\n"
     ]
    }
   ],
   "source": [
    "# trial 2\n",
    "\n",
    "start = time.time()\n",
    "# uncomment next line will take forever\n",
    "accuracies4 = [cross_val(RandomForestClassifier(n_estimators=80, max_depth=i)) for i in trange(10,100,10)]\n",
    "end = time.time()\n",
    "\n",
    "print(end-start, 'seconds runtime')"
   ]
  },
  {
   "cell_type": "code",
   "execution_count": 19,
   "id": "94f4e005",
   "metadata": {},
   "outputs": [
    {
     "data": {
      "image/png": "[encoded data removed]",
      "text/plain": [
       "<Figure size 432x288 with 1 Axes>"
      ]
     },
     "metadata": {
      "needs_background": "light"
     },
     "output_type": "display_data"
    }
   ],
   "source": [
    "# plot\n",
    "plt.plot(range(10,100,10), accuracies4)\n",
    "plt.title('Mean accuracy; increasing maximum depth')\n",
    "plt.xlabel('max_depth')\n",
    "plt.ylabel('mean accuracy')\n",
    "plt.show()"
   ]
  },
  {
   "cell_type": "code",
   "execution_count": 20,
   "id": "934fef86",
   "metadata": {},
   "outputs": [],
   "source": [
    "# Result\n",
    "# picture of plot saved as 'max_depth_10_100_10.png'\n",
    "# runtime: 120 seconds or 2 minutes runtime"
   ]
  },
  {
   "cell_type": "code",
   "execution_count": null,
   "id": "7ec37c56",
   "metadata": {},
   "outputs": [],
   "source": []
  }
 ],
 "metadata": {
  "kernelspec": {
   "display_name": "Python 3 (ipykernel)",
   "language": "python",
   "name": "python3"
  },
  "language_info": {
   "codemirror_mode": {
    "name": "ipython",
    "version": 3
   },
   "file_extension": ".py",
   "mimetype": "text/x-python",
   "name": "python",
   "nbconvert_exporter": "python",
   "pygments_lexer": "ipython3",
   "version": "3.10.4"
  }
 },
 "nbformat": 4,
 "nbformat_minor": 5
}
