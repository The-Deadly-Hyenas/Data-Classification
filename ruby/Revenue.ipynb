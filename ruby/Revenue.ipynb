{
 "cells": [
  {
   "cell_type": "markdown",
   "id": "3b9069cb",
   "metadata": {},
   "source": [
    "# Revenue"
   ]
  },
  {
   "cell_type": "markdown",
   "id": "eccd1504",
   "metadata": {},
   "source": [
    "### Imports"
   ]
  },
  {
   "cell_type": "code",
   "execution_count": 16,
   "id": "3951a2d8",
   "metadata": {},
   "outputs": [],
   "source": [
    "import pandas as pd\n",
    "import numpy as np\n",
    "\n",
    "from sklearn.preprocessing import StandardScaler\n",
    "from sklearn.model_selection import train_test_split\n",
    "from sklearn.ensemble import RandomForestRegressor, RandomForestClassifier\n",
    "from sklearn.metrics import accuracy_score"
   ]
  },
  {
   "cell_type": "markdown",
   "id": "f68baf06",
   "metadata": {},
   "source": [
    "### Datadet and Preparation"
   ]
  },
  {
   "cell_type": "code",
   "execution_count": 160,
   "id": "dbfd9314",
   "metadata": {},
   "outputs": [],
   "source": [
    "df = pd.read_pickle('../training_dataset_task3/task_3_training_e8da4715deef7d56_f8b7378_pandas.pkl').reset_index()\n",
    "\n",
    "# only low and mid level features in X\n",
    "X = df.loc[:, 'essentia_dissonance_mean':'mirtoolbox_roughness_pct_90']\n",
    "y = df['quadrant']"
   ]
  },
  {
   "cell_type": "code",
   "execution_count": 161,
   "id": "32ae2a61",
   "metadata": {},
   "outputs": [
    {
     "data": {
      "text/plain": [
       "((1471, 169), (725, 169), (86, 169))"
      ]
     },
     "execution_count": 161,
     "metadata": {},
     "output_type": "execute_result"
    }
   ],
   "source": [
    "from sklearn.model_selection import cross_val_score\n",
    "\n",
    "# add segment ID to feature space\n",
    "X['segment_id'] = df['segment_id']\n",
    "\n",
    "# pick segment 26 for final evaluation\n",
    "final_test_X = X[X['segment_id']==26]\n",
    "final_test_y = y[X['segment_id']==26]\n",
    "\n",
    "# drop segment ID column\n",
    "final_test_X = final_test_X.drop(['segment_id'], axis=1)\n",
    "\n",
    "\n",
    "# drop segment 26 from dataset to use for final evaluation, y first\n",
    "y = y.drop(X[X['segment_id']==26].index, axis=0)\n",
    "X = X.drop(X[X['segment_id']==26].index, axis=0)\n",
    "\n",
    "# drop segment ID column\n",
    "X = X.drop(['segment_id'], axis=1)\n",
    "\n",
    "\n",
    "# preprocess dataset\n",
    "X_std = StandardScaler().fit_transform(X)\n",
    "X = pd.DataFrame(X_std, columns=X.columns)\n",
    "\n",
    "\n",
    "\n",
    "\n",
    "# Split in Training and Test Set\n",
    "X_train, X_test, y_train, y_test = train_test_split(X, y, test_size=0.33, random_state=42)\n",
    "\n",
    "X_train.shape, X_test.shape, final_test_X.shape"
   ]
  },
  {
   "cell_type": "markdown",
   "id": "cdee64de",
   "metadata": {},
   "source": [
    "### Classifiers"
   ]
  },
  {
   "cell_type": "code",
   "execution_count": 44,
   "id": "c564158e",
   "metadata": {},
   "outputs": [],
   "source": [
    "def cross_val(model, kf=10):\n",
    "    val = cross_val_score(estimator=model, X=X, y=y, cv=kf).mean()\n",
    "    return val"
   ]
  },
  {
   "cell_type": "code",
   "execution_count": 45,
   "id": "9028fb1f",
   "metadata": {},
   "outputs": [
    {
     "data": {
      "text/plain": [
       "RandomForestClassifier(bootstrap=False, max_depth=90, min_samples_leaf=2,\n",
       "                       min_samples_split=5, n_estimators=200)"
      ]
     },
     "execution_count": 45,
     "metadata": {},
     "output_type": "execute_result"
    }
   ],
   "source": [
    "best_random = RandomForestClassifier(bootstrap=False, max_depth=90, min_samples_leaf=2, min_samples_split=5, n_estimators=200)\n",
    "best_random.fit(X_train, y_train)"
   ]
  },
  {
   "cell_type": "code",
   "execution_count": 46,
   "id": "b29dae72",
   "metadata": {},
   "outputs": [
    {
     "data": {
      "text/plain": [
       "0.45037152345371523"
      ]
     },
     "execution_count": 46,
     "metadata": {},
     "output_type": "execute_result"
    }
   ],
   "source": [
    "cross_val(best_random)"
   ]
  },
  {
   "cell_type": "code",
   "execution_count": 60,
   "id": "1e184780",
   "metadata": {},
   "outputs": [],
   "source": [
    "brf_fin = best_random.predict(final_test_X)\n",
    "hm = brf_fin - np.array(final_test_y) == 0\n",
    "sc = 0\n",
    "for i in hm:\n",
    "    if i == True:\n",
    "        sc +=1\n",
    "sc/len(final_test_y)\n",
    "\n",
    "preds = best_random.predict(X_test)\n",
    "actual = np.array(y_test)\n",
    "\n",
    "# preds == actual"
   ]
  },
  {
   "cell_type": "markdown",
   "id": "27a08bfb",
   "metadata": {},
   "source": [
    "### Matrix Gain"
   ]
  },
  {
   "cell_type": "code",
   "execution_count": 28,
   "id": "cc6a3320",
   "metadata": {},
   "outputs": [],
   "source": [
    "gain = np.array([[5, -5, -5, 2], [-5, 10, 2, -5], [-5, 2, 10, -5], [2, -5, -2, 5]])\n",
    "# gain"
   ]
  },
  {
   "cell_type": "code",
   "execution_count": 73,
   "id": "d50d361f",
   "metadata": {},
   "outputs": [],
   "source": [
    "def revenue(clf, X=X_test, y=y_test):\n",
    "    rev = 0\n",
    "    preds = clf.predict(X)\n",
    "    actual = np.array(y)\n",
    "        \n",
    "    for p in range(len(preds)):\n",
    "        if preds[p] == 2: # prediction is angry\n",
    "            if actual[p] == 2: # actually angry\n",
    "                rev += 10 \n",
    "            if actual[p] == 1: # actually happy\n",
    "                rev -= 5\n",
    "            if actual[p] == 3: # actually sad\n",
    "                rev += 2\n",
    "            if actual[p] == 4: # actually relaxed\n",
    "                rev -= 5\n",
    "                \n",
    "        if preds[p] == 1: # prediction is happy\n",
    "            if actual[p] == 1: # actually happy\n",
    "                rev += 5\n",
    "            if actual[p] == 2: # actually angry\n",
    "                rev -= 5\n",
    "            if actual[p] == 3: # actually sad\n",
    "                rev -= 5\n",
    "            if actual[p] == 4: # actually relaxed\n",
    "                rev += 2\n",
    "                \n",
    "        if preds[p] == 3: # prediction is sad\n",
    "            if actual[p] == 1: # actually happy\n",
    "                rev -= 5\n",
    "            if actual[p] == 2: # actually angry\n",
    "                rev += 2\n",
    "            if actual[p] == 3: # actually sad\n",
    "                rev += 10\n",
    "            if actual[p] == 4: # actually relaxed\n",
    "                rev -= 2\n",
    "                \n",
    "        if preds[p] == 4: # prediction is relaxed\n",
    "            if actual[p] == 1: # actually happy\n",
    "                rev += 2\n",
    "            if actual[p] == 2: # actually angry\n",
    "                rev -= 5\n",
    "            if actual[p] == 3: # actually sad\n",
    "                rev -= 5\n",
    "            if actual[p] == 4: # actually relaxed\n",
    "                rev += 5\n",
    "    \n",
    "    return rev"
   ]
  },
  {
   "cell_type": "code",
   "execution_count": 75,
   "id": "ba1da415",
   "metadata": {},
   "outputs": [
    {
     "data": {
      "text/plain": [
       "1926"
      ]
     },
     "execution_count": 75,
     "metadata": {},
     "output_type": "execute_result"
    }
   ],
   "source": [
    "# Revenue on X_test, y_test\n",
    "revenue(best_random)"
   ]
  },
  {
   "cell_type": "code",
   "execution_count": 76,
   "id": "d23a8fc6",
   "metadata": {},
   "outputs": [
    {
     "data": {
      "text/plain": [
       "-87"
      ]
     },
     "execution_count": 76,
     "metadata": {},
     "output_type": "execute_result"
    }
   ],
   "source": [
    "# Revenue on segment 26\n",
    "revenue(best_random, final_test_X, final_test_y)"
   ]
  },
  {
   "cell_type": "markdown",
   "id": "5e4bb0ba",
   "metadata": {},
   "source": [
    "___"
   ]
  },
  {
   "cell_type": "markdown",
   "id": "7d031a9c",
   "metadata": {},
   "source": [
    "# Search"
   ]
  },
  {
   "cell_type": "code",
   "execution_count": 79,
   "id": "8059cc23",
   "metadata": {},
   "outputs": [],
   "source": [
    "from pprint import pprint"
   ]
  },
  {
   "cell_type": "code",
   "execution_count": 80,
   "id": "420759c5",
   "metadata": {},
   "outputs": [
    {
     "name": "stdout",
     "output_type": "stream",
     "text": [
      "{'bootstrap': [True, False],\n",
      " 'max_depth': [10, 20, 30, 40, 50, 60, 70, 80, 90, 100, 110, None],\n",
      " 'max_features': ['auto', 'sqrt'],\n",
      " 'min_samples_leaf': [1, 2, 4],\n",
      " 'min_samples_split': [2, 5, 10],\n",
      " 'n_estimators': [200, 400, 600, 800, 1000, 1200, 1400, 1600, 1800, 2000]}\n"
     ]
    }
   ],
   "source": [
    "# Number of trees in random forest\n",
    "n_estimators = [int(x) for x in np.linspace(start = 200, stop = 2000, num = 10)]\n",
    "\n",
    "# Number of features to consider at every split\n",
    "max_features = ['auto', 'sqrt']\n",
    "\n",
    "# Maximum number of levels in tree\n",
    "max_depth = [int(x) for x in np.linspace(10, 110, num = 11)]\n",
    "max_depth.append(None)\n",
    "\n",
    "# Minimum number of samples required to split a node\n",
    "min_samples_split = [2, 5, 10]\n",
    "\n",
    "# Minimum number of samples required at each leaf node\n",
    "min_samples_leaf = [1, 2, 4]\n",
    "\n",
    "# Method of selecting samples for training each tree\n",
    "bootstrap = [True, False]\n",
    "\n",
    "# Create the random grid\n",
    "random_grid = {'n_estimators': n_estimators,\n",
    "               'max_features': max_features,\n",
    "               'max_depth': max_depth,\n",
    "               'min_samples_split': min_samples_split,\n",
    "               'min_samples_leaf': min_samples_leaf,\n",
    "               'bootstrap': bootstrap}\n",
    "\n",
    "pprint(random_grid)"
   ]
  },
  {
   "cell_type": "code",
   "execution_count": 115,
   "id": "7b79d7c8",
   "metadata": {},
   "outputs": [],
   "source": [
    "scores = [0]\n",
    "clfs = []"
   ]
  },
  {
   "cell_type": "code",
   "execution_count": 116,
   "id": "61009582",
   "metadata": {},
   "outputs": [
    {
     "name": "stdout",
     "output_type": "stream",
     "text": [
      "RandomForestClassifier(bootstrap=False, max_depth=110, max_features='sqrt',\n",
      "                       min_samples_split=10, n_estimators=1600)\n",
      "1974\n",
      "RandomForestClassifier(bootstrap=False, max_depth=110, n_estimators=1800)\n",
      "1991\n",
      "RandomForestClassifier(bootstrap=False, max_depth=100, max_features='sqrt',\n",
      "                       min_samples_leaf=4, min_samples_split=10,\n",
      "                       n_estimators=800)\n",
      "1880\n",
      "RandomForestClassifier(max_depth=60, min_samples_leaf=2, n_estimators=1000)\n",
      "1957\n",
      "RandomForestClassifier(max_depth=110, min_samples_leaf=2, min_samples_split=5,\n",
      "                       n_estimators=1000)\n",
      "1945\n",
      "RandomForestClassifier(max_depth=10, max_features='sqrt', min_samples_split=10,\n",
      "                       n_estimators=1200)\n",
      "1772\n",
      "RandomForestClassifier(bootstrap=False, max_depth=20, max_features='sqrt',\n",
      "                       min_samples_split=10, n_estimators=1200)\n",
      "2006\n",
      "RandomForestClassifier(bootstrap=False, max_depth=90, max_features='sqrt',\n",
      "                       min_samples_leaf=4, n_estimators=1200)\n",
      "1980\n",
      "RandomForestClassifier(max_features='sqrt', min_samples_leaf=4,\n",
      "                       n_estimators=1600)\n",
      "1877\n",
      "RandomForestClassifier(max_depth=40, max_features='sqrt', min_samples_leaf=4,\n",
      "                       min_samples_split=5, n_estimators=1000)\n",
      "1836\n"
     ]
    }
   ],
   "source": [
    "tries = 10\n",
    "for i in range(tries):\n",
    "    clf = RandomForestClassifier(n_estimators=n_estimators[np.random.randint(len(n_estimators))],\n",
    "                                min_samples_split=min_samples_split[np.random.randint(len(min_samples_split))],\n",
    "                                max_depth=max_depth[np.random.randint(len(max_depth))],\n",
    "                                max_features=max_features[np.random.randint(len(max_features))],\n",
    "                                min_samples_leaf=min_samples_leaf[np.random.randint(len(min_samples_leaf))],\n",
    "                                bootstrap=bootstrap[np.random.randint(len(bootstrap))]\n",
    "                                )\n",
    "    print(clf)\n",
    "    clf.fit(X_train, y_train)\n",
    "    score = revenue(clf)\n",
    "    print(score, '\\n')\n",
    "    for i in scores:\n",
    "        if score > i:\n",
    "            clfs.append(f'{clf}, \"-->\", {score}')\n",
    "            scores.append(score)"
   ]
  },
  {
   "cell_type": "code",
   "execution_count": 117,
   "id": "08d6bef7",
   "metadata": {},
   "outputs": [
    {
     "data": {
      "text/plain": [
       "'RandomForestClassifier(bootstrap=False, max_depth=20, max_features=\\'sqrt\\',\\n                       min_samples_split=10, n_estimators=1200), \"-->\", 2006'"
      ]
     },
     "execution_count": 117,
     "metadata": {},
     "output_type": "execute_result"
    }
   ],
   "source": [
    "most_rev = max(scores)\n",
    "max_index=scores.index(most_rev)\n",
    "clfs[max_index]"
   ]
  },
  {
   "cell_type": "code",
   "execution_count": 118,
   "id": "5252d0dc",
   "metadata": {},
   "outputs": [
    {
     "data": {
      "text/plain": [
       "(1964, -105)"
      ]
     },
     "execution_count": 118,
     "metadata": {},
     "output_type": "execute_result"
    }
   ],
   "source": [
    "###\n",
    "rfb_rev = RandomForestClassifier(bootstrap=False, max_depth=20, max_features='sqrt', min_samples_split=10, n_estimators=1200)\n",
    "rfb_rev.fit(X_train, y_train)\n",
    "\n",
    "revenue(rfb_rev), revenue(rfb_rev, final_test_X, final_test_y)"
   ]
  },
  {
   "cell_type": "code",
   "execution_count": 120,
   "id": "9acc5679",
   "metadata": {},
   "outputs": [
    {
     "data": {
      "text/plain": [
       "10"
      ]
     },
     "execution_count": 120,
     "metadata": {},
     "output_type": "execute_result"
    }
   ],
   "source": [
    "#### less n_estimators\n",
    "scores = [0]\n",
    "clfs = []"
   ]
  },
  {
   "cell_type": "code",
   "execution_count": 121,
   "id": "b8b8ca54",
   "metadata": {},
   "outputs": [
    {
     "name": "stdout",
     "output_type": "stream",
     "text": [
      "RandomForestClassifier(max_depth=110, min_samples_leaf=2, min_samples_split=10,\n",
      "                       n_estimators=400)\n",
      "1868 \n",
      "\n",
      "RandomForestClassifier(bootstrap=False, max_depth=80, min_samples_leaf=2,\n",
      "                       min_samples_split=10, n_estimators=200)\n",
      "1902 \n",
      "\n",
      "RandomForestClassifier(max_depth=30, min_samples_leaf=2, min_samples_split=10,\n",
      "                       n_estimators=1000)\n",
      "1886 \n",
      "\n",
      "RandomForestClassifier(max_features='sqrt', min_samples_leaf=4,\n",
      "                       min_samples_split=10, n_estimators=200)\n",
      "1848 \n",
      "\n",
      "RandomForestClassifier(bootstrap=False, max_depth=10, min_samples_leaf=4,\n",
      "                       min_samples_split=5, n_estimators=400)\n",
      "1871 \n",
      "\n",
      "RandomForestClassifier(max_depth=60, max_features='sqrt', min_samples_split=10,\n",
      "                       n_estimators=800)\n",
      "1896 \n",
      "\n",
      "RandomForestClassifier(max_depth=90, max_features='sqrt', n_estimators=400)\n",
      "1936 \n",
      "\n",
      "RandomForestClassifier(bootstrap=False, min_samples_leaf=4, n_estimators=1000)\n",
      "1920 \n",
      "\n",
      "RandomForestClassifier(bootstrap=False, max_depth=100, max_features='sqrt',\n",
      "                       n_estimators=600)\n",
      "1943 \n",
      "\n",
      "RandomForestClassifier(max_depth=40, max_features='sqrt', min_samples_leaf=4,\n",
      "                       min_samples_split=10, n_estimators=800)\n",
      "1765 \n",
      "\n"
     ]
    }
   ],
   "source": [
    "tries = 10\n",
    "for i in range(tries):\n",
    "    clf = RandomForestClassifier(n_estimators=n_estimators[np.random.randint(5)],\n",
    "                                min_samples_split=min_samples_split[np.random.randint(len(min_samples_split))],\n",
    "                                max_depth=max_depth[np.random.randint(len(max_depth))],\n",
    "                                max_features=max_features[np.random.randint(len(max_features))],\n",
    "                                min_samples_leaf=min_samples_leaf[np.random.randint(len(min_samples_leaf))],\n",
    "                                bootstrap=bootstrap[np.random.randint(len(bootstrap))]\n",
    "                                )\n",
    "    print(clf)\n",
    "    clf.fit(X_train, y_train)\n",
    "    score = revenue(clf)\n",
    "    print(score, '\\n')\n",
    "    for i in scores:\n",
    "        if score > i:\n",
    "            clfs.append(f'{clf}, \"-->\", {score}')\n",
    "            scores.append(score)"
   ]
  },
  {
   "cell_type": "code",
   "execution_count": 122,
   "id": "ede1dde1",
   "metadata": {},
   "outputs": [
    {
     "data": {
      "text/plain": [
       "'RandomForestClassifier(bootstrap=False, max_depth=100, max_features=\\'sqrt\\',\\n                       n_estimators=600), \"-->\", 1943'"
      ]
     },
     "execution_count": 122,
     "metadata": {},
     "output_type": "execute_result"
    }
   ],
   "source": [
    "most_rev = max(scores)\n",
    "max_index=scores.index(most_rev)\n",
    "clfs[max_index]"
   ]
  },
  {
   "cell_type": "code",
   "execution_count": 124,
   "id": "64b0e878",
   "metadata": {},
   "outputs": [
    {
     "data": {
      "text/plain": [
       "(1939, 151)"
      ]
     },
     "execution_count": 124,
     "metadata": {},
     "output_type": "execute_result"
    }
   ],
   "source": [
    "###\n",
    "rfb_rev = RandomForestClassifier(bootstrap=False, max_depth=100, max_features='sqrt', n_estimators=600)\n",
    "rfb_rev.fit(X_train, y_train)"
   ]
  },
  {
   "cell_type": "code",
   "execution_count": 151,
   "id": "d75e7914",
   "metadata": {},
   "outputs": [],
   "source": [
    "tot_rev_y_test = 0\n",
    "y_test = np.array(y_test)\n",
    "for i in range(len(y_test)):\n",
    "    if y_test[i] == 1:\n",
    "        tot_rev_y_test += 5\n",
    "    if y_test[i] == 2:\n",
    "        tot_rev_y_test += 10\n",
    "    if y_test[i] == 3:\n",
    "        tot_rev_y_test += 10\n",
    "    if y_test[i] == 4:\n",
    "        tot_rev_y_test += 5"
   ]
  },
  {
   "cell_type": "code",
   "execution_count": 157,
   "id": "e09555cb",
   "metadata": {},
   "outputs": [],
   "source": [
    "tot_rev_26 = 0\n",
    "final_test_y = np.array(final_test_y)\n",
    "for i in range(len(final_test_y)):\n",
    "    if y_test[i] == 1:\n",
    "        tot_rev_26 += 5\n",
    "    if y_test[i] == 2:\n",
    "        tot_rev_26 += 10\n",
    "    if y_test[i] == 3:\n",
    "        tot_rev_26 += 10\n",
    "    if y_test[i] == 4:\n",
    "        tot_rev_26 += 5"
   ]
  },
  {
   "cell_type": "code",
   "execution_count": 162,
   "id": "7d1b93cb",
   "metadata": {},
   "outputs": [
    {
     "name": "stdout",
     "output_type": "stream",
     "text": [
      "Revenue on X_test: 1939/5480\n",
      "Revenue on Segment 26: 151/465\n"
     ]
    }
   ],
   "source": [
    "print(f'Revenue on X_test: {revenue(rfb_rev)}/{tot_rev_y_test}')\n",
    "print(f'Revenue on Segment 26: {revenue(rfb_rev, final_test_X, final_test_y)}/465')"
   ]
  },
  {
   "cell_type": "code",
   "execution_count": 163,
   "id": "504c9e05",
   "metadata": {},
   "outputs": [
    {
     "data": {
      "text/plain": [
       "RandomForestClassifier(bootstrap=False, max_depth=100, max_features='sqrt',\n",
       "                       n_estimators=200)"
      ]
     },
     "execution_count": 163,
     "metadata": {},
     "output_type": "execute_result"
    }
   ],
   "source": [
    "###\n",
    "rev200 = RandomForestClassifier(bootstrap=False, max_depth=100, max_features='sqrt', n_estimators=200)\n",
    "rev200.fit(X_train, y_train)"
   ]
  },
  {
   "cell_type": "code",
   "execution_count": 164,
   "id": "8843c3bd",
   "metadata": {},
   "outputs": [
    {
     "name": "stdout",
     "output_type": "stream",
     "text": [
      "Revenue on X_test: 2031/5480\n",
      "Revenue on Segment 26: 38/465\n"
     ]
    }
   ],
   "source": [
    "print(f'Revenue on X_test: {revenue(rev200)}/{tot_rev_y_test}')\n",
    "print(f'Revenue on Segment 26: {revenue(rev200, final_test_X, final_test_y)}/465')"
   ]
  },
  {
   "cell_type": "code",
   "execution_count": 203,
   "id": "f845ccab",
   "metadata": {},
   "outputs": [
    {
     "name": "stdout",
     "output_type": "stream",
     "text": [
      "Revenue on X_test: 1942/5480\n",
      "Revenue on Segment 26: 34/465\n"
     ]
    }
   ],
   "source": [
    "rev300 = RandomForestClassifier(bootstrap=False, max_depth=100, max_features='sqrt', n_estimators=30)\n",
    "rev300.fit(X_train, y_train)\n",
    "\n",
    "print(f'Revenue on X_test: {revenue(rev300)}/{tot_rev_y_test}')\n",
    "print(f'Revenue on Segment 26: {revenue(rev300, final_test_X, final_test_y)}/465')"
   ]
  },
  {
   "cell_type": "code",
   "execution_count": 204,
   "id": "401509d8",
   "metadata": {},
   "outputs": [
    {
     "name": "stdout",
     "output_type": "stream",
     "text": [
      "Revenue on X_test: 1979/5480\n",
      "Revenue on Segment 26: 110/465\n"
     ]
    }
   ],
   "source": [
    "rev400 = RandomForestClassifier(bootstrap=False, max_depth=100, max_features='sqrt', n_estimators=400)\n",
    "rev400.fit(X_train, y_train)\n",
    "\n",
    "print(f'Revenue on X_test: {revenue(rev400)}/{tot_rev_y_test}')\n",
    "print(f'Revenue on Segment 26: {revenue(rev400, final_test_X, final_test_y)}/465')"
   ]
  },
  {
   "cell_type": "code",
   "execution_count": 168,
   "id": "5b47fa4d",
   "metadata": {},
   "outputs": [],
   "source": [
    "import matplotlib.pyplot as plt"
   ]
  },
  {
   "cell_type": "code",
   "execution_count": 181,
   "id": "369a74ad",
   "metadata": {},
   "outputs": [],
   "source": [
    "revens = []\n",
    "for i in range(200,600,10):\n",
    "    clf = RandomForestClassifier(bootstrap=False, max_depth=100, max_features='sqrt', n_estimators=i)\n",
    "    clf.fit(X_train, y_train)\n",
    "    revens.append(revenue(clf))"
   ]
  },
  {
   "cell_type": "code",
   "execution_count": 210,
   "id": "3a0a889e",
   "metadata": {},
   "outputs": [
    {
     "data": {
      "image/png": "[encoded data removed]",
      "text/plain": [
       "<Figure size 432x288 with 1 Axes>"
      ]
     },
     "metadata": {
      "needs_background": "light"
     },
     "output_type": "display_data"
    }
   ],
   "source": [
    "plt.plot(range(200,600,10), revens)\n",
    "plt.title('Increasing number of n_estimators')\n",
    "plt.xlabel('n_estimators')\n",
    "plt.ylabel('Revenue (on X_test)')\n",
    "plt.show()"
   ]
  },
  {
   "cell_type": "code",
   "execution_count": 207,
   "id": "30c2d8b1",
   "metadata": {},
   "outputs": [
    {
     "data": {
      "text/plain": [
       "(2123, 8)"
      ]
     },
     "execution_count": 207,
     "metadata": {},
     "output_type": "execute_result"
    }
   ],
   "source": [
    "most_rev = max(revens)\n",
    "max_index=revens.index(most_rev)\n",
    "\n",
    "most_rev, max_index"
   ]
  },
  {
   "cell_type": "code",
   "execution_count": 201,
   "id": "8abc5613",
   "metadata": {},
   "outputs": [],
   "source": [
    "n = []\n",
    "for i in range(200,600,10):\n",
    "    n.append(i)\n",
    "    \n",
    "n_estimators=n[8]"
   ]
  },
  {
   "cell_type": "code",
   "execution_count": 215,
   "id": "ee4785c3",
   "metadata": {},
   "outputs": [
    {
     "name": "stdout",
     "output_type": "stream",
     "text": [
      "Revenue on X_test: 1979/5480\n",
      "Revenue on Segment 26: 138/465\n"
     ]
    }
   ],
   "source": [
    "rev280 = None\n",
    "rev280 = RandomForestClassifier(bootstrap=False, max_depth=100, max_features='sqrt', n_estimators=n_estimators)\n",
    "rev280.fit(X_train, y_train)\n",
    "\n",
    "print(f'Revenue on X_test: {revenue(rev280)}/{tot_rev_y_test}')\n",
    "print(f'Revenue on Segment 26: {revenue(rev280, final_test_X, final_test_y)}/465')"
   ]
  },
  {
   "cell_type": "code",
   "execution_count": null,
   "id": "4a0854f5",
   "metadata": {},
   "outputs": [],
   "source": []
  }
 ],
 "metadata": {
  "kernelspec": {
   "display_name": "Python 3 (ipykernel)",
   "language": "python",
   "name": "python3"
  },
  "language_info": {
   "codemirror_mode": {
    "name": "ipython",
    "version": 3
   },
   "file_extension": ".py",
   "mimetype": "text/x-python",
   "name": "python",
   "nbconvert_exporter": "python",
   "pygments_lexer": "ipython3",
   "version": "3.10.4"
  }
 },
 "nbformat": 4,
 "nbformat_minor": 5
}
