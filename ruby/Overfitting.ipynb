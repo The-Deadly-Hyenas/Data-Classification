{
 "cells": [
  {
   "cell_type": "markdown",
   "id": "85c8c04d",
   "metadata": {},
   "source": [
    "# Overfitting"
   ]
  },
  {
   "cell_type": "markdown",
   "id": "3aa73cdf",
   "metadata": {},
   "source": [
    "### Imports and Dataset"
   ]
  },
  {
   "cell_type": "code",
   "execution_count": 2,
   "id": "04a58d10",
   "metadata": {},
   "outputs": [],
   "source": [
    "import pandas as pd\n",
    "import numpy as np\n",
    "\n",
    "from sklearn.preprocessing import StandardScaler\n",
    "from sklearn.model_selection import train_test_split\n",
    "from sklearn.ensemble import RandomForestRegressor, RandomForestClassifier\n",
    "from sklearn.metrics import accuracy_score"
   ]
  },
  {
   "cell_type": "code",
   "execution_count": 3,
   "id": "9ed20476",
   "metadata": {},
   "outputs": [],
   "source": [
    "df = pd.read_pickle('../training_dataset_task3/task_3_training_e8da4715deef7d56_f8b7378_pandas.pkl').reset_index()\n",
    "\n",
    "# only low and mid level features in X\n",
    "X = df.loc[:, 'essentia_dissonance_mean':'mirtoolbox_roughness_pct_90']\n",
    "y = df['quadrant']"
   ]
  },
  {
   "cell_type": "markdown",
   "id": "8cb7655b",
   "metadata": {},
   "source": [
    "### Cross Validation - hold out on segment 26, used for final testing"
   ]
  },
  {
   "cell_type": "code",
   "execution_count": 4,
   "id": "1bcc9e57",
   "metadata": {},
   "outputs": [],
   "source": [
    "from sklearn.model_selection import cross_val_score\n",
    "\n",
    "# add segment ID to feature space\n",
    "X['segment_id'] = df['segment_id']\n",
    "\n",
    "# pick segment 26 for final evaluation\n",
    "final_test_X = X[X['segment_id']==26]\n",
    "final_test_y = y[X['segment_id']==26]\n",
    "\n",
    "# drop segment ID column\n",
    "final_test_X = final_test_X.drop(['segment_id'], axis=1)\n",
    "\n",
    "\n",
    "\n",
    "# drop segment 26 from dataset to use for final evaluation, y first\n",
    "y = y.drop(X[X['segment_id']==26].index, axis=0)\n",
    "X = X.drop(X[X['segment_id']==26].index, axis=0)\n",
    "\n",
    "# drop segment ID column\n",
    "X = X.drop(['segment_id'], axis=1)\n",
    "\n",
    "\n",
    "\n",
    "# preprocess dataset\n",
    "X_std = StandardScaler().fit_transform(X)\n",
    "X = pd.DataFrame(X_std, columns=X.columns)"
   ]
  },
  {
   "cell_type": "markdown",
   "id": "45e83acd",
   "metadata": {},
   "source": [
    "### Train Test Set Split"
   ]
  },
  {
   "cell_type": "code",
   "execution_count": 29,
   "id": "67367caa",
   "metadata": {},
   "outputs": [],
   "source": [
    "from sklearn.model_selection import train_test_split\n",
    "X_train, X_test, y_train, y_test = train_test_split(X, y, test_size=0.33, random_state=42)"
   ]
  },
  {
   "cell_type": "code",
   "execution_count": 30,
   "id": "26d823ba",
   "metadata": {},
   "outputs": [],
   "source": [
    "def performance(model, X_train=X_train, y_train=y_train, X_test=X_test, y_test=y_test):\n",
    "    # training set\n",
    "    predictiontrain = best_random.predict(X_train)\n",
    "    accuracytrain = accuracy_score(y_train, predictiontrain)\n",
    "    \n",
    "    crossvaltrain = cross_val_score(best_random, X_train, y_train)\n",
    "    print(f'Training Set:\\nAccuracy: {accuracytrain}\\nCrossVal: {crossvaltrain.mean()}')\n",
    "    \n",
    "    # test set\n",
    "    predictiontest = best_random.predict(X_test)\n",
    "    accuracytest = accuracy_score(y_test, predictiontest)\n",
    "    \n",
    "    crossvaltest = cross_val_score(best_random, X_test, y_test)\n",
    "    print(f'\\nTest Set:\\nAccuracy: {accuracytest}\\nCrossVal: {crossvaltest.mean()}')"
   ]
  },
  {
   "cell_type": "code",
   "execution_count": 31,
   "id": "1ff267fc",
   "metadata": {},
   "outputs": [
    {
     "data": {
      "text/plain": [
       "RandomForestClassifier(bootstrap=False, max_depth=90, min_samples_leaf=2,\n",
       "                       min_samples_split=5, n_estimators=200)"
      ]
     },
     "execution_count": 31,
     "metadata": {},
     "output_type": "execute_result"
    }
   ],
   "source": [
    "# for reference, this is how the best random model performs\n",
    "best_random = RandomForestClassifier(bootstrap=False, max_depth=90, min_samples_leaf=2, min_samples_split=5, n_estimators=200)\n",
    "best_random.fit(X_train, y_train)"
   ]
  },
  {
   "cell_type": "code",
   "execution_count": 32,
   "id": "51ddc5a5",
   "metadata": {},
   "outputs": [
    {
     "name": "stdout",
     "output_type": "stream",
     "text": [
      "Training Set:\n",
      "Accuracy: 1.0\n",
      "CrossVal: 0.5513109650639917\n",
      "\n",
      "Test Set:\n",
      "Accuracy: 0.5213793103448275\n",
      "CrossVal: 0.5186206896551725\n"
     ]
    }
   ],
   "source": [
    "performance(best_random)"
   ]
  },
  {
   "cell_type": "markdown",
   "id": "a0a6ba43",
   "metadata": {},
   "source": [
    "As expected, The accuracy for the strict train and test split calculated on the training data is 1. But for Crossval it is still around 55 percent. This is coherent with the evaluation on the test data."
   ]
  },
  {
   "cell_type": "markdown",
   "id": "4281844e",
   "metadata": {},
   "source": [
    "## Overfitting"
   ]
  },
  {
   "cell_type": "markdown",
   "id": "6e68d357",
   "metadata": {},
   "source": [
    "### high number of n_estimators"
   ]
  },
  {
   "cell_type": "code",
   "execution_count": 33,
   "id": "7c96607c",
   "metadata": {},
   "outputs": [
    {
     "data": {
      "text/plain": [
       "RandomForestRegressor(n_estimators=1500)"
      ]
     },
     "execution_count": 33,
     "metadata": {},
     "output_type": "execute_result"
    }
   ],
   "source": [
    "of_estimators = RandomForestRegressor(n_estimators=1500)\n",
    "of_estimators.fit(X_train, y_train)"
   ]
  },
  {
   "cell_type": "code",
   "execution_count": 34,
   "id": "c8875200",
   "metadata": {},
   "outputs": [
    {
     "name": "stdout",
     "output_type": "stream",
     "text": [
      "Training Set:\n",
      "Accuracy: 1.0\n",
      "CrossVal: 0.5479188285483685\n",
      "\n",
      "Test Set:\n",
      "Accuracy: 0.5213793103448275\n",
      "CrossVal: 0.5062068965517241\n"
     ]
    }
   ],
   "source": [
    "performance(of_estimators)"
   ]
  },
  {
   "cell_type": "markdown",
   "id": "62f0d339",
   "metadata": {},
   "source": [
    "### high number of max_depth"
   ]
  },
  {
   "cell_type": "code",
   "execution_count": 35,
   "id": "6599de6e",
   "metadata": {},
   "outputs": [
    {
     "data": {
      "text/plain": [
       "RandomForestRegressor(max_depth=1000)"
      ]
     },
     "execution_count": 35,
     "metadata": {},
     "output_type": "execute_result"
    }
   ],
   "source": [
    "of_depth = RandomForestRegressor(max_depth=1000)\n",
    "of_depth.fit(X_train, y_train)"
   ]
  },
  {
   "cell_type": "code",
   "execution_count": 36,
   "id": "536ab542",
   "metadata": {},
   "outputs": [
    {
     "name": "stdout",
     "output_type": "stream",
     "text": [
      "Training Set:\n",
      "Accuracy: 1.0\n",
      "CrossVal: 0.5492724547446096\n",
      "\n",
      "Test Set:\n",
      "Accuracy: 0.5213793103448275\n",
      "CrossVal: 0.5144827586206897\n"
     ]
    }
   ],
   "source": [
    "performance(of_depth)"
   ]
  },
  {
   "cell_type": "code",
   "execution_count": null,
   "id": "e1cee3de",
   "metadata": {},
   "outputs": [],
   "source": []
  },
  {
   "cell_type": "code",
   "execution_count": null,
   "id": "4a458782",
   "metadata": {},
   "outputs": [],
   "source": []
  }
 ],
 "metadata": {
  "kernelspec": {
   "display_name": "Python 3 (ipykernel)",
   "language": "python",
   "name": "python3"
  },
  "language_info": {
   "codemirror_mode": {
    "name": "ipython",
    "version": 3
   },
   "file_extension": ".py",
   "mimetype": "text/x-python",
   "name": "python",
   "nbconvert_exporter": "python",
   "pygments_lexer": "ipython3",
   "version": "3.10.4"
  }
 },
 "nbformat": 4,
 "nbformat_minor": 5
}
