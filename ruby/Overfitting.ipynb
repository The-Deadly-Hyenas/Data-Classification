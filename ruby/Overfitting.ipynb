{
 "cells": [
  {
   "cell_type": "markdown",
   "id": "85c8c04d",
   "metadata": {},
   "source": [
    "# Overfitting"
   ]
  },
  {
   "cell_type": "markdown",
   "id": "3aa73cdf",
   "metadata": {},
   "source": [
    "### Imports and Dataset"
   ]
  },
  {
   "cell_type": "code",
   "execution_count": 1,
   "id": "04a58d10",
   "metadata": {},
   "outputs": [],
   "source": [
    "import pandas as pd\n",
    "import numpy as np\n",
    "\n",
    "from sklearn.preprocessing import StandardScaler\n",
    "from sklearn.model_selection import train_test_split\n",
    "from sklearn.ensemble import RandomForestRegressor, RandomForestClassifier\n",
    "from sklearn.metrics import accuracy_score"
   ]
  },
  {
   "cell_type": "code",
   "execution_count": 2,
   "id": "9ed20476",
   "metadata": {},
   "outputs": [],
   "source": [
    "df = pd.read_pickle('../training_dataset_task3/task_3_training_e8da4715deef7d56_f8b7378_pandas.pkl').reset_index()\n",
    "\n",
    "# only low and mid level features in X\n",
    "X = df.loc[:, 'essentia_dissonance_mean':'mirtoolbox_roughness_pct_90']\n",
    "y = df['quadrant']"
   ]
  },
  {
   "cell_type": "markdown",
   "id": "8cb7655b",
   "metadata": {},
   "source": [
    "### Cross Validation - hold out on segment 26, used for final testing"
   ]
  },
  {
   "cell_type": "code",
   "execution_count": 3,
   "id": "1bcc9e57",
   "metadata": {},
   "outputs": [],
   "source": [
    "from sklearn.model_selection import cross_val_score\n",
    "\n",
    "# add segment ID to feature space\n",
    "X['segment_id'] = df['segment_id']\n",
    "\n",
    "# pick segment 26 for final evaluation\n",
    "final_test_X = X[X['segment_id']==26]\n",
    "final_test_y = y[X['segment_id']==26]\n",
    "\n",
    "# drop segment ID column\n",
    "final_test_X = final_test_X.drop(['segment_id'], axis=1)\n",
    "\n",
    "\n",
    "\n",
    "# drop segment 26 from dataset to use for final evaluation, y first\n",
    "y = y.drop(X[X['segment_id']==26].index, axis=0)\n",
    "X = X.drop(X[X['segment_id']==26].index, axis=0)\n",
    "\n",
    "# drop segment ID column\n",
    "X = X.drop(['segment_id'], axis=1)\n",
    "\n",
    "\n",
    "\n",
    "# preprocess dataset\n",
    "X_std = StandardScaler().fit_transform(X)\n",
    "X = pd.DataFrame(X_std, columns=X.columns)"
   ]
  },
  {
   "cell_type": "markdown",
   "id": "45e83acd",
   "metadata": {},
   "source": [
    "### Train Test Set Split"
   ]
  },
  {
   "cell_type": "code",
   "execution_count": 4,
   "id": "67367caa",
   "metadata": {},
   "outputs": [],
   "source": [
    "from sklearn.model_selection import train_test_split\n",
    "X_train, X_test, y_train, y_test = train_test_split(X, y, test_size=0.33, random_state=42)"
   ]
  },
  {
   "cell_type": "code",
   "execution_count": 5,
   "id": "26d823ba",
   "metadata": {},
   "outputs": [],
   "source": [
    "# def performance(model, X_train=X_train, y_train=y_train, X_test=X_test, y_test=y_test):\n",
    "#     # training set\n",
    "#     predictiontrain = best_random.predict(X_train)\n",
    "#     accuracytrain = accuracy_score(y_train, predictiontrain)\n",
    "    \n",
    "#     crossvaltrain = cross_val_score(best_random, X_train, y_train)\n",
    "#     print(f'Training Set:\\nAccuracy: {accuracytrain}\\nCrossVal: {crossvaltrain.mean()}')\n",
    "    \n",
    "#     # test set\n",
    "#     predictiontest = best_random.predict(X_test)\n",
    "#     accuracytest = accuracy_score(y_test, predictiontest)\n",
    "    \n",
    "#     crossvaltest = cross_val_score(best_random, X_test, y_test)\n",
    "#     print(f'\\nTest Set:\\nAccuracy: {accuracytest}\\nCrossVal: {crossvaltest.mean()}')\n",
    "\n",
    "\n",
    "def performance(model, X_train=X_train, y_train=y_train, X_test=X_test, y_test=y_test):\n",
    "    # training set\n",
    "    train = model.score(X_train, y_train)\n",
    "    print(f'Training Set:\\n{train}')\n",
    "    \n",
    "    # test set\n",
    "    test = model.score(X_test, y_test)\n",
    "    print(f'\\nTest Set:\\n{test}')"
   ]
  },
  {
   "cell_type": "code",
   "execution_count": 6,
   "id": "1ff267fc",
   "metadata": {},
   "outputs": [
    {
     "data": {
      "text/plain": [
       "RandomForestClassifier(bootstrap=False, max_depth=90, min_samples_leaf=2,\n",
       "                       min_samples_split=5, n_estimators=200)"
      ]
     },
     "execution_count": 6,
     "metadata": {},
     "output_type": "execute_result"
    }
   ],
   "source": [
    "# for reference, this is how the best random model performs\n",
    "best_random = RandomForestClassifier(bootstrap=False, max_depth=90, min_samples_leaf=2, min_samples_split=5, n_estimators=200)\n",
    "best_random.fit(X_train, y_train)"
   ]
  },
  {
   "cell_type": "code",
   "execution_count": 1,
   "id": "51ddc5a5",
   "metadata": {},
   "outputs": [],
   "source": [
    "# performance(best_random)"
   ]
  },
  {
   "cell_type": "markdown",
   "id": "4281844e",
   "metadata": {},
   "source": [
    "## Overfitting"
   ]
  },
  {
   "cell_type": "markdown",
   "id": "6e68d357",
   "metadata": {},
   "source": [
    "### low number of n_estimators"
   ]
  },
  {
   "cell_type": "code",
   "execution_count": 8,
   "id": "7c96607c",
   "metadata": {},
   "outputs": [
    {
     "data": {
      "text/plain": [
       "RandomForestClassifier(n_estimators=3)"
      ]
     },
     "execution_count": 8,
     "metadata": {},
     "output_type": "execute_result"
    }
   ],
   "source": [
    "of_estimators = RandomForestClassifier(n_estimators=3)\n",
    "of_estimators.fit(X_train, y_train)"
   ]
  },
  {
   "cell_type": "code",
   "execution_count": 9,
   "id": "c8875200",
   "metadata": {},
   "outputs": [
    {
     "name": "stdout",
     "output_type": "stream",
     "text": [
      "Training Set:\n",
      "0.8871515975526852\n",
      "\n",
      "Test Set:\n",
      "0.416551724137931\n"
     ]
    }
   ],
   "source": [
    "performance(of_estimators)"
   ]
  },
  {
   "cell_type": "markdown",
   "id": "62f0d339",
   "metadata": {},
   "source": [
    "### smal number of min_samples_leaf"
   ]
  },
  {
   "cell_type": "code",
   "execution_count": 10,
   "id": "6599de6e",
   "metadata": {},
   "outputs": [
    {
     "data": {
      "text/plain": [
       "RandomForestClassifier(min_samples_leaf=3)"
      ]
     },
     "execution_count": 10,
     "metadata": {},
     "output_type": "execute_result"
    }
   ],
   "source": [
    "of_depth = RandomForestClassifier(min_samples_leaf=3)\n",
    "of_depth.fit(X_train, y_train)"
   ]
  },
  {
   "cell_type": "code",
   "execution_count": 11,
   "id": "536ab542",
   "metadata": {},
   "outputs": [
    {
     "name": "stdout",
     "output_type": "stream",
     "text": [
      "Training Set:\n",
      "0.9959211420802175\n",
      "\n",
      "Test Set:\n",
      "0.5006896551724138\n"
     ]
    }
   ],
   "source": [
    "performance(of_depth)"
   ]
  },
  {
   "cell_type": "markdown",
   "id": "09be2420",
   "metadata": {},
   "source": [
    "## Plots"
   ]
  },
  {
   "cell_type": "code",
   "execution_count": 12,
   "id": "b8f1a873",
   "metadata": {},
   "outputs": [],
   "source": [
    "import matplotlib.pyplot as plt\n",
    "\n",
    "def cross_val(model, kf=10):\n",
    "    val = cross_val_score(estimator=model, X=X, y=y, cv=kf).mean()\n",
    "    # print(val, 'for', model)\n",
    "    return val"
   ]
  },
  {
   "cell_type": "code",
   "execution_count": 13,
   "id": "4a458782",
   "metadata": {},
   "outputs": [],
   "source": [
    "# n_estimators\n",
    "# uncomment next line will take long\n",
    "\n",
    "accuracies = [cross_val(RandomForestClassifier(n_estimators=i)) for i in range(1,200,10)]"
   ]
  },
  {
   "cell_type": "code",
   "execution_count": 14,
   "id": "378b798f",
   "metadata": {},
   "outputs": [
    {
     "data": {
      "image/png": "[encoded data removed]",
      "text/plain": [
       "<Figure size 432x288 with 1 Axes>"
      ]
     },
     "metadata": {
      "needs_background": "light"
     },
     "output_type": "display_data"
    }
   ],
   "source": [
    "plt.plot(range(10,300,10), accuracies)\n",
    "plt.title('Increasing number of n_estimators')\n",
    "plt.xlabel('n_estimators')\n",
    "plt.ylabel('mean accuracy')\n",
    "plt.show()"
   ]
  },
  {
   "cell_type": "code",
   "execution_count": 15,
   "id": "22fde1ec",
   "metadata": {},
   "outputs": [],
   "source": [
    "# min_samples_leaf\n",
    "# uncomment next line will take long\n",
    "\n",
    "accuracies2 = [cross_val(RandomForestClassifier(min_samples_leaf=i)) for i in range(1,50)]"
   ]
  },
  {
   "cell_type": "code",
   "execution_count": 16,
   "id": "8a1f6dfb",
   "metadata": {},
   "outputs": [
    {
     "data": {
      "image/png": "[encoded data removed]",
      "text/plain": [
       "<Figure size 432x288 with 1 Axes>"
      ]
     },
     "metadata": {
      "needs_background": "light"
     },
     "output_type": "display_data"
    }
   ],
   "source": [
    "plt.plot(range(1,50), accuracies2)\n",
    "plt.title('Increasing number of min_samples_leaf')\n",
    "plt.xlabel('min_samples_leaf')\n",
    "plt.ylabel('mean accuracy')\n",
    "plt.show()"
   ]
  },
  {
   "cell_type": "code",
   "execution_count": null,
   "id": "191c24f3",
   "metadata": {},
   "outputs": [],
   "source": []
  }
 ],
 "metadata": {
  "kernelspec": {
   "display_name": "Python 3 (ipykernel)",
   "language": "python",
   "name": "python3"
  },
  "language_info": {
   "codemirror_mode": {
    "name": "ipython",
    "version": 3
   },
   "file_extension": ".py",
   "mimetype": "text/x-python",
   "name": "python",
   "nbconvert_exporter": "python",
   "pygments_lexer": "ipython3",
   "version": "3.10.4"
  }
 },
 "nbformat": 4,
 "nbformat_minor": 5
}
