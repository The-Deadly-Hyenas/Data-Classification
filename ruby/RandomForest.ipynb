{
 "cells": [
  {
   "cell_type": "markdown",
   "id": "8f227a6f",
   "metadata": {},
   "source": [
    "# Random Forest Classifier - Best Model"
   ]
  },
  {
   "cell_type": "markdown",
   "id": "19d7fa7d",
   "metadata": {},
   "source": [
    "### Imports"
   ]
  },
  {
   "cell_type": "code",
   "execution_count": 2,
   "id": "d403c523",
   "metadata": {},
   "outputs": [],
   "source": [
    "import pandas as pd\n",
    "import numpy as np\n",
    "\n",
    "from sklearn.preprocessing import StandardScaler\n",
    "from sklearn.model_selection import train_test_split\n",
    "from sklearn.ensemble import RandomForestRegressor"
   ]
  },
  {
   "cell_type": "markdown",
   "id": "037b3f17",
   "metadata": {},
   "source": [
    "### Dataset and Preparation"
   ]
  },
  {
   "cell_type": "code",
   "execution_count": 3,
   "id": "d423ba6f",
   "metadata": {},
   "outputs": [],
   "source": [
    "data_all = pd.read_pickle('../training_dataset_task3/task_3_training_e8da4715deef7d56_f8b7378_pandas.pkl')\n",
    "data = data_all.loc[:,'pianist_id':'arousal']\n",
    "\n",
    "X = data.drop(['quadrant', 'valence', 'arousal'], axis=1)\n",
    "y = data['quadrant']\n",
    "\n",
    "# preprocess dataset\n",
    "X = StandardScaler().fit_transform(X)\n",
    "\n",
    "# Split in Training and Test Set\n",
    "X_train, X_test, y_train, y_test = train_test_split(X, y, test_size=0.33, random_state=42)"
   ]
  },
  {
   "cell_type": "code",
   "execution_count": 4,
   "id": "2e810c96",
   "metadata": {},
   "outputs": [],
   "source": [
    "# Used to evaluate Model\n",
    "\n",
    "def evaluate(model, X_test, y_test):\n",
    "    predictions = model.predict(X_test)\n",
    "    errors = abs(predictions - y_test)\n",
    "    mape = 100 * np.mean(errors / y_test)\n",
    "    accuracy = 100 - mape\n",
    "    print('Model Performance')\n",
    "    print('Average Error: {:0.4f} degrees.'.format(np.mean(errors)))\n",
    "    print('Accuracy = {:0.2f}%.'.format(accuracy))\n",
    "    \n",
    "    return accuracy"
   ]
  },
  {
   "cell_type": "code",
   "execution_count": 4,
   "id": "05825f53",
   "metadata": {},
   "outputs": [
    {
     "name": "stdout",
     "output_type": "stream",
     "text": [
      "Model Performance\n",
      "Average Error: 0.7857 degrees.\n",
      "Accuracy = 57.19%.\n",
      "Model Performance\n",
      "Average Error: 0.7857 degrees.\n",
      "Accuracy = 57.19%.\n"
     ]
    },
    {
     "data": {
      "text/plain": [
       "57.19452273062187"
      ]
     },
     "execution_count": 4,
     "metadata": {},
     "output_type": "execute_result"
    },
    {
     "data": {
      "text/plain": [
       "57.19452273062187"
      ]
     },
     "execution_count": 4,
     "metadata": {},
     "output_type": "execute_result"
    }
   ],
   "source": [
    "rf = RandomForestRegressor(bootstrap=False, max_depth=50, max_features='sqrt', min_samples_leaf=2, n_estimators=800)\n",
    "rf.fit(X_train,y_train)\n",
    "evaluate(rf, X_test, y_test)"
   ]
  },
  {
   "cell_type": "markdown",
   "id": "f4299f03",
   "metadata": {},
   "source": [
    "## Model Performance\n",
    "## Average Error: 0.7866 degrees.\n",
    "## Accuracy = 57.28%."
   ]
  },
  {
   "cell_type": "code",
   "execution_count": 5,
   "id": "971c8992",
   "metadata": {},
   "outputs": [],
   "source": [
    "## After running the RandomParameter_tuningRF.ipynb a second time, the best random random forest was:\n",
    "best2 = RandomForestRegressor(bootstrap=False, max_depth=110, max_features='sqrt', min_samples_leaf=2, n_estimators=600)"
   ]
  },
  {
   "cell_type": "code",
   "execution_count": 6,
   "id": "8d669bce",
   "metadata": {},
   "outputs": [
    {
     "name": "stdout",
     "output_type": "stream",
     "text": [
      "Model Performance\n",
      "Average Error: 0.7872 degrees.\n",
      "Accuracy = 57.15%.\n"
     ]
    },
    {
     "data": {
      "text/plain": [
       "57.14710740249534"
      ]
     },
     "execution_count": 6,
     "metadata": {},
     "output_type": "execute_result"
    }
   ],
   "source": [
    "best2.fit(X_train,y_train)\n",
    "evaluate(best2, X_test, y_test)"
   ]
  },
  {
   "cell_type": "markdown",
   "id": "d5e34f57",
   "metadata": {},
   "source": [
    "## Model Performance\n",
    "## Average Error: 0.7872 degrees.\n",
    "## Accuracy = 57.15%."
   ]
  },
  {
   "cell_type": "code",
   "execution_count": null,
   "id": "502e7232",
   "metadata": {},
   "outputs": [],
   "source": [
    "# Therefore I strongly believe that Random Forests do not get any better than this."
   ]
  }
 ],
 "metadata": {
  "kernelspec": {
   "display_name": "Python 3 (ipykernel)",
   "language": "python",
   "name": "python3"
  },
  "language_info": {
   "codemirror_mode": {
    "name": "ipython",
    "version": 3
   },
   "file_extension": ".py",
   "mimetype": "text/x-python",
   "name": "python",
   "nbconvert_exporter": "python",
   "pygments_lexer": "ipython3",
   "version": "3.10.4"
  }
 },
 "nbformat": 4,
 "nbformat_minor": 5
}
