{
 "cells": [
  {
   "cell_type": "code",
   "execution_count": 118,
   "outputs": [],
   "source": [
    "import joblib\n",
    "import pandas as pd\n",
    "import numpy as np\n",
    "import pickle\n",
    "from sklearn.preprocessing import StandardScaler\n",
    "from sklearn.neural_network import MLPClassifier\n",
    "from sklearn.neighbors import KNeighborsClassifier\n",
    "from sklearn.svm import SVC\n",
    "from sklearn.tree import DecisionTreeClassifier\n",
    "from sklearn.ensemble import RandomForestClassifier, AdaBoostClassifier\n",
    "from sklearn.naive_bayes import GaussianNB\n",
    "from sklearn.discriminant_analysis import QuadraticDiscriminantAnalysis\n",
    "from sklearn.model_selection import cross_val_score, KFold\n",
    "from sklearn.ensemble import BaggingClassifier, VotingClassifier\n",
    "from sklearn.linear_model import LogisticRegression\n",
    "from sklearn.decomposition import PCA, KernelPCA, FastICA\n",
    "from sklearn.model_selection import GridSearchCV\n",
    "import plotly.express as px\n",
    "from imblearn.combine import SMOTEENN\n",
    "from sklearn.feature_selection import SelectFromModel\n",
    "from sklearn.metrics import accuracy_score, precision_score, recall_score\n",
    "\n",
    "import matplotlib.pyplot as plt\n",
    "from joblib import dump, load\n",
    "import os\n",
    "import plotly.express as px"
   ],
   "metadata": {
    "collapsed": false,
    "pycharm": {
     "name": "#%%\n"
    }
   }
  },
  {
   "cell_type": "code",
   "execution_count": 3,
   "outputs": [],
   "source": [
    "# Load data\n",
    "df = pd.read_pickle(\"../training_dataset_task3/task_3_training_e8da4715deef7d56_f8b7378_pandas.pkl\")\n",
    "\n",
    "# Get training data\n",
    "X = df.loc[:, \"essentia_dissonance_mean\":\"mirtoolbox_roughness_pct_90\"]\n",
    "\n",
    "# Standardize dataset and add column names\n",
    "X_std = StandardScaler().fit_transform(X)\n",
    "X = pd.DataFrame(X_std, columns=X.columns)"
   ],
   "metadata": {
    "collapsed": false,
    "pycharm": {
     "name": "#%%\n"
    }
   }
  },
  {
   "cell_type": "code",
   "execution_count": 4,
   "outputs": [
    {
     "name": "stdout",
     "output_type": "stream",
     "text": [
      "4.0\n"
     ]
    }
   ],
   "source": [
    "print(df['quadrant'].to_numpy()[-8])"
   ],
   "metadata": {
    "collapsed": false,
    "pycharm": {
     "name": "#%%\n"
    }
   }
  },
  {
   "cell_type": "code",
   "execution_count": 6,
   "outputs": [
    {
     "data": {
      "text/plain": "      segment_id  gemmes_flow_binary  gemmes_wandering_binary  \\\n0              0                 1.0                      0.0   \n1              0                 1.0                      0.0   \n2              0                 1.0                      0.0   \n3              0                 1.0                      0.0   \n4              0                 1.0                      0.0   \n...          ...                 ...                      ...   \n2277          26                 0.0                      0.0   \n2278          26                 0.0                      0.0   \n2279          26                 0.0                      0.0   \n2280          26                 1.0                      0.0   \n2281          26                 1.0                      0.0   \n\n      gemmes_interior_binary  gemmes_force_binary  gemmes_movement_binary  \\\n0                        0.0                  0.0                     0.0   \n1                        0.0                  0.0                     0.0   \n2                        0.0                  0.0                     0.0   \n3                        0.0                  0.0                     0.0   \n4                        0.0                  0.0                     0.0   \n...                      ...                  ...                     ...   \n2277                     0.0                  0.0                     0.0   \n2278                     0.0                  0.0                     0.0   \n2279                     0.0                  0.0                     0.0   \n2280                     0.0                  0.0                     0.0   \n2281                     0.0                  0.0                     0.0   \n\n      gems_sadness_binary  gems_tension_binary  gems_joyful_activation_binary  \\\n0                     0.0                  0.0                            0.0   \n1                     0.0                  0.0                            0.0   \n2                     0.0                  0.0                            0.0   \n3                     0.0                  0.0                            0.0   \n4                     0.0                  0.0                            0.0   \n...                   ...                  ...                            ...   \n2277                  0.0                  0.0                            0.0   \n2278                  0.0                  0.0                            0.0   \n2279                  0.0                  0.0                            0.0   \n2280                  0.0                  0.0                            0.0   \n2281                  0.0                  0.0                            0.0   \n\n      gems_power_binary  ...  mirtoolbox_hcdf_pct_10  mirtoolbox_hcdf_pct_50  \\\n0                   0.0  ...               -1.112351               -1.046724   \n1                   0.0  ...               -0.227565                0.286762   \n2                   0.0  ...                0.099883                0.068506   \n3                   0.0  ...               -0.893512               -0.773050   \n4                   0.0  ...               -0.180523                0.635769   \n...                 ...  ...                     ...                     ...   \n2277                0.0  ...                2.274821                2.114835   \n2278                0.0  ...               -0.756064               -0.571859   \n2279                0.0  ...               -1.748569                0.115731   \n2280                0.0  ...                1.391157                1.379277   \n2281                0.0  ...               -0.622738               -1.589018   \n\n      mirtoolbox_hcdf_pct_90  mirtoolbox_irregularity  mirtoolbox_keyclarity  \\\n0                  -1.088041                 0.233700               0.987719   \n1                   0.239319                 1.067306               0.708461   \n2                   0.286243                 0.435576              -0.056105   \n3                   0.164728                -0.943409              -0.952889   \n4                   0.243494                 1.403570              -1.952294   \n...                      ...                      ...                    ...   \n2277                2.204076                -1.374669               0.967921   \n2278                0.692644                 1.280540               1.344291   \n2279                2.404602                -1.355196               1.128581   \n2280                1.444383                -1.358872              -1.224290   \n2281               -1.885196                 0.722858               0.905580   \n\n      mirtoolbox_mode  mirtoolbox_novelty_mean  mirtoolbox_novelty_std  \\\n0           -0.446048                -1.464034               -1.557358   \n1           -0.865839                 0.124614                0.492786   \n2            0.162461                 0.781961                1.078765   \n3           -0.384661                -1.204703               -1.281274   \n4           -0.995785                -0.969958               -1.213569   \n...               ...                      ...                     ...   \n2277        -0.105525                 0.831505                0.736401   \n2278        -1.797737                -0.351736               -0.259996   \n2279        -1.551523                -0.931308               -0.983595   \n2280        -0.357799                 1.776104                1.771819   \n2281        -0.900469                -1.116185               -1.105097   \n\n      mirtoolbox_novelty_pct_90  mirtoolbox_pulseclarity  \n0                     -1.487096                -0.263505  \n1                      0.512566                 1.554357  \n2                      0.652920                 0.121509  \n3                     -1.366754                 0.349013  \n4                     -0.937755                -0.544921  \n...                         ...                      ...  \n2277                   0.667299                 0.706086  \n2278                  -0.248294                 1.529043  \n2279                  -0.983935                 1.196165  \n2280                   2.294032                -0.616783  \n2281                  -0.631937                 0.563930  \n\n[2234 rows x 159 columns]",
      "text/html": "<div>\n<style scoped>\n    .dataframe tbody tr th:only-of-type {\n        vertical-align: middle;\n    }\n\n    .dataframe tbody tr th {\n        vertical-align: top;\n    }\n\n    .dataframe thead th {\n        text-align: right;\n    }\n</style>\n<table border=\"1\" class=\"dataframe\">\n  <thead>\n    <tr style=\"text-align: right;\">\n      <th></th>\n      <th>segment_id</th>\n      <th>gemmes_flow_binary</th>\n      <th>gemmes_wandering_binary</th>\n      <th>gemmes_interior_binary</th>\n      <th>gemmes_force_binary</th>\n      <th>gemmes_movement_binary</th>\n      <th>gems_sadness_binary</th>\n      <th>gems_tension_binary</th>\n      <th>gems_joyful_activation_binary</th>\n      <th>gems_power_binary</th>\n      <th>...</th>\n      <th>mirtoolbox_hcdf_pct_10</th>\n      <th>mirtoolbox_hcdf_pct_50</th>\n      <th>mirtoolbox_hcdf_pct_90</th>\n      <th>mirtoolbox_irregularity</th>\n      <th>mirtoolbox_keyclarity</th>\n      <th>mirtoolbox_mode</th>\n      <th>mirtoolbox_novelty_mean</th>\n      <th>mirtoolbox_novelty_std</th>\n      <th>mirtoolbox_novelty_pct_90</th>\n      <th>mirtoolbox_pulseclarity</th>\n    </tr>\n  </thead>\n  <tbody>\n    <tr>\n      <th>0</th>\n      <td>0</td>\n      <td>1.0</td>\n      <td>0.0</td>\n      <td>0.0</td>\n      <td>0.0</td>\n      <td>0.0</td>\n      <td>0.0</td>\n      <td>0.0</td>\n      <td>0.0</td>\n      <td>0.0</td>\n      <td>...</td>\n      <td>-1.112351</td>\n      <td>-1.046724</td>\n      <td>-1.088041</td>\n      <td>0.233700</td>\n      <td>0.987719</td>\n      <td>-0.446048</td>\n      <td>-1.464034</td>\n      <td>-1.557358</td>\n      <td>-1.487096</td>\n      <td>-0.263505</td>\n    </tr>\n    <tr>\n      <th>1</th>\n      <td>0</td>\n      <td>1.0</td>\n      <td>0.0</td>\n      <td>0.0</td>\n      <td>0.0</td>\n      <td>0.0</td>\n      <td>0.0</td>\n      <td>0.0</td>\n      <td>0.0</td>\n      <td>0.0</td>\n      <td>...</td>\n      <td>-0.227565</td>\n      <td>0.286762</td>\n      <td>0.239319</td>\n      <td>1.067306</td>\n      <td>0.708461</td>\n      <td>-0.865839</td>\n      <td>0.124614</td>\n      <td>0.492786</td>\n      <td>0.512566</td>\n      <td>1.554357</td>\n    </tr>\n    <tr>\n      <th>2</th>\n      <td>0</td>\n      <td>1.0</td>\n      <td>0.0</td>\n      <td>0.0</td>\n      <td>0.0</td>\n      <td>0.0</td>\n      <td>0.0</td>\n      <td>0.0</td>\n      <td>0.0</td>\n      <td>0.0</td>\n      <td>...</td>\n      <td>0.099883</td>\n      <td>0.068506</td>\n      <td>0.286243</td>\n      <td>0.435576</td>\n      <td>-0.056105</td>\n      <td>0.162461</td>\n      <td>0.781961</td>\n      <td>1.078765</td>\n      <td>0.652920</td>\n      <td>0.121509</td>\n    </tr>\n    <tr>\n      <th>3</th>\n      <td>0</td>\n      <td>1.0</td>\n      <td>0.0</td>\n      <td>0.0</td>\n      <td>0.0</td>\n      <td>0.0</td>\n      <td>0.0</td>\n      <td>0.0</td>\n      <td>0.0</td>\n      <td>0.0</td>\n      <td>...</td>\n      <td>-0.893512</td>\n      <td>-0.773050</td>\n      <td>0.164728</td>\n      <td>-0.943409</td>\n      <td>-0.952889</td>\n      <td>-0.384661</td>\n      <td>-1.204703</td>\n      <td>-1.281274</td>\n      <td>-1.366754</td>\n      <td>0.349013</td>\n    </tr>\n    <tr>\n      <th>4</th>\n      <td>0</td>\n      <td>1.0</td>\n      <td>0.0</td>\n      <td>0.0</td>\n      <td>0.0</td>\n      <td>0.0</td>\n      <td>0.0</td>\n      <td>0.0</td>\n      <td>0.0</td>\n      <td>0.0</td>\n      <td>...</td>\n      <td>-0.180523</td>\n      <td>0.635769</td>\n      <td>0.243494</td>\n      <td>1.403570</td>\n      <td>-1.952294</td>\n      <td>-0.995785</td>\n      <td>-0.969958</td>\n      <td>-1.213569</td>\n      <td>-0.937755</td>\n      <td>-0.544921</td>\n    </tr>\n    <tr>\n      <th>...</th>\n      <td>...</td>\n      <td>...</td>\n      <td>...</td>\n      <td>...</td>\n      <td>...</td>\n      <td>...</td>\n      <td>...</td>\n      <td>...</td>\n      <td>...</td>\n      <td>...</td>\n      <td>...</td>\n      <td>...</td>\n      <td>...</td>\n      <td>...</td>\n      <td>...</td>\n      <td>...</td>\n      <td>...</td>\n      <td>...</td>\n      <td>...</td>\n      <td>...</td>\n      <td>...</td>\n    </tr>\n    <tr>\n      <th>2277</th>\n      <td>26</td>\n      <td>0.0</td>\n      <td>0.0</td>\n      <td>0.0</td>\n      <td>0.0</td>\n      <td>0.0</td>\n      <td>0.0</td>\n      <td>0.0</td>\n      <td>0.0</td>\n      <td>0.0</td>\n      <td>...</td>\n      <td>2.274821</td>\n      <td>2.114835</td>\n      <td>2.204076</td>\n      <td>-1.374669</td>\n      <td>0.967921</td>\n      <td>-0.105525</td>\n      <td>0.831505</td>\n      <td>0.736401</td>\n      <td>0.667299</td>\n      <td>0.706086</td>\n    </tr>\n    <tr>\n      <th>2278</th>\n      <td>26</td>\n      <td>0.0</td>\n      <td>0.0</td>\n      <td>0.0</td>\n      <td>0.0</td>\n      <td>0.0</td>\n      <td>0.0</td>\n      <td>0.0</td>\n      <td>0.0</td>\n      <td>0.0</td>\n      <td>...</td>\n      <td>-0.756064</td>\n      <td>-0.571859</td>\n      <td>0.692644</td>\n      <td>1.280540</td>\n      <td>1.344291</td>\n      <td>-1.797737</td>\n      <td>-0.351736</td>\n      <td>-0.259996</td>\n      <td>-0.248294</td>\n      <td>1.529043</td>\n    </tr>\n    <tr>\n      <th>2279</th>\n      <td>26</td>\n      <td>0.0</td>\n      <td>0.0</td>\n      <td>0.0</td>\n      <td>0.0</td>\n      <td>0.0</td>\n      <td>0.0</td>\n      <td>0.0</td>\n      <td>0.0</td>\n      <td>0.0</td>\n      <td>...</td>\n      <td>-1.748569</td>\n      <td>0.115731</td>\n      <td>2.404602</td>\n      <td>-1.355196</td>\n      <td>1.128581</td>\n      <td>-1.551523</td>\n      <td>-0.931308</td>\n      <td>-0.983595</td>\n      <td>-0.983935</td>\n      <td>1.196165</td>\n    </tr>\n    <tr>\n      <th>2280</th>\n      <td>26</td>\n      <td>1.0</td>\n      <td>0.0</td>\n      <td>0.0</td>\n      <td>0.0</td>\n      <td>0.0</td>\n      <td>0.0</td>\n      <td>0.0</td>\n      <td>0.0</td>\n      <td>0.0</td>\n      <td>...</td>\n      <td>1.391157</td>\n      <td>1.379277</td>\n      <td>1.444383</td>\n      <td>-1.358872</td>\n      <td>-1.224290</td>\n      <td>-0.357799</td>\n      <td>1.776104</td>\n      <td>1.771819</td>\n      <td>2.294032</td>\n      <td>-0.616783</td>\n    </tr>\n    <tr>\n      <th>2281</th>\n      <td>26</td>\n      <td>1.0</td>\n      <td>0.0</td>\n      <td>0.0</td>\n      <td>0.0</td>\n      <td>0.0</td>\n      <td>0.0</td>\n      <td>0.0</td>\n      <td>0.0</td>\n      <td>0.0</td>\n      <td>...</td>\n      <td>-0.622738</td>\n      <td>-1.589018</td>\n      <td>-1.885196</td>\n      <td>0.722858</td>\n      <td>0.905580</td>\n      <td>-0.900469</td>\n      <td>-1.116185</td>\n      <td>-1.105097</td>\n      <td>-0.631937</td>\n      <td>0.563930</td>\n    </tr>\n  </tbody>\n</table>\n<p>2234 rows × 159 columns</p>\n</div>"
     },
     "execution_count": 6,
     "metadata": {},
     "output_type": "execute_result"
    }
   ],
   "source": [
    "# get only the low and mid level features + segment_id\n",
    "with open('pred_train_test_reduced.pkl', 'rb') as f:\n",
    "    X = pickle.load(f)\n",
    "X"
   ],
   "metadata": {
    "collapsed": false,
    "pycharm": {
     "name": "#%%\n"
    }
   }
  },
  {
   "cell_type": "code",
   "execution_count": 17,
   "outputs": [
    {
     "data": {
      "text/plain": "array([0.21530886, 0.18979409, 0.28424351, 0.31065354])"
     },
     "execution_count": 17,
     "metadata": {},
     "output_type": "execute_result"
    }
   ],
   "source": [
    "classes = df['quadrant'][:X.shape[0]].to_numpy()\n",
    "\n",
    "unique, counts = np.unique(classes, return_counts=True)\n",
    "\n",
    "probabilities = counts / X.shape[0]\n",
    "probabilities"
   ],
   "metadata": {
    "collapsed": false,
    "pycharm": {
     "name": "#%%\n"
    }
   }
  },
  {
   "cell_type": "code",
   "execution_count": 108,
   "outputs": [
    {
     "data": {
      "text/plain": "0.27883022386006917"
     },
     "execution_count": 108,
     "metadata": {},
     "output_type": "execute_result"
    }
   ],
   "source": [
    "# grid search parameters for the different classifiers\n",
    "# parameters = {'priors': [probabilities]}\n",
    "# parameters = {'var_smoothing': [0.1, 0.02, 0.01, 1e-3, 1e-4]}\n",
    "parameters = {}\n",
    "\n",
    "# get only the low and mid level features + segment_id\n",
    "with open('pred_train_test_reduced.pkl', 'rb') as f:\n",
    "    X = pickle.load(f)\n",
    "\n",
    "# preprocess dataset\n",
    "# X = pd.DataFrame(X_std, columns=X.columns)\n",
    "X = X.drop([\"segment_id\"], axis=1)\n",
    "\n",
    "# target value\n",
    "y = df['quadrant'][:X.shape[0]]\n",
    "\n",
    "X = StandardScaler().fit_transform(X)\n",
    "\n",
    "smote_enn = SMOTEENN(random_state=0)\n",
    "X_resampled, y_resampled = smote_enn.fit_resample(X, y)\n",
    "X_resampled = pd.DataFrame(X_resampled).reset_index()\n",
    "X_resampled.insert(0, 'segment_id', df[\"segment_id\"])\n",
    "\n",
    "# split the data according to segment_id\n",
    "# store the splits as tuple (train indices, test_indices)\n",
    "# for example the training indices are the first 26 segments\n",
    "# and the test_indices is the last segment 27\n",
    "cv = []\n",
    "for i in range(25):   # previously good result with 26\n",
    "    train_indices = X_resampled[~X_resampled[\"segment_id\"].isin([i, i + 1])].index.to_list()\n",
    "    test_indices = X_resampled[X_resampled[\"segment_id\"].isin([i, i + 1])].index.to_list()\n",
    "    cv.append((train_indices, test_indices))\n",
    "\n",
    "X_resampled = X_resampled.drop([\"segment_id\"], axis=1)\n",
    "X_resampled = X_resampled.drop([\"index\"], axis=1)\n",
    "\n",
    "# grid search the parameters for a given classifier\n",
    "gs_cv = GridSearchCV(GaussianNB(), parameters, cv=cv, n_jobs=10, return_train_score=True)\n",
    "gs_cv.fit(X_resampled, y_resampled)\n",
    "\n",
    "score = gs_cv.best_score_\n",
    "score"
   ],
   "metadata": {
    "collapsed": false,
    "pycharm": {
     "name": "#%%\n"
    }
   }
  },
  {
   "cell_type": "code",
   "execution_count": 85,
   "outputs": [
    {
     "data": {
      "text/plain": "{'var_smoothing': 0.1}"
     },
     "execution_count": 85,
     "metadata": {},
     "output_type": "execute_result"
    }
   ],
   "source": [
    "gs_cv.best_params_"
   ],
   "metadata": {
    "collapsed": false,
    "pycharm": {
     "name": "#%%\n"
    }
   }
  },
  {
   "cell_type": "code",
   "execution_count": 4,
   "outputs": [
    {
     "data": {
      "text/plain": "array([0.1, 0.2, 0.3, 0.4, 0.5, 0.6, 0.7, 0.8, 0.9, 1. , 1.1, 1.2, 1.3,\n       1.4, 1.5, 1.6, 1.7, 1.8, 1.9, 2. , 2.1, 2.2, 2.3, 2.4, 2.5, 2.6,\n       2.7, 2.8, 2.9, 3. , 3.1, 3.2, 3.3, 3.4, 3.5, 3.6, 3.7, 3.8, 3.9,\n       4. , 4.1, 4.2, 4.3, 4.4, 4.5, 4.6, 4.7, 4.8, 4.9, 5. ])"
     },
     "execution_count": 4,
     "metadata": {},
     "output_type": "execute_result"
    }
   ],
   "source": [
    "c_vals = np.linspace(1, 50) / 10\n",
    "c_vals"
   ],
   "metadata": {
    "collapsed": false,
    "pycharm": {
     "name": "#%%\n"
    }
   }
  },
  {
   "cell_type": "code",
   "execution_count": 110,
   "outputs": [
    {
     "data": {
      "text/plain": "array([ 1.,  2.,  3.,  4.,  5.,  6.,  7.,  8.,  9., 10.])"
     },
     "execution_count": 110,
     "metadata": {},
     "output_type": "execute_result"
    }
   ],
   "source": [
    "degrees = np.linspace(1, 10, 10)\n",
    "degrees"
   ],
   "metadata": {
    "collapsed": false,
    "pycharm": {
     "name": "#%%\n"
    }
   }
  },
  {
   "cell_type": "code",
   "execution_count": 154,
   "metadata": {
    "collapsed": true
   },
   "outputs": [],
   "source": [
    "# grid search parameters for the different classifiers\n",
    "parameters = {\n",
    "        'C': [0.25, 0.5],\n",
    "        'kernel': ['rbf'], # ['linear', 'poly', 'rbf', 'sigmoid'],\n",
    "        'degree': degrees.tolist(), # [1, 2, 3, 4, 5, 6, 8, 10],\n",
    "        'gamma': ['scale', 'auto']}\n",
    "\n",
    "# get only the low and mid level features + segment_id\n",
    "with open('pred_train_test_reduced.pkl', 'rb') as f:\n",
    "    X = pickle.load(f)\n",
    "\n",
    "# preprocess dataset\n",
    "# X = pd.DataFrame(X_std, columns=X.columns)\n",
    "X = X.drop([\"segment_id\"], axis=1)\n",
    "\n",
    "# target value\n",
    "y = df['quadrant'][:X.shape[0]]\n",
    "\n",
    "X = StandardScaler().fit_transform(X)\n",
    "\n",
    "smote_enn = SMOTEENN(random_state=0)\n",
    "X_resampled, y_resampled = smote_enn.fit_resample(X, y)\n",
    "X_resampled = pd.DataFrame(X_resampled).reset_index()\n",
    "X_resampled.insert(0, 'segment_id', df[\"segment_id\"])\n",
    "\n",
    "# split the data according to segment_id\n",
    "# store the splits as tuple (train indices, test_indices)\n",
    "# for example the training indices are the first 26 segments\n",
    "# and the test_indices is the last segment 27\n",
    "cv = []\n",
    "for i in range(25):   # previously good result with 26\n",
    "    train_indices = X_resampled[~X_resampled[\"segment_id\"].isin([i, i + 1])].index.to_list()\n",
    "    test_indices = X_resampled[X_resampled[\"segment_id\"].isin([i, i + 1])].index.to_list()\n",
    "    cv.append((train_indices, test_indices))\n",
    "\n",
    "X_resampled = X_resampled.drop([\"segment_id\"], axis=1)\n",
    "X_resampled = X_resampled.drop([\"index\"], axis=1)\n",
    "\n",
    "# grid search the parameters for a given classifier\n",
    "gs_cv = GridSearchCV(SVC(), parameters, cv=cv, n_jobs=10, return_train_score=True)\n",
    "gs_cv.fit(X_resampled, y_resampled)\n",
    "\n",
    "score = gs_cv.best_score_"
   ]
  },
  {
   "cell_type": "code",
   "execution_count": 155,
   "outputs": [
    {
     "data": {
      "text/plain": "0.5666440600733982"
     },
     "execution_count": 155,
     "metadata": {},
     "output_type": "execute_result"
    }
   ],
   "source": [
    "score"
   ],
   "metadata": {
    "collapsed": false,
    "pycharm": {
     "name": "#%%\n"
    }
   }
  },
  {
   "cell_type": "code",
   "execution_count": 156,
   "outputs": [
    {
     "data": {
      "text/plain": "{'C': 0.5, 'degree': 1.0, 'gamma': 'scale', 'kernel': 'rbf'}"
     },
     "execution_count": 156,
     "metadata": {},
     "output_type": "execute_result"
    }
   ],
   "source": [
    "gs_cv.best_params_"
   ],
   "metadata": {
    "collapsed": false,
    "pycharm": {
     "name": "#%%\n"
    }
   }
  },
  {
   "cell_type": "code",
   "execution_count": 157,
   "outputs": [],
   "source": [
    "with open('evaluation_reduced.pkl', 'rb') as f:\n",
    "    eval = pickle.load(f)\n",
    "\n",
    "eval = eval.drop(['segment_id'], axis=1)"
   ],
   "metadata": {
    "collapsed": false,
    "pycharm": {
     "name": "#%%\n"
    }
   }
  },
  {
   "cell_type": "code",
   "execution_count": 158,
   "outputs": [],
   "source": [
    "# get only the low and mid level features + segment_id\n",
    "with open('pred_train_test_reduced.pkl', 'rb') as f:\n",
    "    X = pickle.load(f)"
   ],
   "metadata": {
    "collapsed": false,
    "pycharm": {
     "name": "#%%\n"
    }
   }
  },
  {
   "cell_type": "code",
   "execution_count": 159,
   "outputs": [],
   "source": [
    "y_eval = df['quadrant'][X.shape[0]:]"
   ],
   "metadata": {
    "collapsed": false,
    "pycharm": {
     "name": "#%%\n"
    }
   }
  },
  {
   "cell_type": "code",
   "execution_count": 160,
   "outputs": [
    {
     "data": {
      "text/plain": "((48,),\n 4132    1.0\n 4133    1.0\n 4134    1.0\n 4135    1.0\n 4136    1.0\n 4137    1.0\n 4138    4.0\n 4139    4.0\n 4140    4.0\n 4141    4.0\n 4142    4.0\n 4143    4.0\n 4144    4.0\n 4145    4.0\n 4146    4.0\n 4147    4.0\n 4148    4.0\n 4149    4.0\n 4150    4.0\n 4151    4.0\n 4152    4.0\n 4153    4.0\n 4154    4.0\n 4155    4.0\n 4156    4.0\n 4157    4.0\n 4158    4.0\n 4159    4.0\n 4160    4.0\n 4161    4.0\n 4162    4.0\n 4163    4.0\n 4164    4.0\n 4165    4.0\n 4166    4.0\n 4167    4.0\n 4168    4.0\n 4169    4.0\n 4170    4.0\n 4171    4.0\n 4172    4.0\n 4173    1.0\n 4174    1.0\n 4175    1.0\n 4176    1.0\n 4177    1.0\n 4178    1.0\n 4179    1.0\n Name: quadrant, dtype: float64)"
     },
     "execution_count": 160,
     "metadata": {},
     "output_type": "execute_result"
    }
   ],
   "source": [
    "y_eval.shape, y_eval"
   ],
   "metadata": {
    "collapsed": false,
    "pycharm": {
     "name": "#%%\n"
    }
   }
  },
  {
   "cell_type": "code",
   "execution_count": 161,
   "outputs": [
    {
     "data": {
      "text/plain": "(48, 158)"
     },
     "execution_count": 161,
     "metadata": {},
     "output_type": "execute_result"
    }
   ],
   "source": [
    "eval.shape"
   ],
   "metadata": {
    "collapsed": false,
    "pycharm": {
     "name": "#%%\n"
    }
   }
  },
  {
   "cell_type": "code",
   "execution_count": 162,
   "outputs": [
    {
     "name": "stderr",
     "output_type": "stream",
     "text": [
      "/opt/anaconda3/envs/MLPC/lib/python3.8/site-packages/sklearn/base.py:443: UserWarning:\n",
      "\n",
      "X has feature names, but SVC was fitted without feature names\n",
      "\n"
     ]
    },
    {
     "data": {
      "text/plain": "0.0625"
     },
     "execution_count": 162,
     "metadata": {},
     "output_type": "execute_result"
    }
   ],
   "source": [
    "y_calc = gs_cv.predict(eval)\n",
    "\n",
    "accuracy_score(y_eval, y_calc)"
   ],
   "metadata": {
    "collapsed": false,
    "pycharm": {
     "name": "#%%\n"
    }
   }
  },
  {
   "cell_type": "code",
   "execution_count": 114,
   "outputs": [
    {
     "data": {
      "text/plain": "     mean_fit_time  std_fit_time  mean_score_time  std_score_time param_C  \\\n0         0.033189      0.003632         0.002445        0.001313    0.25   \n1         0.028199      0.008749         0.003482        0.002812    0.25   \n2         0.037086      0.004563         0.004451        0.002422    0.25   \n3         0.032587      0.005152         0.003373        0.002140    0.25   \n4         0.034521      0.004744         0.002637        0.001265    0.25   \n..             ...           ...              ...             ...     ...   \n315       0.028680      0.004058         0.002521        0.000882       2   \n316       0.072914      0.015654         0.002134        0.000816       2   \n317       0.037249      0.006133         0.002777        0.001277       2   \n318       0.034272      0.005093         0.003631        0.001626       2   \n319       0.028224      0.004238         0.002634        0.000918       2   \n\n    param_degree param_gamma param_kernel  \\\n0            1.0        auto       linear   \n1            1.0        auto         poly   \n2            1.0        auto          rbf   \n3            1.0        auto      sigmoid   \n4            2.0        auto       linear   \n..           ...         ...          ...   \n315          9.0        auto      sigmoid   \n316         10.0        auto       linear   \n317         10.0        auto         poly   \n318         10.0        auto          rbf   \n319         10.0        auto      sigmoid   \n\n                                                params  split0_test_score  \\\n0    {'C': 0.25, 'degree': 1.0, 'gamma': 'auto', 'k...           0.809524   \n1    {'C': 0.25, 'degree': 1.0, 'gamma': 'auto', 'k...           0.738095   \n2    {'C': 0.25, 'degree': 1.0, 'gamma': 'auto', 'k...           0.690476   \n3    {'C': 0.25, 'degree': 1.0, 'gamma': 'auto', 'k...           0.714286   \n4    {'C': 0.25, 'degree': 2.0, 'gamma': 'auto', 'k...           0.809524   \n..                                                 ...                ...   \n315  {'C': 2, 'degree': 9.0, 'gamma': 'auto', 'kern...           0.690476   \n316  {'C': 2, 'degree': 10.0, 'gamma': 'auto', 'ker...           0.833333   \n317  {'C': 2, 'degree': 10.0, 'gamma': 'auto', 'ker...           0.666667   \n318  {'C': 2, 'degree': 10.0, 'gamma': 'auto', 'ker...           0.880952   \n319  {'C': 2, 'degree': 10.0, 'gamma': 'auto', 'ker...           0.690476   \n\n     ...  split17_train_score  split18_train_score  split19_train_score  \\\n0    ...             0.949343             0.938889             0.934823   \n1    ...             0.647280             0.637037             0.638734   \n2    ...             0.690432             0.685185             0.689013   \n3    ...             0.594747             0.592593             0.605214   \n4    ...             0.949343             0.938889             0.934823   \n..   ...                  ...                  ...                  ...   \n315  ...             0.619137             0.609259             0.610801   \n316  ...             0.979362             0.977778             0.981378   \n317  ...             0.675422             0.670370             0.674115   \n318  ...             0.988743             0.985185             0.985102   \n319  ...             0.619137             0.609259             0.610801   \n\n     split20_train_score  split21_train_score  split22_train_score  \\\n0               0.935115             0.936170             0.939623   \n1               0.648855             0.644101             0.633962   \n2               0.696565             0.700193             0.679245   \n3               0.601145             0.597679             0.583019   \n4               0.935115             0.936170             0.939623   \n..                   ...                  ...                  ...   \n315             0.625954             0.628627             0.598113   \n316             0.980916             0.978723             0.979245   \n317             0.669847             0.669246             0.664151   \n318             0.980916             0.984526             0.984906   \n319             0.625954             0.628627             0.598113   \n\n     split23_train_score  split24_train_score  mean_train_score  \\\n0               0.942699             0.942164          0.940448   \n1               0.628466             0.632463          0.634696   \n2               0.676525             0.667910          0.685644   \n3               0.591497             0.595149          0.593202   \n4               0.942699             0.942164          0.940448   \n..                   ...                  ...               ...   \n315             0.611830             0.608209          0.611557   \n316             0.985213             0.986940          0.983359   \n317             0.658041             0.652985          0.664309   \n318             0.985213             0.981343          0.983929   \n319             0.611830             0.608209          0.611557   \n\n     std_train_score  \n0           0.005030  \n1           0.009977  \n2           0.009685  \n3           0.010027  \n4           0.005030  \n..               ...  \n315         0.011806  \n316         0.003928  \n317         0.007942  \n318         0.003028  \n319         0.011806  \n\n[320 rows x 64 columns]",
      "text/html": "<div>\n<style scoped>\n    .dataframe tbody tr th:only-of-type {\n        vertical-align: middle;\n    }\n\n    .dataframe tbody tr th {\n        vertical-align: top;\n    }\n\n    .dataframe thead th {\n        text-align: right;\n    }\n</style>\n<table border=\"1\" class=\"dataframe\">\n  <thead>\n    <tr style=\"text-align: right;\">\n      <th></th>\n      <th>mean_fit_time</th>\n      <th>std_fit_time</th>\n      <th>mean_score_time</th>\n      <th>std_score_time</th>\n      <th>param_C</th>\n      <th>param_degree</th>\n      <th>param_gamma</th>\n      <th>param_kernel</th>\n      <th>params</th>\n      <th>split0_test_score</th>\n      <th>...</th>\n      <th>split17_train_score</th>\n      <th>split18_train_score</th>\n      <th>split19_train_score</th>\n      <th>split20_train_score</th>\n      <th>split21_train_score</th>\n      <th>split22_train_score</th>\n      <th>split23_train_score</th>\n      <th>split24_train_score</th>\n      <th>mean_train_score</th>\n      <th>std_train_score</th>\n    </tr>\n  </thead>\n  <tbody>\n    <tr>\n      <th>0</th>\n      <td>0.033189</td>\n      <td>0.003632</td>\n      <td>0.002445</td>\n      <td>0.001313</td>\n      <td>0.25</td>\n      <td>1.0</td>\n      <td>auto</td>\n      <td>linear</td>\n      <td>{'C': 0.25, 'degree': 1.0, 'gamma': 'auto', 'k...</td>\n      <td>0.809524</td>\n      <td>...</td>\n      <td>0.949343</td>\n      <td>0.938889</td>\n      <td>0.934823</td>\n      <td>0.935115</td>\n      <td>0.936170</td>\n      <td>0.939623</td>\n      <td>0.942699</td>\n      <td>0.942164</td>\n      <td>0.940448</td>\n      <td>0.005030</td>\n    </tr>\n    <tr>\n      <th>1</th>\n      <td>0.028199</td>\n      <td>0.008749</td>\n      <td>0.003482</td>\n      <td>0.002812</td>\n      <td>0.25</td>\n      <td>1.0</td>\n      <td>auto</td>\n      <td>poly</td>\n      <td>{'C': 0.25, 'degree': 1.0, 'gamma': 'auto', 'k...</td>\n      <td>0.738095</td>\n      <td>...</td>\n      <td>0.647280</td>\n      <td>0.637037</td>\n      <td>0.638734</td>\n      <td>0.648855</td>\n      <td>0.644101</td>\n      <td>0.633962</td>\n      <td>0.628466</td>\n      <td>0.632463</td>\n      <td>0.634696</td>\n      <td>0.009977</td>\n    </tr>\n    <tr>\n      <th>2</th>\n      <td>0.037086</td>\n      <td>0.004563</td>\n      <td>0.004451</td>\n      <td>0.002422</td>\n      <td>0.25</td>\n      <td>1.0</td>\n      <td>auto</td>\n      <td>rbf</td>\n      <td>{'C': 0.25, 'degree': 1.0, 'gamma': 'auto', 'k...</td>\n      <td>0.690476</td>\n      <td>...</td>\n      <td>0.690432</td>\n      <td>0.685185</td>\n      <td>0.689013</td>\n      <td>0.696565</td>\n      <td>0.700193</td>\n      <td>0.679245</td>\n      <td>0.676525</td>\n      <td>0.667910</td>\n      <td>0.685644</td>\n      <td>0.009685</td>\n    </tr>\n    <tr>\n      <th>3</th>\n      <td>0.032587</td>\n      <td>0.005152</td>\n      <td>0.003373</td>\n      <td>0.002140</td>\n      <td>0.25</td>\n      <td>1.0</td>\n      <td>auto</td>\n      <td>sigmoid</td>\n      <td>{'C': 0.25, 'degree': 1.0, 'gamma': 'auto', 'k...</td>\n      <td>0.714286</td>\n      <td>...</td>\n      <td>0.594747</td>\n      <td>0.592593</td>\n      <td>0.605214</td>\n      <td>0.601145</td>\n      <td>0.597679</td>\n      <td>0.583019</td>\n      <td>0.591497</td>\n      <td>0.595149</td>\n      <td>0.593202</td>\n      <td>0.010027</td>\n    </tr>\n    <tr>\n      <th>4</th>\n      <td>0.034521</td>\n      <td>0.004744</td>\n      <td>0.002637</td>\n      <td>0.001265</td>\n      <td>0.25</td>\n      <td>2.0</td>\n      <td>auto</td>\n      <td>linear</td>\n      <td>{'C': 0.25, 'degree': 2.0, 'gamma': 'auto', 'k...</td>\n      <td>0.809524</td>\n      <td>...</td>\n      <td>0.949343</td>\n      <td>0.938889</td>\n      <td>0.934823</td>\n      <td>0.935115</td>\n      <td>0.936170</td>\n      <td>0.939623</td>\n      <td>0.942699</td>\n      <td>0.942164</td>\n      <td>0.940448</td>\n      <td>0.005030</td>\n    </tr>\n    <tr>\n      <th>...</th>\n      <td>...</td>\n      <td>...</td>\n      <td>...</td>\n      <td>...</td>\n      <td>...</td>\n      <td>...</td>\n      <td>...</td>\n      <td>...</td>\n      <td>...</td>\n      <td>...</td>\n      <td>...</td>\n      <td>...</td>\n      <td>...</td>\n      <td>...</td>\n      <td>...</td>\n      <td>...</td>\n      <td>...</td>\n      <td>...</td>\n      <td>...</td>\n      <td>...</td>\n      <td>...</td>\n    </tr>\n    <tr>\n      <th>315</th>\n      <td>0.028680</td>\n      <td>0.004058</td>\n      <td>0.002521</td>\n      <td>0.000882</td>\n      <td>2</td>\n      <td>9.0</td>\n      <td>auto</td>\n      <td>sigmoid</td>\n      <td>{'C': 2, 'degree': 9.0, 'gamma': 'auto', 'kern...</td>\n      <td>0.690476</td>\n      <td>...</td>\n      <td>0.619137</td>\n      <td>0.609259</td>\n      <td>0.610801</td>\n      <td>0.625954</td>\n      <td>0.628627</td>\n      <td>0.598113</td>\n      <td>0.611830</td>\n      <td>0.608209</td>\n      <td>0.611557</td>\n      <td>0.011806</td>\n    </tr>\n    <tr>\n      <th>316</th>\n      <td>0.072914</td>\n      <td>0.015654</td>\n      <td>0.002134</td>\n      <td>0.000816</td>\n      <td>2</td>\n      <td>10.0</td>\n      <td>auto</td>\n      <td>linear</td>\n      <td>{'C': 2, 'degree': 10.0, 'gamma': 'auto', 'ker...</td>\n      <td>0.833333</td>\n      <td>...</td>\n      <td>0.979362</td>\n      <td>0.977778</td>\n      <td>0.981378</td>\n      <td>0.980916</td>\n      <td>0.978723</td>\n      <td>0.979245</td>\n      <td>0.985213</td>\n      <td>0.986940</td>\n      <td>0.983359</td>\n      <td>0.003928</td>\n    </tr>\n    <tr>\n      <th>317</th>\n      <td>0.037249</td>\n      <td>0.006133</td>\n      <td>0.002777</td>\n      <td>0.001277</td>\n      <td>2</td>\n      <td>10.0</td>\n      <td>auto</td>\n      <td>poly</td>\n      <td>{'C': 2, 'degree': 10.0, 'gamma': 'auto', 'ker...</td>\n      <td>0.666667</td>\n      <td>...</td>\n      <td>0.675422</td>\n      <td>0.670370</td>\n      <td>0.674115</td>\n      <td>0.669847</td>\n      <td>0.669246</td>\n      <td>0.664151</td>\n      <td>0.658041</td>\n      <td>0.652985</td>\n      <td>0.664309</td>\n      <td>0.007942</td>\n    </tr>\n    <tr>\n      <th>318</th>\n      <td>0.034272</td>\n      <td>0.005093</td>\n      <td>0.003631</td>\n      <td>0.001626</td>\n      <td>2</td>\n      <td>10.0</td>\n      <td>auto</td>\n      <td>rbf</td>\n      <td>{'C': 2, 'degree': 10.0, 'gamma': 'auto', 'ker...</td>\n      <td>0.880952</td>\n      <td>...</td>\n      <td>0.988743</td>\n      <td>0.985185</td>\n      <td>0.985102</td>\n      <td>0.980916</td>\n      <td>0.984526</td>\n      <td>0.984906</td>\n      <td>0.985213</td>\n      <td>0.981343</td>\n      <td>0.983929</td>\n      <td>0.003028</td>\n    </tr>\n    <tr>\n      <th>319</th>\n      <td>0.028224</td>\n      <td>0.004238</td>\n      <td>0.002634</td>\n      <td>0.000918</td>\n      <td>2</td>\n      <td>10.0</td>\n      <td>auto</td>\n      <td>sigmoid</td>\n      <td>{'C': 2, 'degree': 10.0, 'gamma': 'auto', 'ker...</td>\n      <td>0.690476</td>\n      <td>...</td>\n      <td>0.619137</td>\n      <td>0.609259</td>\n      <td>0.610801</td>\n      <td>0.625954</td>\n      <td>0.628627</td>\n      <td>0.598113</td>\n      <td>0.611830</td>\n      <td>0.608209</td>\n      <td>0.611557</td>\n      <td>0.011806</td>\n    </tr>\n  </tbody>\n</table>\n<p>320 rows × 64 columns</p>\n</div>"
     },
     "execution_count": 114,
     "metadata": {},
     "output_type": "execute_result"
    }
   ],
   "source": [
    "# results of the Grid Search CV\n",
    "cv_results = pd.DataFrame.from_dict(gs_cv.cv_results_)\n",
    "# cv_results['param_var_smoothing'] = smoothing\n",
    "cv_results"
   ],
   "metadata": {
    "collapsed": false,
    "pycharm": {
     "name": "#%%\n"
    }
   }
  },
  {
   "cell_type": "code",
   "execution_count": 104,
   "outputs": [
    {
     "data": {
      "application/vnd.plotly.v1+json": {
       "data": [
        {
         "hovertemplate": "data=mean_test_score<br>Smoothing=%{x}<br>Accuracy=%{y}<extra></extra>",
         "legendgroup": "mean_test_score",
         "line": {
          "color": "#636efa",
          "dash": "solid"
         },
         "marker": {
          "symbol": "circle"
         },
         "mode": "lines",
         "name": "mean_test_score",
         "orientation": "v",
         "showlegend": true,
         "x": [
          0.1,
          0.02,
          0.01,
          0.001,
          1.0E-4
         ],
         "xaxis": "x",
         "y": [
          0.5179412285339633,
          0.5086751856633512,
          0.5062482562709045,
          0.4914609452027138,
          0.48019961125024824
         ],
         "yaxis": "y",
         "type": "scatter"
        },
        {
         "hovertemplate": "data=mean_train_score<br>Smoothing=%{x}<br>Accuracy=%{y}<extra></extra>",
         "legendgroup": "mean_train_score",
         "line": {
          "color": "#EF553B",
          "dash": "solid"
         },
         "marker": {
          "symbol": "circle"
         },
         "mode": "lines",
         "name": "mean_train_score",
         "orientation": "v",
         "showlegend": true,
         "x": [
          0.1,
          0.02,
          0.01,
          0.001,
          1.0E-4
         ],
         "xaxis": "x",
         "y": [
          0.5874957791335174,
          0.5906658407042837,
          0.5910967051223713,
          0.5883015455987799,
          0.5799067108542542
         ],
         "yaxis": "y",
         "type": "scatter"
        }
       ],
       "layout": {
        "template": {
         "data": {
          "bar": [
           {
            "error_x": {
             "color": "#2a3f5f"
            },
            "error_y": {
             "color": "#2a3f5f"
            },
            "marker": {
             "line": {
              "color": "#E5ECF6",
              "width": 0.5
             },
             "pattern": {
              "fillmode": "overlay",
              "size": 10,
              "solidity": 0.2
             }
            },
            "type": "bar"
           }
          ],
          "barpolar": [
           {
            "marker": {
             "line": {
              "color": "#E5ECF6",
              "width": 0.5
             },
             "pattern": {
              "fillmode": "overlay",
              "size": 10,
              "solidity": 0.2
             }
            },
            "type": "barpolar"
           }
          ],
          "carpet": [
           {
            "aaxis": {
             "endlinecolor": "#2a3f5f",
             "gridcolor": "white",
             "linecolor": "white",
             "minorgridcolor": "white",
             "startlinecolor": "#2a3f5f"
            },
            "baxis": {
             "endlinecolor": "#2a3f5f",
             "gridcolor": "white",
             "linecolor": "white",
             "minorgridcolor": "white",
             "startlinecolor": "#2a3f5f"
            },
            "type": "carpet"
           }
          ],
          "choropleth": [
           {
            "colorbar": {
             "outlinewidth": 0,
             "ticks": ""
            },
            "type": "choropleth"
           }
          ],
          "contour": [
           {
            "colorbar": {
             "outlinewidth": 0,
             "ticks": ""
            },
            "colorscale": [
             [
              0.0,
              "#0d0887"
             ],
             [
              0.1111111111111111,
              "#46039f"
             ],
             [
              0.2222222222222222,
              "#7201a8"
             ],
             [
              0.3333333333333333,
              "#9c179e"
             ],
             [
              0.4444444444444444,
              "#bd3786"
             ],
             [
              0.5555555555555556,
              "#d8576b"
             ],
             [
              0.6666666666666666,
              "#ed7953"
             ],
             [
              0.7777777777777778,
              "#fb9f3a"
             ],
             [
              0.8888888888888888,
              "#fdca26"
             ],
             [
              1.0,
              "#f0f921"
             ]
            ],
            "type": "contour"
           }
          ],
          "contourcarpet": [
           {
            "colorbar": {
             "outlinewidth": 0,
             "ticks": ""
            },
            "type": "contourcarpet"
           }
          ],
          "heatmap": [
           {
            "colorbar": {
             "outlinewidth": 0,
             "ticks": ""
            },
            "colorscale": [
             [
              0.0,
              "#0d0887"
             ],
             [
              0.1111111111111111,
              "#46039f"
             ],
             [
              0.2222222222222222,
              "#7201a8"
             ],
             [
              0.3333333333333333,
              "#9c179e"
             ],
             [
              0.4444444444444444,
              "#bd3786"
             ],
             [
              0.5555555555555556,
              "#d8576b"
             ],
             [
              0.6666666666666666,
              "#ed7953"
             ],
             [
              0.7777777777777778,
              "#fb9f3a"
             ],
             [
              0.8888888888888888,
              "#fdca26"
             ],
             [
              1.0,
              "#f0f921"
             ]
            ],
            "type": "heatmap"
           }
          ],
          "heatmapgl": [
           {
            "colorbar": {
             "outlinewidth": 0,
             "ticks": ""
            },
            "colorscale": [
             [
              0.0,
              "#0d0887"
             ],
             [
              0.1111111111111111,
              "#46039f"
             ],
             [
              0.2222222222222222,
              "#7201a8"
             ],
             [
              0.3333333333333333,
              "#9c179e"
             ],
             [
              0.4444444444444444,
              "#bd3786"
             ],
             [
              0.5555555555555556,
              "#d8576b"
             ],
             [
              0.6666666666666666,
              "#ed7953"
             ],
             [
              0.7777777777777778,
              "#fb9f3a"
             ],
             [
              0.8888888888888888,
              "#fdca26"
             ],
             [
              1.0,
              "#f0f921"
             ]
            ],
            "type": "heatmapgl"
           }
          ],
          "histogram": [
           {
            "marker": {
             "pattern": {
              "fillmode": "overlay",
              "size": 10,
              "solidity": 0.2
             }
            },
            "type": "histogram"
           }
          ],
          "histogram2d": [
           {
            "colorbar": {
             "outlinewidth": 0,
             "ticks": ""
            },
            "colorscale": [
             [
              0.0,
              "#0d0887"
             ],
             [
              0.1111111111111111,
              "#46039f"
             ],
             [
              0.2222222222222222,
              "#7201a8"
             ],
             [
              0.3333333333333333,
              "#9c179e"
             ],
             [
              0.4444444444444444,
              "#bd3786"
             ],
             [
              0.5555555555555556,
              "#d8576b"
             ],
             [
              0.6666666666666666,
              "#ed7953"
             ],
             [
              0.7777777777777778,
              "#fb9f3a"
             ],
             [
              0.8888888888888888,
              "#fdca26"
             ],
             [
              1.0,
              "#f0f921"
             ]
            ],
            "type": "histogram2d"
           }
          ],
          "histogram2dcontour": [
           {
            "colorbar": {
             "outlinewidth": 0,
             "ticks": ""
            },
            "colorscale": [
             [
              0.0,
              "#0d0887"
             ],
             [
              0.1111111111111111,
              "#46039f"
             ],
             [
              0.2222222222222222,
              "#7201a8"
             ],
             [
              0.3333333333333333,
              "#9c179e"
             ],
             [
              0.4444444444444444,
              "#bd3786"
             ],
             [
              0.5555555555555556,
              "#d8576b"
             ],
             [
              0.6666666666666666,
              "#ed7953"
             ],
             [
              0.7777777777777778,
              "#fb9f3a"
             ],
             [
              0.8888888888888888,
              "#fdca26"
             ],
             [
              1.0,
              "#f0f921"
             ]
            ],
            "type": "histogram2dcontour"
           }
          ],
          "mesh3d": [
           {
            "colorbar": {
             "outlinewidth": 0,
             "ticks": ""
            },
            "type": "mesh3d"
           }
          ],
          "parcoords": [
           {
            "line": {
             "colorbar": {
              "outlinewidth": 0,
              "ticks": ""
             }
            },
            "type": "parcoords"
           }
          ],
          "pie": [
           {
            "automargin": true,
            "type": "pie"
           }
          ],
          "scatter": [
           {
            "marker": {
             "colorbar": {
              "outlinewidth": 0,
              "ticks": ""
             }
            },
            "type": "scatter"
           }
          ],
          "scatter3d": [
           {
            "line": {
             "colorbar": {
              "outlinewidth": 0,
              "ticks": ""
             }
            },
            "marker": {
             "colorbar": {
              "outlinewidth": 0,
              "ticks": ""
             }
            },
            "type": "scatter3d"
           }
          ],
          "scattercarpet": [
           {
            "marker": {
             "colorbar": {
              "outlinewidth": 0,
              "ticks": ""
             }
            },
            "type": "scattercarpet"
           }
          ],
          "scattergeo": [
           {
            "marker": {
             "colorbar": {
              "outlinewidth": 0,
              "ticks": ""
             }
            },
            "type": "scattergeo"
           }
          ],
          "scattergl": [
           {
            "marker": {
             "colorbar": {
              "outlinewidth": 0,
              "ticks": ""
             }
            },
            "type": "scattergl"
           }
          ],
          "scattermapbox": [
           {
            "marker": {
             "colorbar": {
              "outlinewidth": 0,
              "ticks": ""
             }
            },
            "type": "scattermapbox"
           }
          ],
          "scatterpolar": [
           {
            "marker": {
             "colorbar": {
              "outlinewidth": 0,
              "ticks": ""
             }
            },
            "type": "scatterpolar"
           }
          ],
          "scatterpolargl": [
           {
            "marker": {
             "colorbar": {
              "outlinewidth": 0,
              "ticks": ""
             }
            },
            "type": "scatterpolargl"
           }
          ],
          "scatterternary": [
           {
            "marker": {
             "colorbar": {
              "outlinewidth": 0,
              "ticks": ""
             }
            },
            "type": "scatterternary"
           }
          ],
          "surface": [
           {
            "colorbar": {
             "outlinewidth": 0,
             "ticks": ""
            },
            "colorscale": [
             [
              0.0,
              "#0d0887"
             ],
             [
              0.1111111111111111,
              "#46039f"
             ],
             [
              0.2222222222222222,
              "#7201a8"
             ],
             [
              0.3333333333333333,
              "#9c179e"
             ],
             [
              0.4444444444444444,
              "#bd3786"
             ],
             [
              0.5555555555555556,
              "#d8576b"
             ],
             [
              0.6666666666666666,
              "#ed7953"
             ],
             [
              0.7777777777777778,
              "#fb9f3a"
             ],
             [
              0.8888888888888888,
              "#fdca26"
             ],
             [
              1.0,
              "#f0f921"
             ]
            ],
            "type": "surface"
           }
          ],
          "table": [
           {
            "cells": {
             "fill": {
              "color": "#EBF0F8"
             },
             "line": {
              "color": "white"
             }
            },
            "header": {
             "fill": {
              "color": "#C8D4E3"
             },
             "line": {
              "color": "white"
             }
            },
            "type": "table"
           }
          ]
         },
         "layout": {
          "annotationdefaults": {
           "arrowcolor": "#2a3f5f",
           "arrowhead": 0,
           "arrowwidth": 1
          },
          "autotypenumbers": "strict",
          "coloraxis": {
           "colorbar": {
            "outlinewidth": 0,
            "ticks": ""
           }
          },
          "colorscale": {
           "diverging": [
            [
             0,
             "#8e0152"
            ],
            [
             0.1,
             "#c51b7d"
            ],
            [
             0.2,
             "#de77ae"
            ],
            [
             0.3,
             "#f1b6da"
            ],
            [
             0.4,
             "#fde0ef"
            ],
            [
             0.5,
             "#f7f7f7"
            ],
            [
             0.6,
             "#e6f5d0"
            ],
            [
             0.7,
             "#b8e186"
            ],
            [
             0.8,
             "#7fbc41"
            ],
            [
             0.9,
             "#4d9221"
            ],
            [
             1,
             "#276419"
            ]
           ],
           "sequential": [
            [
             0.0,
             "#0d0887"
            ],
            [
             0.1111111111111111,
             "#46039f"
            ],
            [
             0.2222222222222222,
             "#7201a8"
            ],
            [
             0.3333333333333333,
             "#9c179e"
            ],
            [
             0.4444444444444444,
             "#bd3786"
            ],
            [
             0.5555555555555556,
             "#d8576b"
            ],
            [
             0.6666666666666666,
             "#ed7953"
            ],
            [
             0.7777777777777778,
             "#fb9f3a"
            ],
            [
             0.8888888888888888,
             "#fdca26"
            ],
            [
             1.0,
             "#f0f921"
            ]
           ],
           "sequentialminus": [
            [
             0.0,
             "#0d0887"
            ],
            [
             0.1111111111111111,
             "#46039f"
            ],
            [
             0.2222222222222222,
             "#7201a8"
            ],
            [
             0.3333333333333333,
             "#9c179e"
            ],
            [
             0.4444444444444444,
             "#bd3786"
            ],
            [
             0.5555555555555556,
             "#d8576b"
            ],
            [
             0.6666666666666666,
             "#ed7953"
            ],
            [
             0.7777777777777778,
             "#fb9f3a"
            ],
            [
             0.8888888888888888,
             "#fdca26"
            ],
            [
             1.0,
             "#f0f921"
            ]
           ]
          },
          "colorway": [
           "#636efa",
           "#EF553B",
           "#00cc96",
           "#ab63fa",
           "#FFA15A",
           "#19d3f3",
           "#FF6692",
           "#B6E880",
           "#FF97FF",
           "#FECB52"
          ],
          "font": {
           "color": "#2a3f5f"
          },
          "geo": {
           "bgcolor": "white",
           "lakecolor": "white",
           "landcolor": "#E5ECF6",
           "showlakes": true,
           "showland": true,
           "subunitcolor": "white"
          },
          "hoverlabel": {
           "align": "left"
          },
          "hovermode": "closest",
          "mapbox": {
           "style": "light"
          },
          "paper_bgcolor": "white",
          "plot_bgcolor": "#E5ECF6",
          "polar": {
           "angularaxis": {
            "gridcolor": "white",
            "linecolor": "white",
            "ticks": ""
           },
           "bgcolor": "#E5ECF6",
           "radialaxis": {
            "gridcolor": "white",
            "linecolor": "white",
            "ticks": ""
           }
          },
          "scene": {
           "xaxis": {
            "backgroundcolor": "#E5ECF6",
            "gridcolor": "white",
            "gridwidth": 2,
            "linecolor": "white",
            "showbackground": true,
            "ticks": "",
            "zerolinecolor": "white"
           },
           "yaxis": {
            "backgroundcolor": "#E5ECF6",
            "gridcolor": "white",
            "gridwidth": 2,
            "linecolor": "white",
            "showbackground": true,
            "ticks": "",
            "zerolinecolor": "white"
           },
           "zaxis": {
            "backgroundcolor": "#E5ECF6",
            "gridcolor": "white",
            "gridwidth": 2,
            "linecolor": "white",
            "showbackground": true,
            "ticks": "",
            "zerolinecolor": "white"
           }
          },
          "shapedefaults": {
           "line": {
            "color": "#2a3f5f"
           }
          },
          "ternary": {
           "aaxis": {
            "gridcolor": "white",
            "linecolor": "white",
            "ticks": ""
           },
           "baxis": {
            "gridcolor": "white",
            "linecolor": "white",
            "ticks": ""
           },
           "bgcolor": "#E5ECF6",
           "caxis": {
            "gridcolor": "white",
            "linecolor": "white",
            "ticks": ""
           }
          },
          "title": {
           "x": 0.05
          },
          "xaxis": {
           "automargin": true,
           "gridcolor": "white",
           "linecolor": "white",
           "ticks": "",
           "title": {
            "standoff": 15
           },
           "zerolinecolor": "white",
           "zerolinewidth": 2
          },
          "yaxis": {
           "automargin": true,
           "gridcolor": "white",
           "linecolor": "white",
           "ticks": "",
           "title": {
            "standoff": 15
           },
           "zerolinecolor": "white",
           "zerolinewidth": 2
          }
         }
        },
        "xaxis": {
         "anchor": "y",
         "domain": [
          0.0,
          1.0
         ],
         "title": {
          "text": "Smoothing"
         }
        },
        "yaxis": {
         "anchor": "x",
         "domain": [
          0.0,
          1.0
         ],
         "title": {
          "text": "Accuracy"
         }
        },
        "legend": {
         "title": {
          "text": "data"
         },
         "tracegroupgap": 0
        },
        "title": {
         "text": "Scores for different smoothing values"
        },
        "height": 400,
        "width": 800
       },
       "config": {
        "plotlyServerURL": "https://plot.ly"
       }
      },
      "text/html": "<div>                            <div id=\"9e78a506-0eab-45e3-a12a-9d180942a7af\" class=\"plotly-graph-div\" style=\"height:400px; width:800px;\"></div>            <script type=\"text/javascript\">                require([\"plotly\"], function(Plotly) {                    window.PLOTLYENV=window.PLOTLYENV || {};                                    if (document.getElementById(\"9e78a506-0eab-45e3-a12a-9d180942a7af\")) {                    Plotly.newPlot(                        \"9e78a506-0eab-45e3-a12a-9d180942a7af\",                        [{\"hovertemplate\":\"data=mean_test_score<br>Smoothing=%{x}<br>Accuracy=%{y}<extra></extra>\",\"legendgroup\":\"mean_test_score\",\"line\":{\"color\":\"#636efa\",\"dash\":\"solid\"},\"marker\":{\"symbol\":\"circle\"},\"mode\":\"lines\",\"name\":\"mean_test_score\",\"orientation\":\"v\",\"showlegend\":true,\"x\":[0.1,0.02,0.01,0.001,0.0001],\"xaxis\":\"x\",\"y\":[0.5179412285339633,0.5086751856633512,0.5062482562709045,0.4914609452027138,0.48019961125024824],\"yaxis\":\"y\",\"type\":\"scatter\"},{\"hovertemplate\":\"data=mean_train_score<br>Smoothing=%{x}<br>Accuracy=%{y}<extra></extra>\",\"legendgroup\":\"mean_train_score\",\"line\":{\"color\":\"#EF553B\",\"dash\":\"solid\"},\"marker\":{\"symbol\":\"circle\"},\"mode\":\"lines\",\"name\":\"mean_train_score\",\"orientation\":\"v\",\"showlegend\":true,\"x\":[0.1,0.02,0.01,0.001,0.0001],\"xaxis\":\"x\",\"y\":[0.5874957791335174,0.5906658407042837,0.5910967051223713,0.5883015455987799,0.5799067108542542],\"yaxis\":\"y\",\"type\":\"scatter\"}],                        {\"template\":{\"data\":{\"bar\":[{\"error_x\":{\"color\":\"#2a3f5f\"},\"error_y\":{\"color\":\"#2a3f5f\"},\"marker\":{\"line\":{\"color\":\"#E5ECF6\",\"width\":0.5},\"pattern\":{\"fillmode\":\"overlay\",\"size\":10,\"solidity\":0.2}},\"type\":\"bar\"}],\"barpolar\":[{\"marker\":{\"line\":{\"color\":\"#E5ECF6\",\"width\":0.5},\"pattern\":{\"fillmode\":\"overlay\",\"size\":10,\"solidity\":0.2}},\"type\":\"barpolar\"}],\"carpet\":[{\"aaxis\":{\"endlinecolor\":\"#2a3f5f\",\"gridcolor\":\"white\",\"linecolor\":\"white\",\"minorgridcolor\":\"white\",\"startlinecolor\":\"#2a3f5f\"},\"baxis\":{\"endlinecolor\":\"#2a3f5f\",\"gridcolor\":\"white\",\"linecolor\":\"white\",\"minorgridcolor\":\"white\",\"startlinecolor\":\"#2a3f5f\"},\"type\":\"carpet\"}],\"choropleth\":[{\"colorbar\":{\"outlinewidth\":0,\"ticks\":\"\"},\"type\":\"choropleth\"}],\"contour\":[{\"colorbar\":{\"outlinewidth\":0,\"ticks\":\"\"},\"colorscale\":[[0.0,\"#0d0887\"],[0.1111111111111111,\"#46039f\"],[0.2222222222222222,\"#7201a8\"],[0.3333333333333333,\"#9c179e\"],[0.4444444444444444,\"#bd3786\"],[0.5555555555555556,\"#d8576b\"],[0.6666666666666666,\"#ed7953\"],[0.7777777777777778,\"#fb9f3a\"],[0.8888888888888888,\"#fdca26\"],[1.0,\"#f0f921\"]],\"type\":\"contour\"}],\"contourcarpet\":[{\"colorbar\":{\"outlinewidth\":0,\"ticks\":\"\"},\"type\":\"contourcarpet\"}],\"heatmap\":[{\"colorbar\":{\"outlinewidth\":0,\"ticks\":\"\"},\"colorscale\":[[0.0,\"#0d0887\"],[0.1111111111111111,\"#46039f\"],[0.2222222222222222,\"#7201a8\"],[0.3333333333333333,\"#9c179e\"],[0.4444444444444444,\"#bd3786\"],[0.5555555555555556,\"#d8576b\"],[0.6666666666666666,\"#ed7953\"],[0.7777777777777778,\"#fb9f3a\"],[0.8888888888888888,\"#fdca26\"],[1.0,\"#f0f921\"]],\"type\":\"heatmap\"}],\"heatmapgl\":[{\"colorbar\":{\"outlinewidth\":0,\"ticks\":\"\"},\"colorscale\":[[0.0,\"#0d0887\"],[0.1111111111111111,\"#46039f\"],[0.2222222222222222,\"#7201a8\"],[0.3333333333333333,\"#9c179e\"],[0.4444444444444444,\"#bd3786\"],[0.5555555555555556,\"#d8576b\"],[0.6666666666666666,\"#ed7953\"],[0.7777777777777778,\"#fb9f3a\"],[0.8888888888888888,\"#fdca26\"],[1.0,\"#f0f921\"]],\"type\":\"heatmapgl\"}],\"histogram\":[{\"marker\":{\"pattern\":{\"fillmode\":\"overlay\",\"size\":10,\"solidity\":0.2}},\"type\":\"histogram\"}],\"histogram2d\":[{\"colorbar\":{\"outlinewidth\":0,\"ticks\":\"\"},\"colorscale\":[[0.0,\"#0d0887\"],[0.1111111111111111,\"#46039f\"],[0.2222222222222222,\"#7201a8\"],[0.3333333333333333,\"#9c179e\"],[0.4444444444444444,\"#bd3786\"],[0.5555555555555556,\"#d8576b\"],[0.6666666666666666,\"#ed7953\"],[0.7777777777777778,\"#fb9f3a\"],[0.8888888888888888,\"#fdca26\"],[1.0,\"#f0f921\"]],\"type\":\"histogram2d\"}],\"histogram2dcontour\":[{\"colorbar\":{\"outlinewidth\":0,\"ticks\":\"\"},\"colorscale\":[[0.0,\"#0d0887\"],[0.1111111111111111,\"#46039f\"],[0.2222222222222222,\"#7201a8\"],[0.3333333333333333,\"#9c179e\"],[0.4444444444444444,\"#bd3786\"],[0.5555555555555556,\"#d8576b\"],[0.6666666666666666,\"#ed7953\"],[0.7777777777777778,\"#fb9f3a\"],[0.8888888888888888,\"#fdca26\"],[1.0,\"#f0f921\"]],\"type\":\"histogram2dcontour\"}],\"mesh3d\":[{\"colorbar\":{\"outlinewidth\":0,\"ticks\":\"\"},\"type\":\"mesh3d\"}],\"parcoords\":[{\"line\":{\"colorbar\":{\"outlinewidth\":0,\"ticks\":\"\"}},\"type\":\"parcoords\"}],\"pie\":[{\"automargin\":true,\"type\":\"pie\"}],\"scatter\":[{\"marker\":{\"colorbar\":{\"outlinewidth\":0,\"ticks\":\"\"}},\"type\":\"scatter\"}],\"scatter3d\":[{\"line\":{\"colorbar\":{\"outlinewidth\":0,\"ticks\":\"\"}},\"marker\":{\"colorbar\":{\"outlinewidth\":0,\"ticks\":\"\"}},\"type\":\"scatter3d\"}],\"scattercarpet\":[{\"marker\":{\"colorbar\":{\"outlinewidth\":0,\"ticks\":\"\"}},\"type\":\"scattercarpet\"}],\"scattergeo\":[{\"marker\":{\"colorbar\":{\"outlinewidth\":0,\"ticks\":\"\"}},\"type\":\"scattergeo\"}],\"scattergl\":[{\"marker\":{\"colorbar\":{\"outlinewidth\":0,\"ticks\":\"\"}},\"type\":\"scattergl\"}],\"scattermapbox\":[{\"marker\":{\"colorbar\":{\"outlinewidth\":0,\"ticks\":\"\"}},\"type\":\"scattermapbox\"}],\"scatterpolar\":[{\"marker\":{\"colorbar\":{\"outlinewidth\":0,\"ticks\":\"\"}},\"type\":\"scatterpolar\"}],\"scatterpolargl\":[{\"marker\":{\"colorbar\":{\"outlinewidth\":0,\"ticks\":\"\"}},\"type\":\"scatterpolargl\"}],\"scatterternary\":[{\"marker\":{\"colorbar\":{\"outlinewidth\":0,\"ticks\":\"\"}},\"type\":\"scatterternary\"}],\"surface\":[{\"colorbar\":{\"outlinewidth\":0,\"ticks\":\"\"},\"colorscale\":[[0.0,\"#0d0887\"],[0.1111111111111111,\"#46039f\"],[0.2222222222222222,\"#7201a8\"],[0.3333333333333333,\"#9c179e\"],[0.4444444444444444,\"#bd3786\"],[0.5555555555555556,\"#d8576b\"],[0.6666666666666666,\"#ed7953\"],[0.7777777777777778,\"#fb9f3a\"],[0.8888888888888888,\"#fdca26\"],[1.0,\"#f0f921\"]],\"type\":\"surface\"}],\"table\":[{\"cells\":{\"fill\":{\"color\":\"#EBF0F8\"},\"line\":{\"color\":\"white\"}},\"header\":{\"fill\":{\"color\":\"#C8D4E3\"},\"line\":{\"color\":\"white\"}},\"type\":\"table\"}]},\"layout\":{\"annotationdefaults\":{\"arrowcolor\":\"#2a3f5f\",\"arrowhead\":0,\"arrowwidth\":1},\"autotypenumbers\":\"strict\",\"coloraxis\":{\"colorbar\":{\"outlinewidth\":0,\"ticks\":\"\"}},\"colorscale\":{\"diverging\":[[0,\"#8e0152\"],[0.1,\"#c51b7d\"],[0.2,\"#de77ae\"],[0.3,\"#f1b6da\"],[0.4,\"#fde0ef\"],[0.5,\"#f7f7f7\"],[0.6,\"#e6f5d0\"],[0.7,\"#b8e186\"],[0.8,\"#7fbc41\"],[0.9,\"#4d9221\"],[1,\"#276419\"]],\"sequential\":[[0.0,\"#0d0887\"],[0.1111111111111111,\"#46039f\"],[0.2222222222222222,\"#7201a8\"],[0.3333333333333333,\"#9c179e\"],[0.4444444444444444,\"#bd3786\"],[0.5555555555555556,\"#d8576b\"],[0.6666666666666666,\"#ed7953\"],[0.7777777777777778,\"#fb9f3a\"],[0.8888888888888888,\"#fdca26\"],[1.0,\"#f0f921\"]],\"sequentialminus\":[[0.0,\"#0d0887\"],[0.1111111111111111,\"#46039f\"],[0.2222222222222222,\"#7201a8\"],[0.3333333333333333,\"#9c179e\"],[0.4444444444444444,\"#bd3786\"],[0.5555555555555556,\"#d8576b\"],[0.6666666666666666,\"#ed7953\"],[0.7777777777777778,\"#fb9f3a\"],[0.8888888888888888,\"#fdca26\"],[1.0,\"#f0f921\"]]},\"colorway\":[\"#636efa\",\"#EF553B\",\"#00cc96\",\"#ab63fa\",\"#FFA15A\",\"#19d3f3\",\"#FF6692\",\"#B6E880\",\"#FF97FF\",\"#FECB52\"],\"font\":{\"color\":\"#2a3f5f\"},\"geo\":{\"bgcolor\":\"white\",\"lakecolor\":\"white\",\"landcolor\":\"#E5ECF6\",\"showlakes\":true,\"showland\":true,\"subunitcolor\":\"white\"},\"hoverlabel\":{\"align\":\"left\"},\"hovermode\":\"closest\",\"mapbox\":{\"style\":\"light\"},\"paper_bgcolor\":\"white\",\"plot_bgcolor\":\"#E5ECF6\",\"polar\":{\"angularaxis\":{\"gridcolor\":\"white\",\"linecolor\":\"white\",\"ticks\":\"\"},\"bgcolor\":\"#E5ECF6\",\"radialaxis\":{\"gridcolor\":\"white\",\"linecolor\":\"white\",\"ticks\":\"\"}},\"scene\":{\"xaxis\":{\"backgroundcolor\":\"#E5ECF6\",\"gridcolor\":\"white\",\"gridwidth\":2,\"linecolor\":\"white\",\"showbackground\":true,\"ticks\":\"\",\"zerolinecolor\":\"white\"},\"yaxis\":{\"backgroundcolor\":\"#E5ECF6\",\"gridcolor\":\"white\",\"gridwidth\":2,\"linecolor\":\"white\",\"showbackground\":true,\"ticks\":\"\",\"zerolinecolor\":\"white\"},\"zaxis\":{\"backgroundcolor\":\"#E5ECF6\",\"gridcolor\":\"white\",\"gridwidth\":2,\"linecolor\":\"white\",\"showbackground\":true,\"ticks\":\"\",\"zerolinecolor\":\"white\"}},\"shapedefaults\":{\"line\":{\"color\":\"#2a3f5f\"}},\"ternary\":{\"aaxis\":{\"gridcolor\":\"white\",\"linecolor\":\"white\",\"ticks\":\"\"},\"baxis\":{\"gridcolor\":\"white\",\"linecolor\":\"white\",\"ticks\":\"\"},\"bgcolor\":\"#E5ECF6\",\"caxis\":{\"gridcolor\":\"white\",\"linecolor\":\"white\",\"ticks\":\"\"}},\"title\":{\"x\":0.05},\"xaxis\":{\"automargin\":true,\"gridcolor\":\"white\",\"linecolor\":\"white\",\"ticks\":\"\",\"title\":{\"standoff\":15},\"zerolinecolor\":\"white\",\"zerolinewidth\":2},\"yaxis\":{\"automargin\":true,\"gridcolor\":\"white\",\"linecolor\":\"white\",\"ticks\":\"\",\"title\":{\"standoff\":15},\"zerolinecolor\":\"white\",\"zerolinewidth\":2}}},\"xaxis\":{\"anchor\":\"y\",\"domain\":[0.0,1.0],\"title\":{\"text\":\"Smoothing\"}},\"yaxis\":{\"anchor\":\"x\",\"domain\":[0.0,1.0],\"title\":{\"text\":\"Accuracy\"}},\"legend\":{\"title\":{\"text\":\"data\"},\"tracegroupgap\":0},\"title\":{\"text\":\"Scores for different smoothing values\"},\"height\":400,\"width\":800},                        {\"responsive\": true}                    ).then(function(){\n                            \nvar gd = document.getElementById('9e78a506-0eab-45e3-a12a-9d180942a7af');\nvar x = new MutationObserver(function (mutations, observer) {{\n        var display = window.getComputedStyle(gd).display;\n        if (!display || display === 'none') {{\n            console.log([gd, 'removed!']);\n            Plotly.purge(gd);\n            observer.disconnect();\n        }}\n}});\n\n// Listen for the removal of the full notebook cells\nvar notebookContainer = gd.closest('#notebook-container');\nif (notebookContainer) {{\n    x.observe(notebookContainer, {childList: true});\n}}\n\n// Listen for the clearing of the current output cell\nvar outputEl = gd.closest('.output');\nif (outputEl) {{\n    x.observe(outputEl, {childList: true});\n}}\n\n                        })                };                });            </script>        </div>"
     },
     "metadata": {},
     "output_type": "display_data"
    }
   ],
   "source": [
    "# plot the train and test error against number of neighbors\n",
    "fig = px.line(\n",
    "    cv_results,\n",
    "    x=\"param_var_smoothing\",\n",
    "    y=[\"mean_test_score\", \"mean_train_score\"],\n",
    "    title='Scores for different smoothing values',\n",
    "    labels={\n",
    "        \"param_var_smoothing\": \"Smoothing\",\n",
    "        \"mean_test_score\": \"Mean Test Score\",\n",
    "        \"mean_train_score\": \"Mean Train Score\",\n",
    "        \"value\": \"Accuracy\",\n",
    "        \"variable\": \"data\"\n",
    "    },\n",
    "    width=800,\n",
    "    height=400,\n",
    ")\n",
    "fig.update_traces(mode=\"lines\")\n",
    "fig.show()"
   ],
   "metadata": {
    "collapsed": false,
    "pycharm": {
     "name": "#%%\n"
    }
   }
  },
  {
   "cell_type": "code",
   "execution_count": 16,
   "outputs": [
    {
     "data": {
      "application/vnd.plotly.v1+json": {
       "data": [
        {
         "hovertemplate": "C=%{x}<br>Mean Test Score=%{y}<extra></extra>",
         "legendgroup": "",
         "line": {
          "color": "#636efa",
          "dash": "solid"
         },
         "marker": {
          "symbol": "circle"
         },
         "mode": "lines",
         "name": "",
         "orientation": "v",
         "showlegend": false,
         "x": [
          0.25,
          0.5,
          0.75,
          1,
          1.25,
          1.5,
          1.75,
          2,
          2.25,
          2.5
         ],
         "xaxis": "x",
         "y": [
          0.49959324422638546,
          0.5593507450340781,
          0.6059114386211044,
          0.6452272980692888,
          0.6654257126177255,
          0.6870625918422881,
          0.7092468805497967,
          0.7267498172607678,
          0.7362266187375692,
          0.7473690224839902
         ],
         "yaxis": "y",
         "type": "scatter"
        }
       ],
       "layout": {
        "template": {
         "data": {
          "bar": [
           {
            "error_x": {
             "color": "#2a3f5f"
            },
            "error_y": {
             "color": "#2a3f5f"
            },
            "marker": {
             "line": {
              "color": "#E5ECF6",
              "width": 0.5
             },
             "pattern": {
              "fillmode": "overlay",
              "size": 10,
              "solidity": 0.2
             }
            },
            "type": "bar"
           }
          ],
          "barpolar": [
           {
            "marker": {
             "line": {
              "color": "#E5ECF6",
              "width": 0.5
             },
             "pattern": {
              "fillmode": "overlay",
              "size": 10,
              "solidity": 0.2
             }
            },
            "type": "barpolar"
           }
          ],
          "carpet": [
           {
            "aaxis": {
             "endlinecolor": "#2a3f5f",
             "gridcolor": "white",
             "linecolor": "white",
             "minorgridcolor": "white",
             "startlinecolor": "#2a3f5f"
            },
            "baxis": {
             "endlinecolor": "#2a3f5f",
             "gridcolor": "white",
             "linecolor": "white",
             "minorgridcolor": "white",
             "startlinecolor": "#2a3f5f"
            },
            "type": "carpet"
           }
          ],
          "choropleth": [
           {
            "colorbar": {
             "outlinewidth": 0,
             "ticks": ""
            },
            "type": "choropleth"
           }
          ],
          "contour": [
           {
            "colorbar": {
             "outlinewidth": 0,
             "ticks": ""
            },
            "colorscale": [
             [
              0.0,
              "#0d0887"
             ],
             [
              0.1111111111111111,
              "#46039f"
             ],
             [
              0.2222222222222222,
              "#7201a8"
             ],
             [
              0.3333333333333333,
              "#9c179e"
             ],
             [
              0.4444444444444444,
              "#bd3786"
             ],
             [
              0.5555555555555556,
              "#d8576b"
             ],
             [
              0.6666666666666666,
              "#ed7953"
             ],
             [
              0.7777777777777778,
              "#fb9f3a"
             ],
             [
              0.8888888888888888,
              "#fdca26"
             ],
             [
              1.0,
              "#f0f921"
             ]
            ],
            "type": "contour"
           }
          ],
          "contourcarpet": [
           {
            "colorbar": {
             "outlinewidth": 0,
             "ticks": ""
            },
            "type": "contourcarpet"
           }
          ],
          "heatmap": [
           {
            "colorbar": {
             "outlinewidth": 0,
             "ticks": ""
            },
            "colorscale": [
             [
              0.0,
              "#0d0887"
             ],
             [
              0.1111111111111111,
              "#46039f"
             ],
             [
              0.2222222222222222,
              "#7201a8"
             ],
             [
              0.3333333333333333,
              "#9c179e"
             ],
             [
              0.4444444444444444,
              "#bd3786"
             ],
             [
              0.5555555555555556,
              "#d8576b"
             ],
             [
              0.6666666666666666,
              "#ed7953"
             ],
             [
              0.7777777777777778,
              "#fb9f3a"
             ],
             [
              0.8888888888888888,
              "#fdca26"
             ],
             [
              1.0,
              "#f0f921"
             ]
            ],
            "type": "heatmap"
           }
          ],
          "heatmapgl": [
           {
            "colorbar": {
             "outlinewidth": 0,
             "ticks": ""
            },
            "colorscale": [
             [
              0.0,
              "#0d0887"
             ],
             [
              0.1111111111111111,
              "#46039f"
             ],
             [
              0.2222222222222222,
              "#7201a8"
             ],
             [
              0.3333333333333333,
              "#9c179e"
             ],
             [
              0.4444444444444444,
              "#bd3786"
             ],
             [
              0.5555555555555556,
              "#d8576b"
             ],
             [
              0.6666666666666666,
              "#ed7953"
             ],
             [
              0.7777777777777778,
              "#fb9f3a"
             ],
             [
              0.8888888888888888,
              "#fdca26"
             ],
             [
              1.0,
              "#f0f921"
             ]
            ],
            "type": "heatmapgl"
           }
          ],
          "histogram": [
           {
            "marker": {
             "pattern": {
              "fillmode": "overlay",
              "size": 10,
              "solidity": 0.2
             }
            },
            "type": "histogram"
           }
          ],
          "histogram2d": [
           {
            "colorbar": {
             "outlinewidth": 0,
             "ticks": ""
            },
            "colorscale": [
             [
              0.0,
              "#0d0887"
             ],
             [
              0.1111111111111111,
              "#46039f"
             ],
             [
              0.2222222222222222,
              "#7201a8"
             ],
             [
              0.3333333333333333,
              "#9c179e"
             ],
             [
              0.4444444444444444,
              "#bd3786"
             ],
             [
              0.5555555555555556,
              "#d8576b"
             ],
             [
              0.6666666666666666,
              "#ed7953"
             ],
             [
              0.7777777777777778,
              "#fb9f3a"
             ],
             [
              0.8888888888888888,
              "#fdca26"
             ],
             [
              1.0,
              "#f0f921"
             ]
            ],
            "type": "histogram2d"
           }
          ],
          "histogram2dcontour": [
           {
            "colorbar": {
             "outlinewidth": 0,
             "ticks": ""
            },
            "colorscale": [
             [
              0.0,
              "#0d0887"
             ],
             [
              0.1111111111111111,
              "#46039f"
             ],
             [
              0.2222222222222222,
              "#7201a8"
             ],
             [
              0.3333333333333333,
              "#9c179e"
             ],
             [
              0.4444444444444444,
              "#bd3786"
             ],
             [
              0.5555555555555556,
              "#d8576b"
             ],
             [
              0.6666666666666666,
              "#ed7953"
             ],
             [
              0.7777777777777778,
              "#fb9f3a"
             ],
             [
              0.8888888888888888,
              "#fdca26"
             ],
             [
              1.0,
              "#f0f921"
             ]
            ],
            "type": "histogram2dcontour"
           }
          ],
          "mesh3d": [
           {
            "colorbar": {
             "outlinewidth": 0,
             "ticks": ""
            },
            "type": "mesh3d"
           }
          ],
          "parcoords": [
           {
            "line": {
             "colorbar": {
              "outlinewidth": 0,
              "ticks": ""
             }
            },
            "type": "parcoords"
           }
          ],
          "pie": [
           {
            "automargin": true,
            "type": "pie"
           }
          ],
          "scatter": [
           {
            "marker": {
             "colorbar": {
              "outlinewidth": 0,
              "ticks": ""
             }
            },
            "type": "scatter"
           }
          ],
          "scatter3d": [
           {
            "line": {
             "colorbar": {
              "outlinewidth": 0,
              "ticks": ""
             }
            },
            "marker": {
             "colorbar": {
              "outlinewidth": 0,
              "ticks": ""
             }
            },
            "type": "scatter3d"
           }
          ],
          "scattercarpet": [
           {
            "marker": {
             "colorbar": {
              "outlinewidth": 0,
              "ticks": ""
             }
            },
            "type": "scattercarpet"
           }
          ],
          "scattergeo": [
           {
            "marker": {
             "colorbar": {
              "outlinewidth": 0,
              "ticks": ""
             }
            },
            "type": "scattergeo"
           }
          ],
          "scattergl": [
           {
            "marker": {
             "colorbar": {
              "outlinewidth": 0,
              "ticks": ""
             }
            },
            "type": "scattergl"
           }
          ],
          "scattermapbox": [
           {
            "marker": {
             "colorbar": {
              "outlinewidth": 0,
              "ticks": ""
             }
            },
            "type": "scattermapbox"
           }
          ],
          "scatterpolar": [
           {
            "marker": {
             "colorbar": {
              "outlinewidth": 0,
              "ticks": ""
             }
            },
            "type": "scatterpolar"
           }
          ],
          "scatterpolargl": [
           {
            "marker": {
             "colorbar": {
              "outlinewidth": 0,
              "ticks": ""
             }
            },
            "type": "scatterpolargl"
           }
          ],
          "scatterternary": [
           {
            "marker": {
             "colorbar": {
              "outlinewidth": 0,
              "ticks": ""
             }
            },
            "type": "scatterternary"
           }
          ],
          "surface": [
           {
            "colorbar": {
             "outlinewidth": 0,
             "ticks": ""
            },
            "colorscale": [
             [
              0.0,
              "#0d0887"
             ],
             [
              0.1111111111111111,
              "#46039f"
             ],
             [
              0.2222222222222222,
              "#7201a8"
             ],
             [
              0.3333333333333333,
              "#9c179e"
             ],
             [
              0.4444444444444444,
              "#bd3786"
             ],
             [
              0.5555555555555556,
              "#d8576b"
             ],
             [
              0.6666666666666666,
              "#ed7953"
             ],
             [
              0.7777777777777778,
              "#fb9f3a"
             ],
             [
              0.8888888888888888,
              "#fdca26"
             ],
             [
              1.0,
              "#f0f921"
             ]
            ],
            "type": "surface"
           }
          ],
          "table": [
           {
            "cells": {
             "fill": {
              "color": "#EBF0F8"
             },
             "line": {
              "color": "white"
             }
            },
            "header": {
             "fill": {
              "color": "#C8D4E3"
             },
             "line": {
              "color": "white"
             }
            },
            "type": "table"
           }
          ]
         },
         "layout": {
          "annotationdefaults": {
           "arrowcolor": "#2a3f5f",
           "arrowhead": 0,
           "arrowwidth": 1
          },
          "autotypenumbers": "strict",
          "coloraxis": {
           "colorbar": {
            "outlinewidth": 0,
            "ticks": ""
           }
          },
          "colorscale": {
           "diverging": [
            [
             0,
             "#8e0152"
            ],
            [
             0.1,
             "#c51b7d"
            ],
            [
             0.2,
             "#de77ae"
            ],
            [
             0.3,
             "#f1b6da"
            ],
            [
             0.4,
             "#fde0ef"
            ],
            [
             0.5,
             "#f7f7f7"
            ],
            [
             0.6,
             "#e6f5d0"
            ],
            [
             0.7,
             "#b8e186"
            ],
            [
             0.8,
             "#7fbc41"
            ],
            [
             0.9,
             "#4d9221"
            ],
            [
             1,
             "#276419"
            ]
           ],
           "sequential": [
            [
             0.0,
             "#0d0887"
            ],
            [
             0.1111111111111111,
             "#46039f"
            ],
            [
             0.2222222222222222,
             "#7201a8"
            ],
            [
             0.3333333333333333,
             "#9c179e"
            ],
            [
             0.4444444444444444,
             "#bd3786"
            ],
            [
             0.5555555555555556,
             "#d8576b"
            ],
            [
             0.6666666666666666,
             "#ed7953"
            ],
            [
             0.7777777777777778,
             "#fb9f3a"
            ],
            [
             0.8888888888888888,
             "#fdca26"
            ],
            [
             1.0,
             "#f0f921"
            ]
           ],
           "sequentialminus": [
            [
             0.0,
             "#0d0887"
            ],
            [
             0.1111111111111111,
             "#46039f"
            ],
            [
             0.2222222222222222,
             "#7201a8"
            ],
            [
             0.3333333333333333,
             "#9c179e"
            ],
            [
             0.4444444444444444,
             "#bd3786"
            ],
            [
             0.5555555555555556,
             "#d8576b"
            ],
            [
             0.6666666666666666,
             "#ed7953"
            ],
            [
             0.7777777777777778,
             "#fb9f3a"
            ],
            [
             0.8888888888888888,
             "#fdca26"
            ],
            [
             1.0,
             "#f0f921"
            ]
           ]
          },
          "colorway": [
           "#636efa",
           "#EF553B",
           "#00cc96",
           "#ab63fa",
           "#FFA15A",
           "#19d3f3",
           "#FF6692",
           "#B6E880",
           "#FF97FF",
           "#FECB52"
          ],
          "font": {
           "color": "#2a3f5f"
          },
          "geo": {
           "bgcolor": "white",
           "lakecolor": "white",
           "landcolor": "#E5ECF6",
           "showlakes": true,
           "showland": true,
           "subunitcolor": "white"
          },
          "hoverlabel": {
           "align": "left"
          },
          "hovermode": "closest",
          "mapbox": {
           "style": "light"
          },
          "paper_bgcolor": "white",
          "plot_bgcolor": "#E5ECF6",
          "polar": {
           "angularaxis": {
            "gridcolor": "white",
            "linecolor": "white",
            "ticks": ""
           },
           "bgcolor": "#E5ECF6",
           "radialaxis": {
            "gridcolor": "white",
            "linecolor": "white",
            "ticks": ""
           }
          },
          "scene": {
           "xaxis": {
            "backgroundcolor": "#E5ECF6",
            "gridcolor": "white",
            "gridwidth": 2,
            "linecolor": "white",
            "showbackground": true,
            "ticks": "",
            "zerolinecolor": "white"
           },
           "yaxis": {
            "backgroundcolor": "#E5ECF6",
            "gridcolor": "white",
            "gridwidth": 2,
            "linecolor": "white",
            "showbackground": true,
            "ticks": "",
            "zerolinecolor": "white"
           },
           "zaxis": {
            "backgroundcolor": "#E5ECF6",
            "gridcolor": "white",
            "gridwidth": 2,
            "linecolor": "white",
            "showbackground": true,
            "ticks": "",
            "zerolinecolor": "white"
           }
          },
          "shapedefaults": {
           "line": {
            "color": "#2a3f5f"
           }
          },
          "ternary": {
           "aaxis": {
            "gridcolor": "white",
            "linecolor": "white",
            "ticks": ""
           },
           "baxis": {
            "gridcolor": "white",
            "linecolor": "white",
            "ticks": ""
           },
           "bgcolor": "#E5ECF6",
           "caxis": {
            "gridcolor": "white",
            "linecolor": "white",
            "ticks": ""
           }
          },
          "title": {
           "x": 0.05
          },
          "xaxis": {
           "automargin": true,
           "gridcolor": "white",
           "linecolor": "white",
           "ticks": "",
           "title": {
            "standoff": 15
           },
           "zerolinecolor": "white",
           "zerolinewidth": 2
          },
          "yaxis": {
           "automargin": true,
           "gridcolor": "white",
           "linecolor": "white",
           "ticks": "",
           "title": {
            "standoff": 15
           },
           "zerolinecolor": "white",
           "zerolinewidth": 2
          }
         }
        },
        "xaxis": {
         "anchor": "y",
         "domain": [
          0.0,
          1.0
         ],
         "title": {
          "text": "C"
         }
        },
        "yaxis": {
         "anchor": "x",
         "domain": [
          0.0,
          1.0
         ],
         "title": {
          "text": "Mean Test Score"
         }
        },
        "legend": {
         "tracegroupgap": 0
        },
        "title": {
         "text": "Train and Test Error for an increasing number of neighbors using uniform weights for neighbors"
        },
        "height": 400,
        "width": 800
       },
       "config": {
        "plotlyServerURL": "https://plot.ly"
       }
      },
      "text/html": "<div>                            <div id=\"63dc8995-f82d-4eff-897a-4b00f9e08f22\" class=\"plotly-graph-div\" style=\"height:400px; width:800px;\"></div>            <script type=\"text/javascript\">                require([\"plotly\"], function(Plotly) {                    window.PLOTLYENV=window.PLOTLYENV || {};                                    if (document.getElementById(\"63dc8995-f82d-4eff-897a-4b00f9e08f22\")) {                    Plotly.newPlot(                        \"63dc8995-f82d-4eff-897a-4b00f9e08f22\",                        [{\"hovertemplate\":\"C=%{x}<br>Mean Test Score=%{y}<extra></extra>\",\"legendgroup\":\"\",\"line\":{\"color\":\"#636efa\",\"dash\":\"solid\"},\"marker\":{\"symbol\":\"circle\"},\"mode\":\"lines\",\"name\":\"\",\"orientation\":\"v\",\"showlegend\":false,\"x\":[0.25,0.5,0.75,1,1.25,1.5,1.75,2,2.25,2.5],\"xaxis\":\"x\",\"y\":[0.49959324422638546,0.5593507450340781,0.6059114386211044,0.6452272980692888,0.6654257126177255,0.6870625918422881,0.7092468805497967,0.7267498172607678,0.7362266187375692,0.7473690224839902],\"yaxis\":\"y\",\"type\":\"scatter\"}],                        {\"template\":{\"data\":{\"bar\":[{\"error_x\":{\"color\":\"#2a3f5f\"},\"error_y\":{\"color\":\"#2a3f5f\"},\"marker\":{\"line\":{\"color\":\"#E5ECF6\",\"width\":0.5},\"pattern\":{\"fillmode\":\"overlay\",\"size\":10,\"solidity\":0.2}},\"type\":\"bar\"}],\"barpolar\":[{\"marker\":{\"line\":{\"color\":\"#E5ECF6\",\"width\":0.5},\"pattern\":{\"fillmode\":\"overlay\",\"size\":10,\"solidity\":0.2}},\"type\":\"barpolar\"}],\"carpet\":[{\"aaxis\":{\"endlinecolor\":\"#2a3f5f\",\"gridcolor\":\"white\",\"linecolor\":\"white\",\"minorgridcolor\":\"white\",\"startlinecolor\":\"#2a3f5f\"},\"baxis\":{\"endlinecolor\":\"#2a3f5f\",\"gridcolor\":\"white\",\"linecolor\":\"white\",\"minorgridcolor\":\"white\",\"startlinecolor\":\"#2a3f5f\"},\"type\":\"carpet\"}],\"choropleth\":[{\"colorbar\":{\"outlinewidth\":0,\"ticks\":\"\"},\"type\":\"choropleth\"}],\"contour\":[{\"colorbar\":{\"outlinewidth\":0,\"ticks\":\"\"},\"colorscale\":[[0.0,\"#0d0887\"],[0.1111111111111111,\"#46039f\"],[0.2222222222222222,\"#7201a8\"],[0.3333333333333333,\"#9c179e\"],[0.4444444444444444,\"#bd3786\"],[0.5555555555555556,\"#d8576b\"],[0.6666666666666666,\"#ed7953\"],[0.7777777777777778,\"#fb9f3a\"],[0.8888888888888888,\"#fdca26\"],[1.0,\"#f0f921\"]],\"type\":\"contour\"}],\"contourcarpet\":[{\"colorbar\":{\"outlinewidth\":0,\"ticks\":\"\"},\"type\":\"contourcarpet\"}],\"heatmap\":[{\"colorbar\":{\"outlinewidth\":0,\"ticks\":\"\"},\"colorscale\":[[0.0,\"#0d0887\"],[0.1111111111111111,\"#46039f\"],[0.2222222222222222,\"#7201a8\"],[0.3333333333333333,\"#9c179e\"],[0.4444444444444444,\"#bd3786\"],[0.5555555555555556,\"#d8576b\"],[0.6666666666666666,\"#ed7953\"],[0.7777777777777778,\"#fb9f3a\"],[0.8888888888888888,\"#fdca26\"],[1.0,\"#f0f921\"]],\"type\":\"heatmap\"}],\"heatmapgl\":[{\"colorbar\":{\"outlinewidth\":0,\"ticks\":\"\"},\"colorscale\":[[0.0,\"#0d0887\"],[0.1111111111111111,\"#46039f\"],[0.2222222222222222,\"#7201a8\"],[0.3333333333333333,\"#9c179e\"],[0.4444444444444444,\"#bd3786\"],[0.5555555555555556,\"#d8576b\"],[0.6666666666666666,\"#ed7953\"],[0.7777777777777778,\"#fb9f3a\"],[0.8888888888888888,\"#fdca26\"],[1.0,\"#f0f921\"]],\"type\":\"heatmapgl\"}],\"histogram\":[{\"marker\":{\"pattern\":{\"fillmode\":\"overlay\",\"size\":10,\"solidity\":0.2}},\"type\":\"histogram\"}],\"histogram2d\":[{\"colorbar\":{\"outlinewidth\":0,\"ticks\":\"\"},\"colorscale\":[[0.0,\"#0d0887\"],[0.1111111111111111,\"#46039f\"],[0.2222222222222222,\"#7201a8\"],[0.3333333333333333,\"#9c179e\"],[0.4444444444444444,\"#bd3786\"],[0.5555555555555556,\"#d8576b\"],[0.6666666666666666,\"#ed7953\"],[0.7777777777777778,\"#fb9f3a\"],[0.8888888888888888,\"#fdca26\"],[1.0,\"#f0f921\"]],\"type\":\"histogram2d\"}],\"histogram2dcontour\":[{\"colorbar\":{\"outlinewidth\":0,\"ticks\":\"\"},\"colorscale\":[[0.0,\"#0d0887\"],[0.1111111111111111,\"#46039f\"],[0.2222222222222222,\"#7201a8\"],[0.3333333333333333,\"#9c179e\"],[0.4444444444444444,\"#bd3786\"],[0.5555555555555556,\"#d8576b\"],[0.6666666666666666,\"#ed7953\"],[0.7777777777777778,\"#fb9f3a\"],[0.8888888888888888,\"#fdca26\"],[1.0,\"#f0f921\"]],\"type\":\"histogram2dcontour\"}],\"mesh3d\":[{\"colorbar\":{\"outlinewidth\":0,\"ticks\":\"\"},\"type\":\"mesh3d\"}],\"parcoords\":[{\"line\":{\"colorbar\":{\"outlinewidth\":0,\"ticks\":\"\"}},\"type\":\"parcoords\"}],\"pie\":[{\"automargin\":true,\"type\":\"pie\"}],\"scatter\":[{\"marker\":{\"colorbar\":{\"outlinewidth\":0,\"ticks\":\"\"}},\"type\":\"scatter\"}],\"scatter3d\":[{\"line\":{\"colorbar\":{\"outlinewidth\":0,\"ticks\":\"\"}},\"marker\":{\"colorbar\":{\"outlinewidth\":0,\"ticks\":\"\"}},\"type\":\"scatter3d\"}],\"scattercarpet\":[{\"marker\":{\"colorbar\":{\"outlinewidth\":0,\"ticks\":\"\"}},\"type\":\"scattercarpet\"}],\"scattergeo\":[{\"marker\":{\"colorbar\":{\"outlinewidth\":0,\"ticks\":\"\"}},\"type\":\"scattergeo\"}],\"scattergl\":[{\"marker\":{\"colorbar\":{\"outlinewidth\":0,\"ticks\":\"\"}},\"type\":\"scattergl\"}],\"scattermapbox\":[{\"marker\":{\"colorbar\":{\"outlinewidth\":0,\"ticks\":\"\"}},\"type\":\"scattermapbox\"}],\"scatterpolar\":[{\"marker\":{\"colorbar\":{\"outlinewidth\":0,\"ticks\":\"\"}},\"type\":\"scatterpolar\"}],\"scatterpolargl\":[{\"marker\":{\"colorbar\":{\"outlinewidth\":0,\"ticks\":\"\"}},\"type\":\"scatterpolargl\"}],\"scatterternary\":[{\"marker\":{\"colorbar\":{\"outlinewidth\":0,\"ticks\":\"\"}},\"type\":\"scatterternary\"}],\"surface\":[{\"colorbar\":{\"outlinewidth\":0,\"ticks\":\"\"},\"colorscale\":[[0.0,\"#0d0887\"],[0.1111111111111111,\"#46039f\"],[0.2222222222222222,\"#7201a8\"],[0.3333333333333333,\"#9c179e\"],[0.4444444444444444,\"#bd3786\"],[0.5555555555555556,\"#d8576b\"],[0.6666666666666666,\"#ed7953\"],[0.7777777777777778,\"#fb9f3a\"],[0.8888888888888888,\"#fdca26\"],[1.0,\"#f0f921\"]],\"type\":\"surface\"}],\"table\":[{\"cells\":{\"fill\":{\"color\":\"#EBF0F8\"},\"line\":{\"color\":\"white\"}},\"header\":{\"fill\":{\"color\":\"#C8D4E3\"},\"line\":{\"color\":\"white\"}},\"type\":\"table\"}]},\"layout\":{\"annotationdefaults\":{\"arrowcolor\":\"#2a3f5f\",\"arrowhead\":0,\"arrowwidth\":1},\"autotypenumbers\":\"strict\",\"coloraxis\":{\"colorbar\":{\"outlinewidth\":0,\"ticks\":\"\"}},\"colorscale\":{\"diverging\":[[0,\"#8e0152\"],[0.1,\"#c51b7d\"],[0.2,\"#de77ae\"],[0.3,\"#f1b6da\"],[0.4,\"#fde0ef\"],[0.5,\"#f7f7f7\"],[0.6,\"#e6f5d0\"],[0.7,\"#b8e186\"],[0.8,\"#7fbc41\"],[0.9,\"#4d9221\"],[1,\"#276419\"]],\"sequential\":[[0.0,\"#0d0887\"],[0.1111111111111111,\"#46039f\"],[0.2222222222222222,\"#7201a8\"],[0.3333333333333333,\"#9c179e\"],[0.4444444444444444,\"#bd3786\"],[0.5555555555555556,\"#d8576b\"],[0.6666666666666666,\"#ed7953\"],[0.7777777777777778,\"#fb9f3a\"],[0.8888888888888888,\"#fdca26\"],[1.0,\"#f0f921\"]],\"sequentialminus\":[[0.0,\"#0d0887\"],[0.1111111111111111,\"#46039f\"],[0.2222222222222222,\"#7201a8\"],[0.3333333333333333,\"#9c179e\"],[0.4444444444444444,\"#bd3786\"],[0.5555555555555556,\"#d8576b\"],[0.6666666666666666,\"#ed7953\"],[0.7777777777777778,\"#fb9f3a\"],[0.8888888888888888,\"#fdca26\"],[1.0,\"#f0f921\"]]},\"colorway\":[\"#636efa\",\"#EF553B\",\"#00cc96\",\"#ab63fa\",\"#FFA15A\",\"#19d3f3\",\"#FF6692\",\"#B6E880\",\"#FF97FF\",\"#FECB52\"],\"font\":{\"color\":\"#2a3f5f\"},\"geo\":{\"bgcolor\":\"white\",\"lakecolor\":\"white\",\"landcolor\":\"#E5ECF6\",\"showlakes\":true,\"showland\":true,\"subunitcolor\":\"white\"},\"hoverlabel\":{\"align\":\"left\"},\"hovermode\":\"closest\",\"mapbox\":{\"style\":\"light\"},\"paper_bgcolor\":\"white\",\"plot_bgcolor\":\"#E5ECF6\",\"polar\":{\"angularaxis\":{\"gridcolor\":\"white\",\"linecolor\":\"white\",\"ticks\":\"\"},\"bgcolor\":\"#E5ECF6\",\"radialaxis\":{\"gridcolor\":\"white\",\"linecolor\":\"white\",\"ticks\":\"\"}},\"scene\":{\"xaxis\":{\"backgroundcolor\":\"#E5ECF6\",\"gridcolor\":\"white\",\"gridwidth\":2,\"linecolor\":\"white\",\"showbackground\":true,\"ticks\":\"\",\"zerolinecolor\":\"white\"},\"yaxis\":{\"backgroundcolor\":\"#E5ECF6\",\"gridcolor\":\"white\",\"gridwidth\":2,\"linecolor\":\"white\",\"showbackground\":true,\"ticks\":\"\",\"zerolinecolor\":\"white\"},\"zaxis\":{\"backgroundcolor\":\"#E5ECF6\",\"gridcolor\":\"white\",\"gridwidth\":2,\"linecolor\":\"white\",\"showbackground\":true,\"ticks\":\"\",\"zerolinecolor\":\"white\"}},\"shapedefaults\":{\"line\":{\"color\":\"#2a3f5f\"}},\"ternary\":{\"aaxis\":{\"gridcolor\":\"white\",\"linecolor\":\"white\",\"ticks\":\"\"},\"baxis\":{\"gridcolor\":\"white\",\"linecolor\":\"white\",\"ticks\":\"\"},\"bgcolor\":\"#E5ECF6\",\"caxis\":{\"gridcolor\":\"white\",\"linecolor\":\"white\",\"ticks\":\"\"}},\"title\":{\"x\":0.05},\"xaxis\":{\"automargin\":true,\"gridcolor\":\"white\",\"linecolor\":\"white\",\"ticks\":\"\",\"title\":{\"standoff\":15},\"zerolinecolor\":\"white\",\"zerolinewidth\":2},\"yaxis\":{\"automargin\":true,\"gridcolor\":\"white\",\"linecolor\":\"white\",\"ticks\":\"\",\"title\":{\"standoff\":15},\"zerolinecolor\":\"white\",\"zerolinewidth\":2}}},\"xaxis\":{\"anchor\":\"y\",\"domain\":[0.0,1.0],\"title\":{\"text\":\"C\"}},\"yaxis\":{\"anchor\":\"x\",\"domain\":[0.0,1.0],\"title\":{\"text\":\"Mean Test Score\"}},\"legend\":{\"tracegroupgap\":0},\"title\":{\"text\":\"Train and Test Error for an increasing number of neighbors using uniform weights for neighbors\"},\"height\":400,\"width\":800},                        {\"responsive\": true}                    ).then(function(){\n                            \nvar gd = document.getElementById('63dc8995-f82d-4eff-897a-4b00f9e08f22');\nvar x = new MutationObserver(function (mutations, observer) {{\n        var display = window.getComputedStyle(gd).display;\n        if (!display || display === 'none') {{\n            console.log([gd, 'removed!']);\n            Plotly.purge(gd);\n            observer.disconnect();\n        }}\n}});\n\n// Listen for the removal of the full notebook cells\nvar notebookContainer = gd.closest('#notebook-container');\nif (notebookContainer) {{\n    x.observe(notebookContainer, {childList: true});\n}}\n\n// Listen for the clearing of the current output cell\nvar outputEl = gd.closest('.output');\nif (outputEl) {{\n    x.observe(outputEl, {childList: true});\n}}\n\n                        })                };                });            </script>        </div>"
     },
     "metadata": {},
     "output_type": "display_data"
    }
   ],
   "source": [
    "# plot the train and test error against number of neighbors\n",
    "fig = px.line(\n",
    "    cv_results,\n",
    "    x=\"param_C\",\n",
    "    y=\"mean_test_score\",\n",
    "    title=\"Train and Test Error for an increasing number of neighbors using uniform weights for neighbors\",\n",
    "    labels={\n",
    "        \"param_C\": \"C\",\n",
    "        \"mean_test_score\": \"Mean Test Score\",\n",
    "        \"mean_train_score\": \"Mean Train Score\",\n",
    "        \"value\": \"Accuracy\",\n",
    "        \"variable\": \"data\"\n",
    "    },\n",
    "    width=800,\n",
    "    height=400,\n",
    ")\n",
    "fig.update_traces(mode=\"lines\")\n",
    "fig.show()"
   ],
   "metadata": {
    "collapsed": false,
    "pycharm": {
     "name": "#%%\n"
    }
   }
  },
  {
   "cell_type": "code",
   "execution_count": 28,
   "outputs": [],
   "source": [
    "# grid search parameters for the different classifiers\n",
    "parameters = {'kernel': ['linear', 'poly', 'rbf', 'sigmoid']}\n",
    "\n",
    "# get only the low and mid level features + segment_id\n",
    "with open('pred_train_test_reduced.pkl', 'rb') as f:\n",
    "    X = pickle.load(f)\n",
    "\n",
    "# preprocess dataset\n",
    "# X = pd.DataFrame(X_std, columns=X.columns)\n",
    "X = X.drop([\"segment_id\"], axis=1)\n",
    "\n",
    "# target value\n",
    "y = df['quadrant'][:X.shape[0]]\n",
    "\n",
    "X = StandardScaler().fit_transform(X)\n",
    "\n",
    "smote_enn = SMOTEENN(random_state=0)\n",
    "X_resampled, y_resampled = smote_enn.fit_resample(X, y)\n",
    "X_resampled = pd.DataFrame(X_resampled).reset_index()\n",
    "X_resampled.insert(0, 'segment_id', df[\"segment_id\"])\n",
    "\n",
    "# split the data according to segment_id\n",
    "# store the splits as tuple (train indices, test_indices)\n",
    "# for example the training indices are the first 26 segments\n",
    "# and the test_indices is the last segment 27\n",
    "cv = []\n",
    "for i in range(25):   # previously good result with 26\n",
    "    train_indices = X_resampled[~X_resampled[\"segment_id\"].isin([i, i + 1])].index.to_list()\n",
    "    test_indices = X_resampled[X_resampled[\"segment_id\"].isin([i, i + 1])].index.to_list()\n",
    "    cv.append((train_indices, test_indices))\n",
    "\n",
    "X_resampled = X_resampled.drop([\"segment_id\"], axis=1)\n",
    "X_resampled = X_resampled.drop([\"index\"], axis=1)\n",
    "\n",
    "# grid search the parameters for a given classifier\n",
    "gs_cv = GridSearchCV(SVC(), parameters, cv=cv, n_jobs=10, return_train_score=True)\n",
    "gs_cv.fit(X_resampled, y_resampled)\n",
    "\n",
    "score = gs_cv.best_score_"
   ],
   "metadata": {
    "collapsed": false,
    "pycharm": {
     "name": "#%%\n"
    }
   }
  },
  {
   "cell_type": "code",
   "execution_count": null,
   "outputs": [],
   "source": [
    "def evaluate_model(model, train_set_x, train_set_y, test_set_x, test_set_y):\n",
    "    \"\"\"\n",
    "\n",
    "    :param model:\n",
    "    :return:\n",
    "    \"\"\"\n",
    "    train_yhat = model.predict(train_set_x)\n",
    "    test_yhat = model.predict(test_set_x)\n",
    "\n",
    "    # errors = abs(test_yhat - y_test)\n",
    "\n",
    "    print('Model Performance Check:')\n",
    "    print(\"***\"*3)\n",
    "    print(' Average Error: {:0.4f}'.format(np.mean(errors)))\n",
    "    print(' Precission: {:0.4f}'.format(precision_score(test_set_y, test_yhat, average='micro')))\n",
    "    print(' Recall: {:0.4f}'.format(recall_score(test_set_y, test_yhat, average='micro')))\n",
    "\n",
    "\n",
    "    print(\"\\nModel Accuracy Check:\")\n",
    "    print(\"***\"*3)\n",
    "    print(\" Trainset Accuracy: {:0.4f}\".format(accuracy_score(train_set_y, train_yhat)))\n",
    "    print(\" Testset Accuracy: {:0.4f}\".format(accuracy_score(test_set_y, test_yhat)))"
   ],
   "metadata": {
    "collapsed": false,
    "pycharm": {
     "name": "#%%\n"
    }
   }
  }
 ],
 "metadata": {
  "kernelspec": {
   "display_name": "Python 3",
   "language": "python",
   "name": "python3"
  },
  "language_info": {
   "codemirror_mode": {
    "name": "ipython",
    "version": 2
   },
   "file_extension": ".py",
   "mimetype": "text/x-python",
   "name": "python",
   "nbconvert_exporter": "python",
   "pygments_lexer": "ipython2",
   "version": "2.7.6"
  }
 },
 "nbformat": 4,
 "nbformat_minor": 0
}