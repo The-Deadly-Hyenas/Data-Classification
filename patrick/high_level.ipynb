{
 "cells": [
  {
   "cell_type": "markdown",
   "source": [
    "# ..."
   ],
   "metadata": {
    "collapsed": false
   }
  },
  {
   "cell_type": "markdown",
   "source": [
    "### Imports"
   ],
   "metadata": {
    "collapsed": false
   }
  },
  {
   "cell_type": "code",
   "execution_count": 24,
   "metadata": {
    "collapsed": true
   },
   "outputs": [],
   "source": [
    "import joblib\n",
    "import pandas as pd\n",
    "import numpy as np\n",
    "import pickle\n",
    "from sklearn.preprocessing import StandardScaler\n",
    "from sklearn.neural_network import MLPClassifier\n",
    "from sklearn.neighbors import KNeighborsClassifier\n",
    "from sklearn.svm import SVC\n",
    "from sklearn.tree import DecisionTreeClassifier\n",
    "from sklearn.ensemble import RandomForestClassifier, AdaBoostClassifier\n",
    "from sklearn.naive_bayes import GaussianNB\n",
    "from sklearn.discriminant_analysis import QuadraticDiscriminantAnalysis\n",
    "from sklearn.model_selection import cross_val_score, KFold\n",
    "from sklearn.model_selection import GridSearchCV"
   ]
  },
  {
   "cell_type": "markdown",
   "source": [
    "### Data"
   ],
   "metadata": {
    "collapsed": false
   }
  },
  {
   "cell_type": "code",
   "execution_count": 38,
   "outputs": [
    {
     "data": {
      "text/plain": "      pianist_id  segment_id  snippet_id  essentia_dissonance_mean  \\\n0              1           0           0                  0.192237   \n1              1           0           1                  0.143425   \n2              1           0           2                  0.146967   \n3              1           0           3                  0.158810   \n4              1           0           4                  0.168547   \n...          ...         ...         ...                       ...   \n4175          11          26           2                  0.202177   \n4176          11          26           3                  0.174454   \n4177          11          26           4                  0.161152   \n4178          11          26           5                  0.192846   \n4179          11          26           6                  0.208580   \n\n      essentia_dissonance_stdev  essentia_dynamic_complexity  \\\n0                      0.059404                     2.040252   \n1                      0.064204                     3.138845   \n2                      0.056205                     2.019706   \n3                      0.059129                     3.567908   \n4                      0.049648                     2.329854   \n...                         ...                          ...   \n4175                   0.050760                     2.840705   \n4176                   0.063426                     5.202462   \n4177                   0.074724                     4.605277   \n4178                   0.056795                     2.563405   \n4179                   0.087355                    13.824711   \n\n      essentia_loudness  essentia_onset_rate  essentia_pitch_salience_mean  \\\n0            16079768.0             0.800000                      0.677256   \n1            35489248.0             2.600000                      0.514913   \n2            42130144.0             2.600000                      0.560116   \n3            40922732.0             1.400000                      0.596779   \n4            51921612.0             1.600000                      0.556160   \n...                 ...                  ...                           ...   \n4175         51977460.0             1.800000                      0.688834   \n4176          9471357.0             3.200000                      0.661253   \n4177          7378860.5             2.600000                      0.645111   \n4178         22641664.0             3.200000                      0.680604   \n4179          8544824.0             2.322119                      0.597944   \n\n      essentia_pitch_salience_stdev  ...  gems_nostalgia_binary  \\\n0                          0.095846  ...                    1.0   \n1                          0.092372  ...                    1.0   \n2                          0.115359  ...                    1.0   \n3                          0.116061  ...                    1.0   \n4                          0.143420  ...                    1.0   \n...                             ...  ...                    ...   \n4175                       0.090235  ...                    0.0   \n4176                       0.107627  ...                    0.0   \n4177                       0.093705  ...                    0.0   \n4178                       0.094989  ...                    0.0   \n4179                       0.172617  ...                    0.0   \n\n      gems_peacefulness_binary  gems_power_binary  \\\n0                          1.0                0.0   \n1                          1.0                0.0   \n2                          1.0                0.0   \n3                          1.0                0.0   \n4                          1.0                0.0   \n...                        ...                ...   \n4175                       0.0                0.0   \n4176                       0.0                0.0   \n4177                       0.0                0.0   \n4178                       0.0                0.0   \n4179                       0.0                0.0   \n\n      gems_joyful_activation_binary  gems_tension_binary  gems_sadness_binary  \\\n0                               0.0                  0.0                  0.0   \n1                               0.0                  0.0                  0.0   \n2                               0.0                  0.0                  0.0   \n3                               0.0                  0.0                  0.0   \n4                               0.0                  0.0                  0.0   \n...                             ...                  ...                  ...   \n4175                            0.0                  0.0                  0.0   \n4176                            0.0                  0.0                  0.0   \n4177                            0.0                  0.0                  0.0   \n4178                            0.0                  0.0                  0.0   \n4179                            0.0                  0.0                  0.0   \n\n      gemmes_movement_binary  gemmes_force_binary  gemmes_interior_binary  \\\n0                        0.0                  0.0                     0.0   \n1                        0.0                  0.0                     0.0   \n2                        0.0                  0.0                     0.0   \n3                        0.0                  0.0                     0.0   \n4                        0.0                  0.0                     0.0   \n...                      ...                  ...                     ...   \n4175                     0.0                  0.0                     0.0   \n4176                     0.0                  0.0                     0.0   \n4177                     0.0                  0.0                     0.0   \n4178                     0.0                  0.0                     0.0   \n4179                     0.0                  0.0                     0.0   \n\n      gemmes_wandering_binary  \n0                         1.0  \n1                         1.0  \n2                         1.0  \n3                         1.0  \n4                         1.0  \n...                       ...  \n4175                      0.0  \n4176                      0.0  \n4177                      0.0  \n4178                      0.0  \n4179                      0.0  \n\n[2282 rows x 201 columns]",
      "text/html": "<div>\n<style scoped>\n    .dataframe tbody tr th:only-of-type {\n        vertical-align: middle;\n    }\n\n    .dataframe tbody tr th {\n        vertical-align: top;\n    }\n\n    .dataframe thead th {\n        text-align: right;\n    }\n</style>\n<table border=\"1\" class=\"dataframe\">\n  <thead>\n    <tr style=\"text-align: right;\">\n      <th></th>\n      <th>pianist_id</th>\n      <th>segment_id</th>\n      <th>snippet_id</th>\n      <th>essentia_dissonance_mean</th>\n      <th>essentia_dissonance_stdev</th>\n      <th>essentia_dynamic_complexity</th>\n      <th>essentia_loudness</th>\n      <th>essentia_onset_rate</th>\n      <th>essentia_pitch_salience_mean</th>\n      <th>essentia_pitch_salience_stdev</th>\n      <th>...</th>\n      <th>gems_nostalgia_binary</th>\n      <th>gems_peacefulness_binary</th>\n      <th>gems_power_binary</th>\n      <th>gems_joyful_activation_binary</th>\n      <th>gems_tension_binary</th>\n      <th>gems_sadness_binary</th>\n      <th>gemmes_movement_binary</th>\n      <th>gemmes_force_binary</th>\n      <th>gemmes_interior_binary</th>\n      <th>gemmes_wandering_binary</th>\n    </tr>\n  </thead>\n  <tbody>\n    <tr>\n      <th>0</th>\n      <td>1</td>\n      <td>0</td>\n      <td>0</td>\n      <td>0.192237</td>\n      <td>0.059404</td>\n      <td>2.040252</td>\n      <td>16079768.0</td>\n      <td>0.800000</td>\n      <td>0.677256</td>\n      <td>0.095846</td>\n      <td>...</td>\n      <td>1.0</td>\n      <td>1.0</td>\n      <td>0.0</td>\n      <td>0.0</td>\n      <td>0.0</td>\n      <td>0.0</td>\n      <td>0.0</td>\n      <td>0.0</td>\n      <td>0.0</td>\n      <td>1.0</td>\n    </tr>\n    <tr>\n      <th>1</th>\n      <td>1</td>\n      <td>0</td>\n      <td>1</td>\n      <td>0.143425</td>\n      <td>0.064204</td>\n      <td>3.138845</td>\n      <td>35489248.0</td>\n      <td>2.600000</td>\n      <td>0.514913</td>\n      <td>0.092372</td>\n      <td>...</td>\n      <td>1.0</td>\n      <td>1.0</td>\n      <td>0.0</td>\n      <td>0.0</td>\n      <td>0.0</td>\n      <td>0.0</td>\n      <td>0.0</td>\n      <td>0.0</td>\n      <td>0.0</td>\n      <td>1.0</td>\n    </tr>\n    <tr>\n      <th>2</th>\n      <td>1</td>\n      <td>0</td>\n      <td>2</td>\n      <td>0.146967</td>\n      <td>0.056205</td>\n      <td>2.019706</td>\n      <td>42130144.0</td>\n      <td>2.600000</td>\n      <td>0.560116</td>\n      <td>0.115359</td>\n      <td>...</td>\n      <td>1.0</td>\n      <td>1.0</td>\n      <td>0.0</td>\n      <td>0.0</td>\n      <td>0.0</td>\n      <td>0.0</td>\n      <td>0.0</td>\n      <td>0.0</td>\n      <td>0.0</td>\n      <td>1.0</td>\n    </tr>\n    <tr>\n      <th>3</th>\n      <td>1</td>\n      <td>0</td>\n      <td>3</td>\n      <td>0.158810</td>\n      <td>0.059129</td>\n      <td>3.567908</td>\n      <td>40922732.0</td>\n      <td>1.400000</td>\n      <td>0.596779</td>\n      <td>0.116061</td>\n      <td>...</td>\n      <td>1.0</td>\n      <td>1.0</td>\n      <td>0.0</td>\n      <td>0.0</td>\n      <td>0.0</td>\n      <td>0.0</td>\n      <td>0.0</td>\n      <td>0.0</td>\n      <td>0.0</td>\n      <td>1.0</td>\n    </tr>\n    <tr>\n      <th>4</th>\n      <td>1</td>\n      <td>0</td>\n      <td>4</td>\n      <td>0.168547</td>\n      <td>0.049648</td>\n      <td>2.329854</td>\n      <td>51921612.0</td>\n      <td>1.600000</td>\n      <td>0.556160</td>\n      <td>0.143420</td>\n      <td>...</td>\n      <td>1.0</td>\n      <td>1.0</td>\n      <td>0.0</td>\n      <td>0.0</td>\n      <td>0.0</td>\n      <td>0.0</td>\n      <td>0.0</td>\n      <td>0.0</td>\n      <td>0.0</td>\n      <td>1.0</td>\n    </tr>\n    <tr>\n      <th>...</th>\n      <td>...</td>\n      <td>...</td>\n      <td>...</td>\n      <td>...</td>\n      <td>...</td>\n      <td>...</td>\n      <td>...</td>\n      <td>...</td>\n      <td>...</td>\n      <td>...</td>\n      <td>...</td>\n      <td>...</td>\n      <td>...</td>\n      <td>...</td>\n      <td>...</td>\n      <td>...</td>\n      <td>...</td>\n      <td>...</td>\n      <td>...</td>\n      <td>...</td>\n      <td>...</td>\n    </tr>\n    <tr>\n      <th>4175</th>\n      <td>11</td>\n      <td>26</td>\n      <td>2</td>\n      <td>0.202177</td>\n      <td>0.050760</td>\n      <td>2.840705</td>\n      <td>51977460.0</td>\n      <td>1.800000</td>\n      <td>0.688834</td>\n      <td>0.090235</td>\n      <td>...</td>\n      <td>0.0</td>\n      <td>0.0</td>\n      <td>0.0</td>\n      <td>0.0</td>\n      <td>0.0</td>\n      <td>0.0</td>\n      <td>0.0</td>\n      <td>0.0</td>\n      <td>0.0</td>\n      <td>0.0</td>\n    </tr>\n    <tr>\n      <th>4176</th>\n      <td>11</td>\n      <td>26</td>\n      <td>3</td>\n      <td>0.174454</td>\n      <td>0.063426</td>\n      <td>5.202462</td>\n      <td>9471357.0</td>\n      <td>3.200000</td>\n      <td>0.661253</td>\n      <td>0.107627</td>\n      <td>...</td>\n      <td>0.0</td>\n      <td>0.0</td>\n      <td>0.0</td>\n      <td>0.0</td>\n      <td>0.0</td>\n      <td>0.0</td>\n      <td>0.0</td>\n      <td>0.0</td>\n      <td>0.0</td>\n      <td>0.0</td>\n    </tr>\n    <tr>\n      <th>4177</th>\n      <td>11</td>\n      <td>26</td>\n      <td>4</td>\n      <td>0.161152</td>\n      <td>0.074724</td>\n      <td>4.605277</td>\n      <td>7378860.5</td>\n      <td>2.600000</td>\n      <td>0.645111</td>\n      <td>0.093705</td>\n      <td>...</td>\n      <td>0.0</td>\n      <td>0.0</td>\n      <td>0.0</td>\n      <td>0.0</td>\n      <td>0.0</td>\n      <td>0.0</td>\n      <td>0.0</td>\n      <td>0.0</td>\n      <td>0.0</td>\n      <td>0.0</td>\n    </tr>\n    <tr>\n      <th>4178</th>\n      <td>11</td>\n      <td>26</td>\n      <td>5</td>\n      <td>0.192846</td>\n      <td>0.056795</td>\n      <td>2.563405</td>\n      <td>22641664.0</td>\n      <td>3.200000</td>\n      <td>0.680604</td>\n      <td>0.094989</td>\n      <td>...</td>\n      <td>0.0</td>\n      <td>0.0</td>\n      <td>0.0</td>\n      <td>0.0</td>\n      <td>0.0</td>\n      <td>0.0</td>\n      <td>0.0</td>\n      <td>0.0</td>\n      <td>0.0</td>\n      <td>0.0</td>\n    </tr>\n    <tr>\n      <th>4179</th>\n      <td>11</td>\n      <td>26</td>\n      <td>6</td>\n      <td>0.208580</td>\n      <td>0.087355</td>\n      <td>13.824711</td>\n      <td>8544824.0</td>\n      <td>2.322119</td>\n      <td>0.597944</td>\n      <td>0.172617</td>\n      <td>...</td>\n      <td>0.0</td>\n      <td>0.0</td>\n      <td>0.0</td>\n      <td>0.0</td>\n      <td>0.0</td>\n      <td>0.0</td>\n      <td>0.0</td>\n      <td>0.0</td>\n      <td>0.0</td>\n      <td>0.0</td>\n    </tr>\n  </tbody>\n</table>\n<p>2282 rows × 201 columns</p>\n</div>"
     },
     "execution_count": 38,
     "metadata": {},
     "output_type": "execute_result"
    }
   ],
   "source": [
    "# Load data\n",
    "df = pd.read_pickle(\"../training_dataset_task3/task_3_training_5bdf9a9ed30b9a66_749fa46_pandas.pkl\")\n",
    "\n",
    "df"
   ],
   "metadata": {
    "collapsed": false,
    "pycharm": {
     "name": "#%%\n"
    }
   }
  },
  {
   "cell_type": "code",
   "execution_count": 39,
   "outputs": [
    {
     "data": {
      "text/plain": "      essentia_dissonance_mean  essentia_dissonance_stdev  \\\n0                     0.074674                  -0.208634   \n1                    -1.003098                   0.364099   \n2                    -0.924909                  -0.590335   \n3                    -0.663400                  -0.241471   \n4                    -0.448402                  -1.372774   \n...                        ...                        ...   \n2277                  0.294153                  -1.240041   \n2278                 -0.317970                   0.271249   \n2279                 -0.611698                   1.619394   \n2280                  0.088125                  -0.520028   \n2281                  0.435541                   3.126546   \n\n      essentia_dynamic_complexity  essentia_loudness  essentia_onset_rate  \\\n0                       -0.502540          -0.624442            -0.967537   \n1                        0.130841          -0.318021             0.019897   \n2                       -0.514385          -0.213180             0.019897   \n3                        0.378212          -0.232242            -0.638392   \n4                       -0.335574          -0.058600            -0.528677   \n...                           ...                ...                  ...   \n2277                    -0.041048          -0.057718            -0.418962   \n2278                     1.320595          -0.728771             0.349042   \n2279                     0.976295          -0.761806             0.019897   \n2280                    -0.200922          -0.520848             0.349042   \n2281                     6.291651          -0.743398            -0.132541   \n\n      essentia_pitch_salience_mean  essentia_pitch_salience_stdev  \\\n0                         0.973840                      -0.271925   \n1                        -2.043147                      -0.449124   \n2                        -1.203086                       0.723664   \n3                        -0.521754                       0.759491   \n4                        -1.276604                       2.155321   \n...                            ...                            ...   \n2277                      1.188996                      -0.558156   \n2278                      0.676441                       0.329168   \n2279                      0.376446                      -0.381145   \n2280                      1.036064                      -0.315627   \n2281                     -0.500103                       3.644962   \n\n      essentia_spectral_centroid_mean  essentia_spectral_centroid_stdev  \\\n0                            0.821937                          3.705908   \n1                            0.322515                          0.242491   \n2                            0.060573                         -0.316268   \n3                            0.142514                          0.058750   \n4                           -0.075302                         -0.236369   \n...                               ...                               ...   \n2277                        -0.524739                         -0.573189   \n2278                        -0.644184                         -0.031043   \n2279                        -0.604478                         -0.075596   \n2280                        -1.000535                         -0.315062   \n2281                         0.485945                          2.752668   \n\n      essentia_spectral_complexity_mean  ...  mirtoolbox_novelty_std  \\\n0                              1.435001  ...               -1.557358   \n1                             -1.242223  ...                0.492786   \n2                             -0.968771  ...                1.078765   \n3                              0.156288  ...               -1.281274   \n4                              0.179727  ...               -1.213569   \n...                                 ...  ...                     ...   \n2277                           0.705796  ...                0.736401   \n2278                           1.216241  ...               -0.259996   \n2279                           0.614646  ...               -0.983595   \n2280                           0.750070  ...                1.771819   \n2281                           2.010693  ...               -1.105097   \n\n      mirtoolbox_novelty_pct_10  mirtoolbox_novelty_pct_50  \\\n0                     -0.132523                  -0.953893   \n1                     -0.132523                  -0.489550   \n2                     -0.132523                   0.217391   \n3                     -0.112848                  -0.826452   \n4                     -0.132523                  -0.730973   \n...                         ...                        ...   \n2277                  -0.132523                   0.317939   \n2278                  -0.132523                  -0.433302   \n2279                  -0.132523                  -0.578879   \n2280                  -0.132523                   1.398023   \n2281                  -0.132523                  -1.077376   \n\n      mirtoolbox_novelty_pct_90  mirtoolbox_pulseclarity  \\\n0                     -1.487096                -0.263505   \n1                      0.512566                 1.554357   \n2                      0.652920                 0.121509   \n3                     -1.366754                 0.349013   \n4                     -0.937755                -0.544921   \n...                         ...                      ...   \n2277                   0.667299                 0.706086   \n2278                  -0.248294                 1.529043   \n2279                  -0.983935                 1.196165   \n2280                   2.294032                -0.616783   \n2281                  -0.631937                 0.563930   \n\n      mirtoolbox_roughness_mean  mirtoolbox_roughness_std  \\\n0                      0.037973                 -0.066389   \n1                     -1.472847                 -1.163010   \n2                     -1.109245                 -0.264529   \n3                     -1.147165                 -0.177751   \n4                     -1.144299                 -0.342477   \n...                         ...                       ...   \n2277                   0.785422                  0.874634   \n2278                  -0.054989                  0.351260   \n2279                  -0.608549                  0.667009   \n2280                   0.639713                  0.749981   \n2281                   0.146251                  1.553717   \n\n      mirtoolbox_roughness_pct_10  mirtoolbox_roughness_pct_50  \\\n0                        0.144988                     0.050310   \n1                       -1.209892                    -1.459551   \n2                       -1.293552                    -1.025679   \n3                       -1.201103                    -1.137358   \n4                       -1.183691                    -1.078803   \n...                           ...                          ...   \n2277                     0.562600                     0.745939   \n2278                    -0.225325                     0.058192   \n2279                    -0.678009                    -0.780047   \n2280                     0.552866                     0.557939   \n2281                    -0.265858                    -0.050658   \n\n      mirtoolbox_roughness_pct_90  \n0                        0.011099  \n1                       -1.544004  \n2                       -1.039652  \n3                       -0.971610  \n4                       -1.029728  \n...                           ...  \n2277                     0.859051  \n2278                    -0.052252  \n2279                    -0.175740  \n2280                     0.731791  \n2281                     0.734463  \n\n[2282 rows x 169 columns]",
      "text/html": "<div>\n<style scoped>\n    .dataframe tbody tr th:only-of-type {\n        vertical-align: middle;\n    }\n\n    .dataframe tbody tr th {\n        vertical-align: top;\n    }\n\n    .dataframe thead th {\n        text-align: right;\n    }\n</style>\n<table border=\"1\" class=\"dataframe\">\n  <thead>\n    <tr style=\"text-align: right;\">\n      <th></th>\n      <th>essentia_dissonance_mean</th>\n      <th>essentia_dissonance_stdev</th>\n      <th>essentia_dynamic_complexity</th>\n      <th>essentia_loudness</th>\n      <th>essentia_onset_rate</th>\n      <th>essentia_pitch_salience_mean</th>\n      <th>essentia_pitch_salience_stdev</th>\n      <th>essentia_spectral_centroid_mean</th>\n      <th>essentia_spectral_centroid_stdev</th>\n      <th>essentia_spectral_complexity_mean</th>\n      <th>...</th>\n      <th>mirtoolbox_novelty_std</th>\n      <th>mirtoolbox_novelty_pct_10</th>\n      <th>mirtoolbox_novelty_pct_50</th>\n      <th>mirtoolbox_novelty_pct_90</th>\n      <th>mirtoolbox_pulseclarity</th>\n      <th>mirtoolbox_roughness_mean</th>\n      <th>mirtoolbox_roughness_std</th>\n      <th>mirtoolbox_roughness_pct_10</th>\n      <th>mirtoolbox_roughness_pct_50</th>\n      <th>mirtoolbox_roughness_pct_90</th>\n    </tr>\n  </thead>\n  <tbody>\n    <tr>\n      <th>0</th>\n      <td>0.074674</td>\n      <td>-0.208634</td>\n      <td>-0.502540</td>\n      <td>-0.624442</td>\n      <td>-0.967537</td>\n      <td>0.973840</td>\n      <td>-0.271925</td>\n      <td>0.821937</td>\n      <td>3.705908</td>\n      <td>1.435001</td>\n      <td>...</td>\n      <td>-1.557358</td>\n      <td>-0.132523</td>\n      <td>-0.953893</td>\n      <td>-1.487096</td>\n      <td>-0.263505</td>\n      <td>0.037973</td>\n      <td>-0.066389</td>\n      <td>0.144988</td>\n      <td>0.050310</td>\n      <td>0.011099</td>\n    </tr>\n    <tr>\n      <th>1</th>\n      <td>-1.003098</td>\n      <td>0.364099</td>\n      <td>0.130841</td>\n      <td>-0.318021</td>\n      <td>0.019897</td>\n      <td>-2.043147</td>\n      <td>-0.449124</td>\n      <td>0.322515</td>\n      <td>0.242491</td>\n      <td>-1.242223</td>\n      <td>...</td>\n      <td>0.492786</td>\n      <td>-0.132523</td>\n      <td>-0.489550</td>\n      <td>0.512566</td>\n      <td>1.554357</td>\n      <td>-1.472847</td>\n      <td>-1.163010</td>\n      <td>-1.209892</td>\n      <td>-1.459551</td>\n      <td>-1.544004</td>\n    </tr>\n    <tr>\n      <th>2</th>\n      <td>-0.924909</td>\n      <td>-0.590335</td>\n      <td>-0.514385</td>\n      <td>-0.213180</td>\n      <td>0.019897</td>\n      <td>-1.203086</td>\n      <td>0.723664</td>\n      <td>0.060573</td>\n      <td>-0.316268</td>\n      <td>-0.968771</td>\n      <td>...</td>\n      <td>1.078765</td>\n      <td>-0.132523</td>\n      <td>0.217391</td>\n      <td>0.652920</td>\n      <td>0.121509</td>\n      <td>-1.109245</td>\n      <td>-0.264529</td>\n      <td>-1.293552</td>\n      <td>-1.025679</td>\n      <td>-1.039652</td>\n    </tr>\n    <tr>\n      <th>3</th>\n      <td>-0.663400</td>\n      <td>-0.241471</td>\n      <td>0.378212</td>\n      <td>-0.232242</td>\n      <td>-0.638392</td>\n      <td>-0.521754</td>\n      <td>0.759491</td>\n      <td>0.142514</td>\n      <td>0.058750</td>\n      <td>0.156288</td>\n      <td>...</td>\n      <td>-1.281274</td>\n      <td>-0.112848</td>\n      <td>-0.826452</td>\n      <td>-1.366754</td>\n      <td>0.349013</td>\n      <td>-1.147165</td>\n      <td>-0.177751</td>\n      <td>-1.201103</td>\n      <td>-1.137358</td>\n      <td>-0.971610</td>\n    </tr>\n    <tr>\n      <th>4</th>\n      <td>-0.448402</td>\n      <td>-1.372774</td>\n      <td>-0.335574</td>\n      <td>-0.058600</td>\n      <td>-0.528677</td>\n      <td>-1.276604</td>\n      <td>2.155321</td>\n      <td>-0.075302</td>\n      <td>-0.236369</td>\n      <td>0.179727</td>\n      <td>...</td>\n      <td>-1.213569</td>\n      <td>-0.132523</td>\n      <td>-0.730973</td>\n      <td>-0.937755</td>\n      <td>-0.544921</td>\n      <td>-1.144299</td>\n      <td>-0.342477</td>\n      <td>-1.183691</td>\n      <td>-1.078803</td>\n      <td>-1.029728</td>\n    </tr>\n    <tr>\n      <th>...</th>\n      <td>...</td>\n      <td>...</td>\n      <td>...</td>\n      <td>...</td>\n      <td>...</td>\n      <td>...</td>\n      <td>...</td>\n      <td>...</td>\n      <td>...</td>\n      <td>...</td>\n      <td>...</td>\n      <td>...</td>\n      <td>...</td>\n      <td>...</td>\n      <td>...</td>\n      <td>...</td>\n      <td>...</td>\n      <td>...</td>\n      <td>...</td>\n      <td>...</td>\n      <td>...</td>\n    </tr>\n    <tr>\n      <th>2277</th>\n      <td>0.294153</td>\n      <td>-1.240041</td>\n      <td>-0.041048</td>\n      <td>-0.057718</td>\n      <td>-0.418962</td>\n      <td>1.188996</td>\n      <td>-0.558156</td>\n      <td>-0.524739</td>\n      <td>-0.573189</td>\n      <td>0.705796</td>\n      <td>...</td>\n      <td>0.736401</td>\n      <td>-0.132523</td>\n      <td>0.317939</td>\n      <td>0.667299</td>\n      <td>0.706086</td>\n      <td>0.785422</td>\n      <td>0.874634</td>\n      <td>0.562600</td>\n      <td>0.745939</td>\n      <td>0.859051</td>\n    </tr>\n    <tr>\n      <th>2278</th>\n      <td>-0.317970</td>\n      <td>0.271249</td>\n      <td>1.320595</td>\n      <td>-0.728771</td>\n      <td>0.349042</td>\n      <td>0.676441</td>\n      <td>0.329168</td>\n      <td>-0.644184</td>\n      <td>-0.031043</td>\n      <td>1.216241</td>\n      <td>...</td>\n      <td>-0.259996</td>\n      <td>-0.132523</td>\n      <td>-0.433302</td>\n      <td>-0.248294</td>\n      <td>1.529043</td>\n      <td>-0.054989</td>\n      <td>0.351260</td>\n      <td>-0.225325</td>\n      <td>0.058192</td>\n      <td>-0.052252</td>\n    </tr>\n    <tr>\n      <th>2279</th>\n      <td>-0.611698</td>\n      <td>1.619394</td>\n      <td>0.976295</td>\n      <td>-0.761806</td>\n      <td>0.019897</td>\n      <td>0.376446</td>\n      <td>-0.381145</td>\n      <td>-0.604478</td>\n      <td>-0.075596</td>\n      <td>0.614646</td>\n      <td>...</td>\n      <td>-0.983595</td>\n      <td>-0.132523</td>\n      <td>-0.578879</td>\n      <td>-0.983935</td>\n      <td>1.196165</td>\n      <td>-0.608549</td>\n      <td>0.667009</td>\n      <td>-0.678009</td>\n      <td>-0.780047</td>\n      <td>-0.175740</td>\n    </tr>\n    <tr>\n      <th>2280</th>\n      <td>0.088125</td>\n      <td>-0.520028</td>\n      <td>-0.200922</td>\n      <td>-0.520848</td>\n      <td>0.349042</td>\n      <td>1.036064</td>\n      <td>-0.315627</td>\n      <td>-1.000535</td>\n      <td>-0.315062</td>\n      <td>0.750070</td>\n      <td>...</td>\n      <td>1.771819</td>\n      <td>-0.132523</td>\n      <td>1.398023</td>\n      <td>2.294032</td>\n      <td>-0.616783</td>\n      <td>0.639713</td>\n      <td>0.749981</td>\n      <td>0.552866</td>\n      <td>0.557939</td>\n      <td>0.731791</td>\n    </tr>\n    <tr>\n      <th>2281</th>\n      <td>0.435541</td>\n      <td>3.126546</td>\n      <td>6.291651</td>\n      <td>-0.743398</td>\n      <td>-0.132541</td>\n      <td>-0.500103</td>\n      <td>3.644962</td>\n      <td>0.485945</td>\n      <td>2.752668</td>\n      <td>2.010693</td>\n      <td>...</td>\n      <td>-1.105097</td>\n      <td>-0.132523</td>\n      <td>-1.077376</td>\n      <td>-0.631937</td>\n      <td>0.563930</td>\n      <td>0.146251</td>\n      <td>1.553717</td>\n      <td>-0.265858</td>\n      <td>-0.050658</td>\n      <td>0.734463</td>\n    </tr>\n  </tbody>\n</table>\n<p>2282 rows × 169 columns</p>\n</div>"
     },
     "execution_count": 39,
     "metadata": {},
     "output_type": "execute_result"
    }
   ],
   "source": [
    "# Get training data\n",
    "X = df.loc[:, \"essentia_dissonance_mean\":\"mirtoolbox_roughness_pct_90\"]\n",
    "\n",
    "# Standardize dataset and add column names\n",
    "X_std = StandardScaler().fit_transform(X)\n",
    "X = pd.DataFrame(X_std, columns=X.columns)\n",
    "\n",
    "X"
   ],
   "metadata": {
    "collapsed": false,
    "pycharm": {
     "name": "#%%\n"
    }
   }
  },
  {
   "cell_type": "markdown",
   "source": [
    "### Experiments"
   ],
   "metadata": {
    "collapsed": false
   }
  },
  {
   "cell_type": "code",
   "execution_count": 40,
   "outputs": [],
   "source": [
    "hl_feat = [\"gems_wonder_binary\", \"gems_transcendence_binary\", \"gems_tenderness_binary\", \"gems_nostalgia_binary\", \"gems_peacefulness_binary\",\n",
    "           \"gems_power_binary\", \"gems_joyful_activation_binary\", \"gems_tension_binary\", \"gems_sadness_binary\", \"gemmes_movement_binary\",\n",
    "           \"gemmes_force_binary\", \"gemmes_interior_binary\", \"gemmes_wandering_binary\"]"
   ],
   "metadata": {
    "collapsed": false,
    "pycharm": {
     "name": "#%%\n"
    }
   }
  },
  {
   "cell_type": "code",
   "execution_count": 18,
   "outputs": [
    {
     "name": "stdout",
     "output_type": "stream",
     "text": [
      "gems_wonder_binary - SVM 0.5643380203250411\n",
      "gems_transcendence_binary - SVM 0.7244921437913061\n",
      "gems_tenderness_binary - SVM 0.7645290348772383\n",
      "gems_nostalgia_binary - SVM 0.76300740992505\n",
      "gems_peacefulness_binary - SVM 0.7991744892642433\n",
      "gems_power_binary - SVM 0.8130825202856455\n",
      "gems_joyful_activation_binary - SVM 0.8520902554306636\n",
      "gems_tension_binary - SVM 0.7958614228081058\n",
      "gems_sadness_binary - SVM 0.8817263146934642\n",
      "gemmes_movement_binary - SVM 0.7510775788479066\n",
      "gemmes_force_binary - SVM 0.8348353708996514\n",
      "gemmes_interior_binary - SVM 0.760474399863282\n",
      "gemmes_wandering_binary - SVM 0.7467392315061088\n"
     ]
    }
   ],
   "source": [
    "# grid search parameters for the different classifiers\n",
    "parameters = {\n",
    "        'C': [0.5, 1, 1.25],\n",
    "        'kernel': ['poly', 'rbf', 'sigmoid'],\n",
    "        'degree': [3, 5, 6, 8, 10],\n",
    "        'gamma': ['scale', 'auto']}\n",
    "\n",
    "# load the data and reset index of dataframe\n",
    "df: pd.DataFrame = pd.read_pickle(\n",
    "    \"../training_dataset_task3/task_3_training_5bdf9a9ed30b9a66_749fa46_pandas.pkl\").reset_index()\n",
    "\n",
    "# get only the low and mid level features + segment_id\n",
    "X = df.loc[:, \"essentia_dissonance_mean\":\"mirtoolbox_roughness_pct_90\"]\n",
    "\n",
    "# preprocess dataset\n",
    "X = StandardScaler().fit_transform(X)\n",
    "\n",
    "# split the data according to segment_id\n",
    "# store the splits as tuple (train indices, test_indices)\n",
    "# for example the training indices are the first 26 segments\n",
    "# and the test_indices is the last segment 27\n",
    "cv = []\n",
    "for i in range(27):\n",
    "    train_indices = df[df[\"segment_id\"] != i].index.to_list()\n",
    "    test_indices = df[df[\"segment_id\"] == i].index.to_list()\n",
    "    cv.append((train_indices, test_indices))\n",
    "\n",
    "models = []\n",
    "\n",
    "for feature in hl_feat:\n",
    "    # target value\n",
    "    y = df[feature]\n",
    "\n",
    "    # grid search the parameters for a given classifier\n",
    "    gs_cv = GridSearchCV(SVC(), parameters, cv=cv, n_jobs=10)\n",
    "    gs_cv.fit(X, y)\n",
    "\n",
    "    score = gs_cv.best_score_\n",
    "    print(f\"{feature} - SVM {score: >5}\")\n",
    "    models.append(gs_cv)"
   ],
   "metadata": {
    "collapsed": false,
    "pycharm": {
     "name": "#%%\n"
    }
   }
  },
  {
   "cell_type": "code",
   "execution_count": 41,
   "outputs": [
    {
     "data": {
      "text/plain": "0.7731867840398235"
     },
     "execution_count": 41,
     "metadata": {},
     "output_type": "execute_result"
    }
   ],
   "source": [
    "scores = [model.best_score_ for model in models]\n",
    "np.mean(scores)"
   ],
   "metadata": {
    "collapsed": false,
    "pycharm": {
     "name": "#%%\n"
    }
   }
  },
  {
   "cell_type": "code",
   "execution_count": 42,
   "outputs": [
    {
     "name": "stdout",
     "output_type": "stream",
     "text": [
      "{'C': 0.5, 'degree': 5, 'gamma': 'auto', 'kernel': 'poly'}\n",
      "{'C': 0.5, 'degree': 3, 'gamma': 'scale', 'kernel': 'rbf'}\n",
      "{'C': 0.5, 'degree': 3, 'gamma': 'scale', 'kernel': 'rbf'}\n",
      "{'C': 1, 'degree': 3, 'gamma': 'scale', 'kernel': 'rbf'}\n",
      "{'C': 0.5, 'degree': 3, 'gamma': 'auto', 'kernel': 'rbf'}\n",
      "{'C': 1, 'degree': 3, 'gamma': 'scale', 'kernel': 'sigmoid'}\n",
      "{'C': 0.5, 'degree': 3, 'gamma': 'scale', 'kernel': 'rbf'}\n",
      "{'C': 0.5, 'degree': 3, 'gamma': 'auto', 'kernel': 'sigmoid'}\n",
      "{'C': 0.5, 'degree': 3, 'gamma': 'scale', 'kernel': 'rbf'}\n",
      "{'C': 1, 'degree': 3, 'gamma': 'scale', 'kernel': 'rbf'}\n",
      "{'C': 1, 'degree': 3, 'gamma': 'scale', 'kernel': 'sigmoid'}\n",
      "{'C': 0.5, 'degree': 3, 'gamma': 'scale', 'kernel': 'rbf'}\n",
      "{'C': 1.25, 'degree': 3, 'gamma': 'auto', 'kernel': 'rbf'}\n"
     ]
    }
   ],
   "source": [
    "for model in models:\n",
    "    print(model.best_params_)"
   ],
   "metadata": {
    "collapsed": false,
    "pycharm": {
     "name": "#%%\n"
    }
   }
  },
  {
   "cell_type": "code",
   "execution_count": 43,
   "outputs": [],
   "source": [
    "from joblib import dump, load\n",
    "import os\n",
    "\n",
    "for i, model in enumerate(models):\n",
    "    dump(model, os.path.join('models', hl_feat[i]))"
   ],
   "metadata": {
    "collapsed": false,
    "pycharm": {
     "name": "#%%\n"
    }
   }
  },
  {
   "cell_type": "code",
   "execution_count": 45,
   "outputs": [
    {
     "data": {
      "text/plain": "{'C': 0.5, 'degree': 3, 'gamma': 'scale', 'kernel': 'rbf'}"
     },
     "execution_count": 45,
     "metadata": {},
     "output_type": "execute_result"
    }
   ],
   "source": [
    "load('models/gemmes_interior_binary').best_params_"
   ],
   "metadata": {
    "collapsed": false,
    "pycharm": {
     "name": "#%%\n"
    }
   }
  },
  {
   "cell_type": "code",
   "execution_count": 46,
   "outputs": [
    {
     "data": {
      "text/plain": "      essentia_dissonance_mean  essentia_dissonance_stdev  \\\n0                     0.074674                  -0.208634   \n1                    -1.003098                   0.364099   \n2                    -0.924909                  -0.590335   \n3                    -0.663400                  -0.241471   \n4                    -0.448402                  -1.372774   \n...                        ...                        ...   \n2277                  0.294153                  -1.240041   \n2278                 -0.317970                   0.271249   \n2279                 -0.611698                   1.619394   \n2280                  0.088125                  -0.520028   \n2281                  0.435541                   3.126546   \n\n      essentia_dynamic_complexity  essentia_loudness  essentia_onset_rate  \\\n0                       -0.502540          -0.624442            -0.967537   \n1                        0.130841          -0.318021             0.019897   \n2                       -0.514385          -0.213180             0.019897   \n3                        0.378212          -0.232242            -0.638392   \n4                       -0.335574          -0.058600            -0.528677   \n...                           ...                ...                  ...   \n2277                    -0.041048          -0.057718            -0.418962   \n2278                     1.320595          -0.728771             0.349042   \n2279                     0.976295          -0.761806             0.019897   \n2280                    -0.200922          -0.520848             0.349042   \n2281                     6.291651          -0.743398            -0.132541   \n\n      essentia_pitch_salience_mean  essentia_pitch_salience_stdev  \\\n0                         0.973840                      -0.271925   \n1                        -2.043147                      -0.449124   \n2                        -1.203086                       0.723664   \n3                        -0.521754                       0.759491   \n4                        -1.276604                       2.155321   \n...                            ...                            ...   \n2277                      1.188996                      -0.558156   \n2278                      0.676441                       0.329168   \n2279                      0.376446                      -0.381145   \n2280                      1.036064                      -0.315627   \n2281                     -0.500103                       3.644962   \n\n      essentia_spectral_centroid_mean  essentia_spectral_centroid_stdev  \\\n0                            0.821937                          3.705908   \n1                            0.322515                          0.242491   \n2                            0.060573                         -0.316268   \n3                            0.142514                          0.058750   \n4                           -0.075302                         -0.236369   \n...                               ...                               ...   \n2277                        -0.524739                         -0.573189   \n2278                        -0.644184                         -0.031043   \n2279                        -0.604478                         -0.075596   \n2280                        -1.000535                         -0.315062   \n2281                         0.485945                          2.752668   \n\n      essentia_spectral_complexity_mean  ...  mirtoolbox_novelty_std  \\\n0                              1.435001  ...               -1.557358   \n1                             -1.242223  ...                0.492786   \n2                             -0.968771  ...                1.078765   \n3                              0.156288  ...               -1.281274   \n4                              0.179727  ...               -1.213569   \n...                                 ...  ...                     ...   \n2277                           0.705796  ...                0.736401   \n2278                           1.216241  ...               -0.259996   \n2279                           0.614646  ...               -0.983595   \n2280                           0.750070  ...                1.771819   \n2281                           2.010693  ...               -1.105097   \n\n      mirtoolbox_novelty_pct_10  mirtoolbox_novelty_pct_50  \\\n0                     -0.132523                  -0.953893   \n1                     -0.132523                  -0.489550   \n2                     -0.132523                   0.217391   \n3                     -0.112848                  -0.826452   \n4                     -0.132523                  -0.730973   \n...                         ...                        ...   \n2277                  -0.132523                   0.317939   \n2278                  -0.132523                  -0.433302   \n2279                  -0.132523                  -0.578879   \n2280                  -0.132523                   1.398023   \n2281                  -0.132523                  -1.077376   \n\n      mirtoolbox_novelty_pct_90  mirtoolbox_pulseclarity  \\\n0                     -1.487096                -0.263505   \n1                      0.512566                 1.554357   \n2                      0.652920                 0.121509   \n3                     -1.366754                 0.349013   \n4                     -0.937755                -0.544921   \n...                         ...                      ...   \n2277                   0.667299                 0.706086   \n2278                  -0.248294                 1.529043   \n2279                  -0.983935                 1.196165   \n2280                   2.294032                -0.616783   \n2281                  -0.631937                 0.563930   \n\n      mirtoolbox_roughness_mean  mirtoolbox_roughness_std  \\\n0                      0.037973                 -0.066389   \n1                     -1.472847                 -1.163010   \n2                     -1.109245                 -0.264529   \n3                     -1.147165                 -0.177751   \n4                     -1.144299                 -0.342477   \n...                         ...                       ...   \n2277                   0.785422                  0.874634   \n2278                  -0.054989                  0.351260   \n2279                  -0.608549                  0.667009   \n2280                   0.639713                  0.749981   \n2281                   0.146251                  1.553717   \n\n      mirtoolbox_roughness_pct_10  mirtoolbox_roughness_pct_50  \\\n0                        0.144988                     0.050310   \n1                       -1.209892                    -1.459551   \n2                       -1.293552                    -1.025679   \n3                       -1.201103                    -1.137358   \n4                       -1.183691                    -1.078803   \n...                           ...                          ...   \n2277                     0.562600                     0.745939   \n2278                    -0.225325                     0.058192   \n2279                    -0.678009                    -0.780047   \n2280                     0.552866                     0.557939   \n2281                    -0.265858                    -0.050658   \n\n      mirtoolbox_roughness_pct_90  \n0                        0.011099  \n1                       -1.544004  \n2                       -1.039652  \n3                       -0.971610  \n4                       -1.029728  \n...                           ...  \n2277                     0.859051  \n2278                    -0.052252  \n2279                    -0.175740  \n2280                     0.731791  \n2281                     0.734463  \n\n[2282 rows x 169 columns]",
      "text/html": "<div>\n<style scoped>\n    .dataframe tbody tr th:only-of-type {\n        vertical-align: middle;\n    }\n\n    .dataframe tbody tr th {\n        vertical-align: top;\n    }\n\n    .dataframe thead th {\n        text-align: right;\n    }\n</style>\n<table border=\"1\" class=\"dataframe\">\n  <thead>\n    <tr style=\"text-align: right;\">\n      <th></th>\n      <th>essentia_dissonance_mean</th>\n      <th>essentia_dissonance_stdev</th>\n      <th>essentia_dynamic_complexity</th>\n      <th>essentia_loudness</th>\n      <th>essentia_onset_rate</th>\n      <th>essentia_pitch_salience_mean</th>\n      <th>essentia_pitch_salience_stdev</th>\n      <th>essentia_spectral_centroid_mean</th>\n      <th>essentia_spectral_centroid_stdev</th>\n      <th>essentia_spectral_complexity_mean</th>\n      <th>...</th>\n      <th>mirtoolbox_novelty_std</th>\n      <th>mirtoolbox_novelty_pct_10</th>\n      <th>mirtoolbox_novelty_pct_50</th>\n      <th>mirtoolbox_novelty_pct_90</th>\n      <th>mirtoolbox_pulseclarity</th>\n      <th>mirtoolbox_roughness_mean</th>\n      <th>mirtoolbox_roughness_std</th>\n      <th>mirtoolbox_roughness_pct_10</th>\n      <th>mirtoolbox_roughness_pct_50</th>\n      <th>mirtoolbox_roughness_pct_90</th>\n    </tr>\n  </thead>\n  <tbody>\n    <tr>\n      <th>0</th>\n      <td>0.074674</td>\n      <td>-0.208634</td>\n      <td>-0.502540</td>\n      <td>-0.624442</td>\n      <td>-0.967537</td>\n      <td>0.973840</td>\n      <td>-0.271925</td>\n      <td>0.821937</td>\n      <td>3.705908</td>\n      <td>1.435001</td>\n      <td>...</td>\n      <td>-1.557358</td>\n      <td>-0.132523</td>\n      <td>-0.953893</td>\n      <td>-1.487096</td>\n      <td>-0.263505</td>\n      <td>0.037973</td>\n      <td>-0.066389</td>\n      <td>0.144988</td>\n      <td>0.050310</td>\n      <td>0.011099</td>\n    </tr>\n    <tr>\n      <th>1</th>\n      <td>-1.003098</td>\n      <td>0.364099</td>\n      <td>0.130841</td>\n      <td>-0.318021</td>\n      <td>0.019897</td>\n      <td>-2.043147</td>\n      <td>-0.449124</td>\n      <td>0.322515</td>\n      <td>0.242491</td>\n      <td>-1.242223</td>\n      <td>...</td>\n      <td>0.492786</td>\n      <td>-0.132523</td>\n      <td>-0.489550</td>\n      <td>0.512566</td>\n      <td>1.554357</td>\n      <td>-1.472847</td>\n      <td>-1.163010</td>\n      <td>-1.209892</td>\n      <td>-1.459551</td>\n      <td>-1.544004</td>\n    </tr>\n    <tr>\n      <th>2</th>\n      <td>-0.924909</td>\n      <td>-0.590335</td>\n      <td>-0.514385</td>\n      <td>-0.213180</td>\n      <td>0.019897</td>\n      <td>-1.203086</td>\n      <td>0.723664</td>\n      <td>0.060573</td>\n      <td>-0.316268</td>\n      <td>-0.968771</td>\n      <td>...</td>\n      <td>1.078765</td>\n      <td>-0.132523</td>\n      <td>0.217391</td>\n      <td>0.652920</td>\n      <td>0.121509</td>\n      <td>-1.109245</td>\n      <td>-0.264529</td>\n      <td>-1.293552</td>\n      <td>-1.025679</td>\n      <td>-1.039652</td>\n    </tr>\n    <tr>\n      <th>3</th>\n      <td>-0.663400</td>\n      <td>-0.241471</td>\n      <td>0.378212</td>\n      <td>-0.232242</td>\n      <td>-0.638392</td>\n      <td>-0.521754</td>\n      <td>0.759491</td>\n      <td>0.142514</td>\n      <td>0.058750</td>\n      <td>0.156288</td>\n      <td>...</td>\n      <td>-1.281274</td>\n      <td>-0.112848</td>\n      <td>-0.826452</td>\n      <td>-1.366754</td>\n      <td>0.349013</td>\n      <td>-1.147165</td>\n      <td>-0.177751</td>\n      <td>-1.201103</td>\n      <td>-1.137358</td>\n      <td>-0.971610</td>\n    </tr>\n    <tr>\n      <th>4</th>\n      <td>-0.448402</td>\n      <td>-1.372774</td>\n      <td>-0.335574</td>\n      <td>-0.058600</td>\n      <td>-0.528677</td>\n      <td>-1.276604</td>\n      <td>2.155321</td>\n      <td>-0.075302</td>\n      <td>-0.236369</td>\n      <td>0.179727</td>\n      <td>...</td>\n      <td>-1.213569</td>\n      <td>-0.132523</td>\n      <td>-0.730973</td>\n      <td>-0.937755</td>\n      <td>-0.544921</td>\n      <td>-1.144299</td>\n      <td>-0.342477</td>\n      <td>-1.183691</td>\n      <td>-1.078803</td>\n      <td>-1.029728</td>\n    </tr>\n    <tr>\n      <th>...</th>\n      <td>...</td>\n      <td>...</td>\n      <td>...</td>\n      <td>...</td>\n      <td>...</td>\n      <td>...</td>\n      <td>...</td>\n      <td>...</td>\n      <td>...</td>\n      <td>...</td>\n      <td>...</td>\n      <td>...</td>\n      <td>...</td>\n      <td>...</td>\n      <td>...</td>\n      <td>...</td>\n      <td>...</td>\n      <td>...</td>\n      <td>...</td>\n      <td>...</td>\n      <td>...</td>\n    </tr>\n    <tr>\n      <th>2277</th>\n      <td>0.294153</td>\n      <td>-1.240041</td>\n      <td>-0.041048</td>\n      <td>-0.057718</td>\n      <td>-0.418962</td>\n      <td>1.188996</td>\n      <td>-0.558156</td>\n      <td>-0.524739</td>\n      <td>-0.573189</td>\n      <td>0.705796</td>\n      <td>...</td>\n      <td>0.736401</td>\n      <td>-0.132523</td>\n      <td>0.317939</td>\n      <td>0.667299</td>\n      <td>0.706086</td>\n      <td>0.785422</td>\n      <td>0.874634</td>\n      <td>0.562600</td>\n      <td>0.745939</td>\n      <td>0.859051</td>\n    </tr>\n    <tr>\n      <th>2278</th>\n      <td>-0.317970</td>\n      <td>0.271249</td>\n      <td>1.320595</td>\n      <td>-0.728771</td>\n      <td>0.349042</td>\n      <td>0.676441</td>\n      <td>0.329168</td>\n      <td>-0.644184</td>\n      <td>-0.031043</td>\n      <td>1.216241</td>\n      <td>...</td>\n      <td>-0.259996</td>\n      <td>-0.132523</td>\n      <td>-0.433302</td>\n      <td>-0.248294</td>\n      <td>1.529043</td>\n      <td>-0.054989</td>\n      <td>0.351260</td>\n      <td>-0.225325</td>\n      <td>0.058192</td>\n      <td>-0.052252</td>\n    </tr>\n    <tr>\n      <th>2279</th>\n      <td>-0.611698</td>\n      <td>1.619394</td>\n      <td>0.976295</td>\n      <td>-0.761806</td>\n      <td>0.019897</td>\n      <td>0.376446</td>\n      <td>-0.381145</td>\n      <td>-0.604478</td>\n      <td>-0.075596</td>\n      <td>0.614646</td>\n      <td>...</td>\n      <td>-0.983595</td>\n      <td>-0.132523</td>\n      <td>-0.578879</td>\n      <td>-0.983935</td>\n      <td>1.196165</td>\n      <td>-0.608549</td>\n      <td>0.667009</td>\n      <td>-0.678009</td>\n      <td>-0.780047</td>\n      <td>-0.175740</td>\n    </tr>\n    <tr>\n      <th>2280</th>\n      <td>0.088125</td>\n      <td>-0.520028</td>\n      <td>-0.200922</td>\n      <td>-0.520848</td>\n      <td>0.349042</td>\n      <td>1.036064</td>\n      <td>-0.315627</td>\n      <td>-1.000535</td>\n      <td>-0.315062</td>\n      <td>0.750070</td>\n      <td>...</td>\n      <td>1.771819</td>\n      <td>-0.132523</td>\n      <td>1.398023</td>\n      <td>2.294032</td>\n      <td>-0.616783</td>\n      <td>0.639713</td>\n      <td>0.749981</td>\n      <td>0.552866</td>\n      <td>0.557939</td>\n      <td>0.731791</td>\n    </tr>\n    <tr>\n      <th>2281</th>\n      <td>0.435541</td>\n      <td>3.126546</td>\n      <td>6.291651</td>\n      <td>-0.743398</td>\n      <td>-0.132541</td>\n      <td>-0.500103</td>\n      <td>3.644962</td>\n      <td>0.485945</td>\n      <td>2.752668</td>\n      <td>2.010693</td>\n      <td>...</td>\n      <td>-1.105097</td>\n      <td>-0.132523</td>\n      <td>-1.077376</td>\n      <td>-0.631937</td>\n      <td>0.563930</td>\n      <td>0.146251</td>\n      <td>1.553717</td>\n      <td>-0.265858</td>\n      <td>-0.050658</td>\n      <td>0.734463</td>\n    </tr>\n  </tbody>\n</table>\n<p>2282 rows × 169 columns</p>\n</div>"
     },
     "execution_count": 46,
     "metadata": {},
     "output_type": "execute_result"
    }
   ],
   "source": [
    "X"
   ],
   "metadata": {
    "collapsed": false,
    "pycharm": {
     "name": "#%%\n"
    }
   }
  },
  {
   "cell_type": "code",
   "execution_count": 59,
   "outputs": [
    {
     "name": "stdout",
     "output_type": "stream",
     "text": [
      "      essentia_dissonance_mean  essentia_dissonance_stdev  \\\n",
      "0                     0.074674                  -0.208634   \n",
      "1                    -1.003098                   0.364099   \n",
      "2                    -0.924909                  -0.590335   \n",
      "3                    -0.663400                  -0.241471   \n",
      "4                    -0.448402                  -1.372774   \n",
      "...                        ...                        ...   \n",
      "2277                  0.294153                  -1.240041   \n",
      "2278                 -0.317970                   0.271249   \n",
      "2279                 -0.611698                   1.619394   \n",
      "2280                  0.088125                  -0.520028   \n",
      "2281                  0.435541                   3.126546   \n",
      "\n",
      "      essentia_dynamic_complexity  essentia_loudness  essentia_onset_rate  \\\n",
      "0                       -0.502540          -0.624442            -0.967537   \n",
      "1                        0.130841          -0.318021             0.019897   \n",
      "2                       -0.514385          -0.213180             0.019897   \n",
      "3                        0.378212          -0.232242            -0.638392   \n",
      "4                       -0.335574          -0.058600            -0.528677   \n",
      "...                           ...                ...                  ...   \n",
      "2277                    -0.041048          -0.057718            -0.418962   \n",
      "2278                     1.320595          -0.728771             0.349042   \n",
      "2279                     0.976295          -0.761806             0.019897   \n",
      "2280                    -0.200922          -0.520848             0.349042   \n",
      "2281                     6.291651          -0.743398            -0.132541   \n",
      "\n",
      "      essentia_pitch_salience_mean  essentia_pitch_salience_stdev  \\\n",
      "0                         0.973840                      -0.271925   \n",
      "1                        -2.043147                      -0.449124   \n",
      "2                        -1.203086                       0.723664   \n",
      "3                        -0.521754                       0.759491   \n",
      "4                        -1.276604                       2.155321   \n",
      "...                            ...                            ...   \n",
      "2277                      1.188996                      -0.558156   \n",
      "2278                      0.676441                       0.329168   \n",
      "2279                      0.376446                      -0.381145   \n",
      "2280                      1.036064                      -0.315627   \n",
      "2281                     -0.500103                       3.644962   \n",
      "\n",
      "      essentia_spectral_centroid_mean  essentia_spectral_centroid_stdev  \\\n",
      "0                            0.821937                          3.705908   \n",
      "1                            0.322515                          0.242491   \n",
      "2                            0.060573                         -0.316268   \n",
      "3                            0.142514                          0.058750   \n",
      "4                           -0.075302                         -0.236369   \n",
      "...                               ...                               ...   \n",
      "2277                        -0.524739                         -0.573189   \n",
      "2278                        -0.644184                         -0.031043   \n",
      "2279                        -0.604478                         -0.075596   \n",
      "2280                        -1.000535                         -0.315062   \n",
      "2281                         0.485945                          2.752668   \n",
      "\n",
      "      essentia_spectral_complexity_mean  ...  mirtoolbox_novelty_std  \\\n",
      "0                              1.435001  ...               -1.557358   \n",
      "1                             -1.242223  ...                0.492786   \n",
      "2                             -0.968771  ...                1.078765   \n",
      "3                              0.156288  ...               -1.281274   \n",
      "4                              0.179727  ...               -1.213569   \n",
      "...                                 ...  ...                     ...   \n",
      "2277                           0.705796  ...                0.736401   \n",
      "2278                           1.216241  ...               -0.259996   \n",
      "2279                           0.614646  ...               -0.983595   \n",
      "2280                           0.750070  ...                1.771819   \n",
      "2281                           2.010693  ...               -1.105097   \n",
      "\n",
      "      mirtoolbox_novelty_pct_10  mirtoolbox_novelty_pct_50  \\\n",
      "0                     -0.132523                  -0.953893   \n",
      "1                     -0.132523                  -0.489550   \n",
      "2                     -0.132523                   0.217391   \n",
      "3                     -0.112848                  -0.826452   \n",
      "4                     -0.132523                  -0.730973   \n",
      "...                         ...                        ...   \n",
      "2277                  -0.132523                   0.317939   \n",
      "2278                  -0.132523                  -0.433302   \n",
      "2279                  -0.132523                  -0.578879   \n",
      "2280                  -0.132523                   1.398023   \n",
      "2281                  -0.132523                  -1.077376   \n",
      "\n",
      "      mirtoolbox_novelty_pct_90  mirtoolbox_pulseclarity  \\\n",
      "0                     -1.487096                -0.263505   \n",
      "1                      0.512566                 1.554357   \n",
      "2                      0.652920                 0.121509   \n",
      "3                     -1.366754                 0.349013   \n",
      "4                     -0.937755                -0.544921   \n",
      "...                         ...                      ...   \n",
      "2277                   0.667299                 0.706086   \n",
      "2278                  -0.248294                 1.529043   \n",
      "2279                  -0.983935                 1.196165   \n",
      "2280                   2.294032                -0.616783   \n",
      "2281                  -0.631937                 0.563930   \n",
      "\n",
      "      mirtoolbox_roughness_mean  mirtoolbox_roughness_std  \\\n",
      "0                      0.037973                 -0.066389   \n",
      "1                     -1.472847                 -1.163010   \n",
      "2                     -1.109245                 -0.264529   \n",
      "3                     -1.147165                 -0.177751   \n",
      "4                     -1.144299                 -0.342477   \n",
      "...                         ...                       ...   \n",
      "2277                   0.785422                  0.874634   \n",
      "2278                  -0.054989                  0.351260   \n",
      "2279                  -0.608549                  0.667009   \n",
      "2280                   0.639713                  0.749981   \n",
      "2281                   0.146251                  1.553717   \n",
      "\n",
      "      mirtoolbox_roughness_pct_10  mirtoolbox_roughness_pct_50  \\\n",
      "0                        0.144988                     0.050310   \n",
      "1                       -1.209892                    -1.459551   \n",
      "2                       -1.293552                    -1.025679   \n",
      "3                       -1.201103                    -1.137358   \n",
      "4                       -1.183691                    -1.078803   \n",
      "...                           ...                          ...   \n",
      "2277                     0.562600                     0.745939   \n",
      "2278                    -0.225325                     0.058192   \n",
      "2279                    -0.678009                    -0.780047   \n",
      "2280                     0.552866                     0.557939   \n",
      "2281                    -0.265858                    -0.050658   \n",
      "\n",
      "      mirtoolbox_roughness_pct_90  \n",
      "0                        0.011099  \n",
      "1                       -1.544004  \n",
      "2                       -1.039652  \n",
      "3                       -0.971610  \n",
      "4                       -1.029728  \n",
      "...                           ...  \n",
      "2277                     0.859051  \n",
      "2278                    -0.052252  \n",
      "2279                    -0.175740  \n",
      "2280                     0.731791  \n",
      "2281                     0.734463  \n",
      "\n",
      "[2282 rows x 169 columns]\n"
     ]
    },
    {
     "name": "stderr",
     "output_type": "stream",
     "text": [
      "/opt/anaconda3/envs/MLPC/lib/python3.8/site-packages/sklearn/base.py:443: UserWarning: X has feature names, but SVC was fitted without feature names\n",
      "  warnings.warn(\n",
      "/opt/anaconda3/envs/MLPC/lib/python3.8/site-packages/sklearn/base.py:443: UserWarning: X has feature names, but SVC was fitted without feature names\n",
      "  warnings.warn(\n",
      "/opt/anaconda3/envs/MLPC/lib/python3.8/site-packages/sklearn/base.py:443: UserWarning: X has feature names, but SVC was fitted without feature names\n",
      "  warnings.warn(\n",
      "/opt/anaconda3/envs/MLPC/lib/python3.8/site-packages/sklearn/base.py:443: UserWarning: X has feature names, but SVC was fitted without feature names\n",
      "  warnings.warn(\n",
      "/opt/anaconda3/envs/MLPC/lib/python3.8/site-packages/sklearn/base.py:443: UserWarning: X has feature names, but SVC was fitted without feature names\n",
      "  warnings.warn(\n",
      "/opt/anaconda3/envs/MLPC/lib/python3.8/site-packages/sklearn/base.py:443: UserWarning: X has feature names, but SVC was fitted without feature names\n",
      "  warnings.warn(\n",
      "/opt/anaconda3/envs/MLPC/lib/python3.8/site-packages/sklearn/base.py:443: UserWarning: X has feature names, but SVC was fitted without feature names\n",
      "  warnings.warn(\n",
      "/opt/anaconda3/envs/MLPC/lib/python3.8/site-packages/sklearn/base.py:443: UserWarning: X has feature names, but SVC was fitted without feature names\n",
      "  warnings.warn(\n",
      "/opt/anaconda3/envs/MLPC/lib/python3.8/site-packages/sklearn/base.py:443: UserWarning: X has feature names, but SVC was fitted without feature names\n",
      "  warnings.warn(\n",
      "/opt/anaconda3/envs/MLPC/lib/python3.8/site-packages/sklearn/base.py:443: UserWarning: X has feature names, but SVC was fitted without feature names\n",
      "  warnings.warn(\n",
      "/opt/anaconda3/envs/MLPC/lib/python3.8/site-packages/sklearn/base.py:443: UserWarning: X has feature names, but SVC was fitted without feature names\n",
      "  warnings.warn(\n",
      "/opt/anaconda3/envs/MLPC/lib/python3.8/site-packages/sklearn/base.py:443: UserWarning: X has feature names, but SVC was fitted without feature names\n",
      "  warnings.warn(\n",
      "/opt/anaconda3/envs/MLPC/lib/python3.8/site-packages/sklearn/base.py:443: UserWarning: X has feature names, but SVC was fitted without feature names\n",
      "  warnings.warn(\n"
     ]
    },
    {
     "data": {
      "text/plain": "      gemmes_wandering_binary  gemmes_interior_binary  gemmes_force_binary  \\\n0                         0.0                     0.0                  0.0   \n1                         0.0                     0.0                  0.0   \n2                         0.0                     0.0                  0.0   \n3                         0.0                     0.0                  0.0   \n4                         0.0                     0.0                  0.0   \n...                       ...                     ...                  ...   \n2277                      0.0                     0.0                  0.0   \n2278                      0.0                     0.0                  0.0   \n2279                      0.0                     0.0                  0.0   \n2280                      0.0                     0.0                  0.0   \n2281                      0.0                     0.0                  0.0   \n\n      gemmes_movement_binary  gems_sadness_binary  gems_tension_binary  \\\n0                        0.0                  0.0                  0.0   \n1                        0.0                  0.0                  0.0   \n2                        0.0                  0.0                  0.0   \n3                        0.0                  0.0                  0.0   \n4                        0.0                  0.0                  0.0   \n...                      ...                  ...                  ...   \n2277                     0.0                  0.0                  0.0   \n2278                     0.0                  0.0                  0.0   \n2279                     0.0                  0.0                  0.0   \n2280                     0.0                  0.0                  0.0   \n2281                     0.0                  0.0                  0.0   \n\n      gems_joyful_activation_binary  gems_power_binary  \\\n0                               0.0                0.0   \n1                               0.0                0.0   \n2                               0.0                0.0   \n3                               0.0                0.0   \n4                               0.0                0.0   \n...                             ...                ...   \n2277                            0.0                0.0   \n2278                            0.0                0.0   \n2279                            0.0                0.0   \n2280                            0.0                0.0   \n2281                            0.0                0.0   \n\n      gems_peacefulness_binary  gems_nostalgia_binary  ...  \\\n0                          1.0                    1.0  ...   \n1                          1.0                    1.0  ...   \n2                          1.0                    1.0  ...   \n3                          1.0                    1.0  ...   \n4                          1.0                    1.0  ...   \n...                        ...                    ...  ...   \n2277                       0.0                    0.0  ...   \n2278                       0.0                    0.0  ...   \n2279                       0.0                    0.0  ...   \n2280                       0.0                    0.0  ...   \n2281                       0.0                    0.0  ...   \n\n      mirtoolbox_novelty_std  mirtoolbox_novelty_pct_10  \\\n0                  -1.557358                  -0.132523   \n1                   0.492786                  -0.132523   \n2                   1.078765                  -0.132523   \n3                  -1.281274                  -0.112848   \n4                  -1.213569                  -0.132523   \n...                      ...                        ...   \n2277                0.736401                  -0.132523   \n2278               -0.259996                  -0.132523   \n2279               -0.983595                  -0.132523   \n2280                1.771819                  -0.132523   \n2281               -1.105097                  -0.132523   \n\n      mirtoolbox_novelty_pct_50  mirtoolbox_novelty_pct_90  \\\n0                     -0.953893                  -1.487096   \n1                     -0.489550                   0.512566   \n2                      0.217391                   0.652920   \n3                     -0.826452                  -1.366754   \n4                     -0.730973                  -0.937755   \n...                         ...                        ...   \n2277                   0.317939                   0.667299   \n2278                  -0.433302                  -0.248294   \n2279                  -0.578879                  -0.983935   \n2280                   1.398023                   2.294032   \n2281                  -1.077376                  -0.631937   \n\n      mirtoolbox_pulseclarity  mirtoolbox_roughness_mean  \\\n0                   -0.263505                   0.037973   \n1                    1.554357                  -1.472847   \n2                    0.121509                  -1.109245   \n3                    0.349013                  -1.147165   \n4                   -0.544921                  -1.144299   \n...                       ...                        ...   \n2277                 0.706086                   0.785422   \n2278                 1.529043                  -0.054989   \n2279                 1.196165                  -0.608549   \n2280                -0.616783                   0.639713   \n2281                 0.563930                   0.146251   \n\n      mirtoolbox_roughness_std  mirtoolbox_roughness_pct_10  \\\n0                    -0.066389                     0.144988   \n1                    -1.163010                    -1.209892   \n2                    -0.264529                    -1.293552   \n3                    -0.177751                    -1.201103   \n4                    -0.342477                    -1.183691   \n...                        ...                          ...   \n2277                  0.874634                     0.562600   \n2278                  0.351260                    -0.225325   \n2279                  0.667009                    -0.678009   \n2280                  0.749981                     0.552866   \n2281                  1.553717                    -0.265858   \n\n      mirtoolbox_roughness_pct_50  mirtoolbox_roughness_pct_90  \n0                        0.050310                     0.011099  \n1                       -1.459551                    -1.544004  \n2                       -1.025679                    -1.039652  \n3                       -1.137358                    -0.971610  \n4                       -1.078803                    -1.029728  \n...                           ...                          ...  \n2277                     0.745939                     0.859051  \n2278                     0.058192                    -0.052252  \n2279                    -0.780047                    -0.175740  \n2280                     0.557939                     0.731791  \n2281                    -0.050658                     0.734463  \n\n[2282 rows x 182 columns]",
      "text/html": "<div>\n<style scoped>\n    .dataframe tbody tr th:only-of-type {\n        vertical-align: middle;\n    }\n\n    .dataframe tbody tr th {\n        vertical-align: top;\n    }\n\n    .dataframe thead th {\n        text-align: right;\n    }\n</style>\n<table border=\"1\" class=\"dataframe\">\n  <thead>\n    <tr style=\"text-align: right;\">\n      <th></th>\n      <th>gemmes_wandering_binary</th>\n      <th>gemmes_interior_binary</th>\n      <th>gemmes_force_binary</th>\n      <th>gemmes_movement_binary</th>\n      <th>gems_sadness_binary</th>\n      <th>gems_tension_binary</th>\n      <th>gems_joyful_activation_binary</th>\n      <th>gems_power_binary</th>\n      <th>gems_peacefulness_binary</th>\n      <th>gems_nostalgia_binary</th>\n      <th>...</th>\n      <th>mirtoolbox_novelty_std</th>\n      <th>mirtoolbox_novelty_pct_10</th>\n      <th>mirtoolbox_novelty_pct_50</th>\n      <th>mirtoolbox_novelty_pct_90</th>\n      <th>mirtoolbox_pulseclarity</th>\n      <th>mirtoolbox_roughness_mean</th>\n      <th>mirtoolbox_roughness_std</th>\n      <th>mirtoolbox_roughness_pct_10</th>\n      <th>mirtoolbox_roughness_pct_50</th>\n      <th>mirtoolbox_roughness_pct_90</th>\n    </tr>\n  </thead>\n  <tbody>\n    <tr>\n      <th>0</th>\n      <td>0.0</td>\n      <td>0.0</td>\n      <td>0.0</td>\n      <td>0.0</td>\n      <td>0.0</td>\n      <td>0.0</td>\n      <td>0.0</td>\n      <td>0.0</td>\n      <td>1.0</td>\n      <td>1.0</td>\n      <td>...</td>\n      <td>-1.557358</td>\n      <td>-0.132523</td>\n      <td>-0.953893</td>\n      <td>-1.487096</td>\n      <td>-0.263505</td>\n      <td>0.037973</td>\n      <td>-0.066389</td>\n      <td>0.144988</td>\n      <td>0.050310</td>\n      <td>0.011099</td>\n    </tr>\n    <tr>\n      <th>1</th>\n      <td>0.0</td>\n      <td>0.0</td>\n      <td>0.0</td>\n      <td>0.0</td>\n      <td>0.0</td>\n      <td>0.0</td>\n      <td>0.0</td>\n      <td>0.0</td>\n      <td>1.0</td>\n      <td>1.0</td>\n      <td>...</td>\n      <td>0.492786</td>\n      <td>-0.132523</td>\n      <td>-0.489550</td>\n      <td>0.512566</td>\n      <td>1.554357</td>\n      <td>-1.472847</td>\n      <td>-1.163010</td>\n      <td>-1.209892</td>\n      <td>-1.459551</td>\n      <td>-1.544004</td>\n    </tr>\n    <tr>\n      <th>2</th>\n      <td>0.0</td>\n      <td>0.0</td>\n      <td>0.0</td>\n      <td>0.0</td>\n      <td>0.0</td>\n      <td>0.0</td>\n      <td>0.0</td>\n      <td>0.0</td>\n      <td>1.0</td>\n      <td>1.0</td>\n      <td>...</td>\n      <td>1.078765</td>\n      <td>-0.132523</td>\n      <td>0.217391</td>\n      <td>0.652920</td>\n      <td>0.121509</td>\n      <td>-1.109245</td>\n      <td>-0.264529</td>\n      <td>-1.293552</td>\n      <td>-1.025679</td>\n      <td>-1.039652</td>\n    </tr>\n    <tr>\n      <th>3</th>\n      <td>0.0</td>\n      <td>0.0</td>\n      <td>0.0</td>\n      <td>0.0</td>\n      <td>0.0</td>\n      <td>0.0</td>\n      <td>0.0</td>\n      <td>0.0</td>\n      <td>1.0</td>\n      <td>1.0</td>\n      <td>...</td>\n      <td>-1.281274</td>\n      <td>-0.112848</td>\n      <td>-0.826452</td>\n      <td>-1.366754</td>\n      <td>0.349013</td>\n      <td>-1.147165</td>\n      <td>-0.177751</td>\n      <td>-1.201103</td>\n      <td>-1.137358</td>\n      <td>-0.971610</td>\n    </tr>\n    <tr>\n      <th>4</th>\n      <td>0.0</td>\n      <td>0.0</td>\n      <td>0.0</td>\n      <td>0.0</td>\n      <td>0.0</td>\n      <td>0.0</td>\n      <td>0.0</td>\n      <td>0.0</td>\n      <td>1.0</td>\n      <td>1.0</td>\n      <td>...</td>\n      <td>-1.213569</td>\n      <td>-0.132523</td>\n      <td>-0.730973</td>\n      <td>-0.937755</td>\n      <td>-0.544921</td>\n      <td>-1.144299</td>\n      <td>-0.342477</td>\n      <td>-1.183691</td>\n      <td>-1.078803</td>\n      <td>-1.029728</td>\n    </tr>\n    <tr>\n      <th>...</th>\n      <td>...</td>\n      <td>...</td>\n      <td>...</td>\n      <td>...</td>\n      <td>...</td>\n      <td>...</td>\n      <td>...</td>\n      <td>...</td>\n      <td>...</td>\n      <td>...</td>\n      <td>...</td>\n      <td>...</td>\n      <td>...</td>\n      <td>...</td>\n      <td>...</td>\n      <td>...</td>\n      <td>...</td>\n      <td>...</td>\n      <td>...</td>\n      <td>...</td>\n      <td>...</td>\n    </tr>\n    <tr>\n      <th>2277</th>\n      <td>0.0</td>\n      <td>0.0</td>\n      <td>0.0</td>\n      <td>0.0</td>\n      <td>0.0</td>\n      <td>0.0</td>\n      <td>0.0</td>\n      <td>0.0</td>\n      <td>0.0</td>\n      <td>0.0</td>\n      <td>...</td>\n      <td>0.736401</td>\n      <td>-0.132523</td>\n      <td>0.317939</td>\n      <td>0.667299</td>\n      <td>0.706086</td>\n      <td>0.785422</td>\n      <td>0.874634</td>\n      <td>0.562600</td>\n      <td>0.745939</td>\n      <td>0.859051</td>\n    </tr>\n    <tr>\n      <th>2278</th>\n      <td>0.0</td>\n      <td>0.0</td>\n      <td>0.0</td>\n      <td>0.0</td>\n      <td>0.0</td>\n      <td>0.0</td>\n      <td>0.0</td>\n      <td>0.0</td>\n      <td>0.0</td>\n      <td>0.0</td>\n      <td>...</td>\n      <td>-0.259996</td>\n      <td>-0.132523</td>\n      <td>-0.433302</td>\n      <td>-0.248294</td>\n      <td>1.529043</td>\n      <td>-0.054989</td>\n      <td>0.351260</td>\n      <td>-0.225325</td>\n      <td>0.058192</td>\n      <td>-0.052252</td>\n    </tr>\n    <tr>\n      <th>2279</th>\n      <td>0.0</td>\n      <td>0.0</td>\n      <td>0.0</td>\n      <td>0.0</td>\n      <td>0.0</td>\n      <td>0.0</td>\n      <td>0.0</td>\n      <td>0.0</td>\n      <td>0.0</td>\n      <td>0.0</td>\n      <td>...</td>\n      <td>-0.983595</td>\n      <td>-0.132523</td>\n      <td>-0.578879</td>\n      <td>-0.983935</td>\n      <td>1.196165</td>\n      <td>-0.608549</td>\n      <td>0.667009</td>\n      <td>-0.678009</td>\n      <td>-0.780047</td>\n      <td>-0.175740</td>\n    </tr>\n    <tr>\n      <th>2280</th>\n      <td>0.0</td>\n      <td>0.0</td>\n      <td>0.0</td>\n      <td>0.0</td>\n      <td>0.0</td>\n      <td>0.0</td>\n      <td>0.0</td>\n      <td>0.0</td>\n      <td>0.0</td>\n      <td>0.0</td>\n      <td>...</td>\n      <td>1.771819</td>\n      <td>-0.132523</td>\n      <td>1.398023</td>\n      <td>2.294032</td>\n      <td>-0.616783</td>\n      <td>0.639713</td>\n      <td>0.749981</td>\n      <td>0.552866</td>\n      <td>0.557939</td>\n      <td>0.731791</td>\n    </tr>\n    <tr>\n      <th>2281</th>\n      <td>0.0</td>\n      <td>0.0</td>\n      <td>0.0</td>\n      <td>0.0</td>\n      <td>0.0</td>\n      <td>0.0</td>\n      <td>0.0</td>\n      <td>0.0</td>\n      <td>0.0</td>\n      <td>0.0</td>\n      <td>...</td>\n      <td>-1.105097</td>\n      <td>-0.132523</td>\n      <td>-1.077376</td>\n      <td>-0.631937</td>\n      <td>0.563930</td>\n      <td>0.146251</td>\n      <td>1.553717</td>\n      <td>-0.265858</td>\n      <td>-0.050658</td>\n      <td>0.734463</td>\n    </tr>\n  </tbody>\n</table>\n<p>2282 rows × 182 columns</p>\n</div>"
     },
     "execution_count": 59,
     "metadata": {},
     "output_type": "execute_result"
    }
   ],
   "source": [
    "training_data = X.copy()\n",
    "print(training_data)\n",
    "\n",
    "for model, feature in zip(models, hl_feat):\n",
    "     pred = model.predict(X)\n",
    "     training_data.insert(0, feature, pred)\n",
    "\n",
    "training_data"
   ],
   "metadata": {
    "collapsed": false,
    "pycharm": {
     "name": "#%%\n"
    }
   }
  },
  {
   "cell_type": "code",
   "execution_count": 62,
   "outputs": [],
   "source": [
    "with open('train_data_pred_features.pkl', 'wb') as f:\n",
    "    pickle.dump(training_data, f)"
   ],
   "metadata": {
    "collapsed": false,
    "pycharm": {
     "name": "#%%\n"
    }
   }
  },
  {
   "cell_type": "code",
   "execution_count": null,
   "outputs": [],
   "source": [],
   "metadata": {
    "collapsed": false,
    "pycharm": {
     "name": "#%%\n"
    }
   }
  }
 ],
 "metadata": {
  "kernelspec": {
   "display_name": "Python 3",
   "language": "python",
   "name": "python3"
  },
  "language_info": {
   "codemirror_mode": {
    "name": "ipython",
    "version": 2
   },
   "file_extension": ".py",
   "mimetype": "text/x-python",
   "name": "python",
   "nbconvert_exporter": "python",
   "pygments_lexer": "ipython2",
   "version": "2.7.6"
  }
 },
 "nbformat": 4,
 "nbformat_minor": 0
}