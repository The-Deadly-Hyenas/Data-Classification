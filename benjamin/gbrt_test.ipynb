{
 "cells": [
  {
   "cell_type": "markdown",
   "metadata": {
    "pycharm": {
     "name": "#%% md\n"
    }
   },
   "source": [
    "# Gradient Boosted Regression Trees\n",
    "---\n",
    "\n",
    "#### Data Classification Task - Model Training and Testing"
   ]
  },
  {
   "cell_type": "markdown",
   "metadata": {
    "pycharm": {
     "name": "#%% md\n"
    }
   },
   "source": [
    "### Imports\n",
    "---"
   ]
  },
  {
   "cell_type": "code",
   "execution_count": 52,
   "metadata": {
    "collapsed": false,
    "jupyter": {
     "outputs_hidden": false
    },
    "pycharm": {
     "name": "#%%\n"
    }
   },
   "outputs": [],
   "source": [
    "import pandas as pd\n",
    "import numpy as np\n",
    "import joblib\n",
    "import pickle\n",
    "import matplotlib.pyplot as plt\n",
    "\n",
    "from sklearn.utils import shuffle\n",
    "from sklearn.preprocessing import StandardScaler\n",
    "from sklearn.model_selection import train_test_split, GridSearchCV, cross_val_score\n",
    "\n",
    "from sklearn.ensemble import GradientBoostingClassifier\n",
    "from sklearn.metrics import precision_score, accuracy_score, recall_score\n",
    "\n",
    "from imblearn.combine import SMOTEENN"
   ]
  },
  {
   "cell_type": "markdown",
   "metadata": {
    "pycharm": {
     "name": "#%% md\n"
    }
   },
   "source": [
    "### Load Dataset\n",
    "---"
   ]
  },
  {
   "cell_type": "code",
   "execution_count": 53,
   "metadata": {
    "collapsed": false,
    "jupyter": {
     "outputs_hidden": false
    },
    "pycharm": {
     "name": "#%%\n"
    }
   },
   "outputs": [],
   "source": [
    "df = pd.read_pickle('../training_dataset_task3/task_3_training_e8da4715deef7d56_f8b7378_pandas.pkl').reset_index()\n",
    "\n",
    "X = df.loc[:, 'essentia_dissonance_mean':'gemmes_flow_binary']\n",
    "y = df['quadrant']"
   ]
  },
  {
   "cell_type": "markdown",
   "metadata": {
    "pycharm": {
     "name": "#%% md\n"
    }
   },
   "source": [
    "### Data Preprocessing\n",
    "---\n",
    "Where the ✨ magic ✨ happens"
   ]
  },
  {
   "cell_type": "code",
   "execution_count": 54,
   "metadata": {
    "collapsed": false,
    "jupyter": {
     "outputs_hidden": false
    },
    "pycharm": {
     "name": "#%%\n"
    }
   },
   "outputs": [],
   "source": [
    "# add segment_id to training data for doing the cross validation splits\n",
    "X[\"segment_id\"] = df[\"segment_id\"]\n",
    "\n",
    "# remove segment_id 26\n",
    "seg_26_indices = (X[\"segment_id\"] == 26)\n",
    "X_test = X[seg_26_indices].drop([\"segment_id\"], axis=1)\n",
    "y_test = y[seg_26_indices]\n",
    "\n",
    "X_train = X.drop(X[seg_26_indices].index, axis=0).reset_index(drop=True)\n",
    "y_train = y.drop(X[seg_26_indices].index, axis=0)\n",
    "\n",
    "\n",
    "# https://imbalanced-learn.org/stable/combine.html\n",
    "smote_enn = SMOTEENN(random_state=0)\n",
    "X_resampled, y_resampled = smote_enn.fit_resample(X, y)\n",
    "\n",
    "# preprocess dataset\n",
    "X_std = StandardScaler().fit_transform(X)\n",
    "X = pd.DataFrame(X_std, columns=X.columns)"
   ]
  },
  {
   "cell_type": "code",
   "execution_count": 55,
   "metadata": {
    "collapsed": false,
    "jupyter": {
     "outputs_hidden": false
    },
    "pycharm": {
     "name": "#%%\n"
    }
   },
   "outputs": [],
   "source": [
    "# split the data according to segment_id\n",
    "cv = []\n",
    "for i in range(24):\n",
    "    train_indices = X_resampled[~X_resampled[\"segment_id\"].isin([i, i + 1])].index.to_list()\n",
    "    test_indices = X_resampled[X_resampled[\"segment_id\"].isin([i, i + 1])].index.to_list()\n",
    "    cv.append((train_indices, test_indices))\n",
    "\n",
    "# remove the segment_id as we don't want it in the training data\n",
    "X_resampled = X_resampled.drop([\"segment_id\"], axis=1)"
   ]
  },
  {
   "cell_type": "markdown",
   "metadata": {
    "pycharm": {
     "name": "#%% md\n"
    }
   },
   "source": [
    "### Model Training and Testing\n",
    "---"
   ]
  },
  {
   "cell_type": "code",
   "execution_count": 56,
   "metadata": {
    "collapsed": false,
    "jupyter": {
     "outputs_hidden": false
    },
    "pycharm": {
     "name": "#%%\n"
    }
   },
   "outputs": [],
   "source": [
    "def evaluate_model(model, train_set_x, train_set_y, test_set_x, test_set_y):\n",
    "    \"\"\"\n",
    "\n",
    "    :param model:\n",
    "    :return:\n",
    "    \"\"\"\n",
    "    train_yhat = model.predict(train_set_x)\n",
    "    test_yhat = model.predict(test_set_x)\n",
    "\n",
    "    errors = abs(test_yhat - y_test)\n",
    "\n",
    "    print('Model Performance Check:')\n",
    "    print(\"***\"*3)\n",
    "    print(' Average Error: {:0.4f}'.format(np.mean(errors)))\n",
    "    print(' Precission: {:0.4f}'.format(precision_score(test_set_y, test_yhat, average='micro')))\n",
    "    print(' Recall: {:0.4f}'.format(recall_score(test_set_y, test_yhat, average='micro')))\n",
    "\n",
    "\n",
    "    print(\"\\nModel Accuracy Check:\")\n",
    "    print(\"***\"*3)\n",
    "    print(\" Trainset Accuracy: {:0.4f}\".format(accuracy_score(train_set_y, train_yhat)))\n",
    "    print(\" Testset Accuracy: {:0.4f}\".format(accuracy_score(test_set_y, test_yhat)))\n",
    "\n",
    "def export_model(model, model_name: str):\n",
    "    \"\"\"\n",
    "    Exports a given classifier to a pickel file\n",
    "    :param model:\n",
    "    :param model_name:\n",
    "    :return: None\n",
    "    \"\"\"\n",
    "    if model is not None:\n",
    "        try:\n",
    "            joblib.dump(model, '{}.pkl'.format(model_name), compress=9)\n",
    "            print(\"Successfully exported classifier!\\n Location: {}\")\n",
    "        except Exception as ex:\n",
    "            raise ex\n",
    "    else:\n",
    "        raise ValueError(\"Model is none\")"
   ]
  },
  {
   "cell_type": "code",
   "execution_count": 57,
   "metadata": {
    "collapsed": false,
    "jupyter": {
     "outputs_hidden": false
    },
    "pycharm": {
     "name": "#%%\n"
    }
   },
   "outputs": [
    {
     "data": {
      "text/html": [
       "<style>#sk-container-id-16 {color: black;background-color: white;}#sk-container-id-16 pre{padding: 0;}#sk-container-id-16 div.sk-toggleable {background-color: white;}#sk-container-id-16 label.sk-toggleable__label {cursor: pointer;display: block;width: 100%;margin-bottom: 0;padding: 0.3em;box-sizing: border-box;text-align: center;}#sk-container-id-16 label.sk-toggleable__label-arrow:before {content: \"▸\";float: left;margin-right: 0.25em;color: #696969;}#sk-container-id-16 label.sk-toggleable__label-arrow:hover:before {color: black;}#sk-container-id-16 div.sk-estimator:hover label.sk-toggleable__label-arrow:before {color: black;}#sk-container-id-16 div.sk-toggleable__content {max-height: 0;max-width: 0;overflow: hidden;text-align: left;background-color: #f0f8ff;}#sk-container-id-16 div.sk-toggleable__content pre {margin: 0.2em;color: black;border-radius: 0.25em;background-color: #f0f8ff;}#sk-container-id-16 input.sk-toggleable__control:checked~div.sk-toggleable__content {max-height: 200px;max-width: 100%;overflow: auto;}#sk-container-id-16 input.sk-toggleable__control:checked~label.sk-toggleable__label-arrow:before {content: \"▾\";}#sk-container-id-16 div.sk-estimator input.sk-toggleable__control:checked~label.sk-toggleable__label {background-color: #d4ebff;}#sk-container-id-16 div.sk-label input.sk-toggleable__control:checked~label.sk-toggleable__label {background-color: #d4ebff;}#sk-container-id-16 input.sk-hidden--visually {border: 0;clip: rect(1px 1px 1px 1px);clip: rect(1px, 1px, 1px, 1px);height: 1px;margin: -1px;overflow: hidden;padding: 0;position: absolute;width: 1px;}#sk-container-id-16 div.sk-estimator {font-family: monospace;background-color: #f0f8ff;border: 1px dotted black;border-radius: 0.25em;box-sizing: border-box;margin-bottom: 0.5em;}#sk-container-id-16 div.sk-estimator:hover {background-color: #d4ebff;}#sk-container-id-16 div.sk-parallel-item::after {content: \"\";width: 100%;border-bottom: 1px solid gray;flex-grow: 1;}#sk-container-id-16 div.sk-label:hover label.sk-toggleable__label {background-color: #d4ebff;}#sk-container-id-16 div.sk-serial::before {content: \"\";position: absolute;border-left: 1px solid gray;box-sizing: border-box;top: 0;bottom: 0;left: 50%;z-index: 0;}#sk-container-id-16 div.sk-serial {display: flex;flex-direction: column;align-items: center;background-color: white;padding-right: 0.2em;padding-left: 0.2em;position: relative;}#sk-container-id-16 div.sk-item {position: relative;z-index: 1;}#sk-container-id-16 div.sk-parallel {display: flex;align-items: stretch;justify-content: center;background-color: white;position: relative;}#sk-container-id-16 div.sk-item::before, #sk-container-id-16 div.sk-parallel-item::before {content: \"\";position: absolute;border-left: 1px solid gray;box-sizing: border-box;top: 0;bottom: 0;left: 50%;z-index: -1;}#sk-container-id-16 div.sk-parallel-item {display: flex;flex-direction: column;z-index: 1;position: relative;background-color: white;}#sk-container-id-16 div.sk-parallel-item:first-child::after {align-self: flex-end;width: 50%;}#sk-container-id-16 div.sk-parallel-item:last-child::after {align-self: flex-start;width: 50%;}#sk-container-id-16 div.sk-parallel-item:only-child::after {width: 0;}#sk-container-id-16 div.sk-dashed-wrapped {border: 1px dashed gray;margin: 0 0.4em 0.5em 0.4em;box-sizing: border-box;padding-bottom: 0.4em;background-color: white;}#sk-container-id-16 div.sk-label label {font-family: monospace;font-weight: bold;display: inline-block;line-height: 1.2em;}#sk-container-id-16 div.sk-label-container {text-align: center;}#sk-container-id-16 div.sk-container {/* jupyter's `normalize.less` sets `[hidden] { display: none; }` but bootstrap.min.css set `[hidden] { display: none !important; }` so we also need the `!important` here to be able to override the default hidden behavior on the sphinx rendered scikit-learn.org. See: https://github.com/scikit-learn/scikit-learn/issues/21755 */display: inline-block !important;position: relative;}#sk-container-id-16 div.sk-text-repr-fallback {display: none;}</style><div id=\"sk-container-id-16\" class=\"sk-top-container\"><div class=\"sk-text-repr-fallback\"><pre>GridSearchCV(cv=[([1, 2, 3, 4, 5, 6, 7, 8, 9, 10, 11, 12, 13, 14, 15, 16, 18,\n",
       "                   19, 20, 22, 23, 24, 25, 26, 27, 28, 29, 30, 31, 32, ...],\n",
       "                  [0, 17, 21, 92, 188, 189, 191, 192, 193, 206, 212, 229, 232,\n",
       "                   255, 256, 257]),\n",
       "                 ([1, 2, 3, 4, 5, 6, 7, 8, 9, 10, 11, 12, 15, 16, 19, 20, 23,\n",
       "                   24, 25, 26, 27, 28, 29, 30, 31, 32, 33, 34, 35, 36, ...],\n",
       "                  [0, 13, 14, 17, 18, 21, 22, 38, 42, 63, 93, 136, 140, 212,\n",
       "                   229]),\n",
       "                 ([0, 1, 2, 3, 4, 5, 6, 7, 8, 9, 10, 11, 12, 15, 16, 17, 19, 2...\n",
       "                 ([0, 1, 2, 3, 4, 5, 6, 7, 8, 9, 10, 11, 12, 13, 14, 15, 16, 17,\n",
       "                   18, 19, 20, 21, 22, 23, 24, 25, 26, 27, 28, 29, ...],\n",
       "                  [73, 91, 167, 202, 203, 209, 213, 230, 241, 242, 252, 253,\n",
       "                   265, 266])],\n",
       "             estimator=GradientBoostingClassifier(), n_jobs=-1,\n",
       "             param_grid={&#x27;criterion&#x27;: [&#x27;friedman_mse&#x27;, &#x27;squared_error&#x27;],\n",
       "                         &#x27;learning_rate&#x27;: [0.16, 0.15, 0.12], &#x27;max_depth&#x27;: [15],\n",
       "                         &#x27;min_samples_leaf&#x27;: [110, 105], &#x27;n_estimators&#x27;: [21]})</pre><b>In a Jupyter environment, please rerun this cell to show the HTML representation or trust the notebook. <br />On GitHub, the HTML representation is unable to render, please try loading this page with nbviewer.org.</b></div><div class=\"sk-container\" hidden><div class=\"sk-item sk-dashed-wrapped\"><div class=\"sk-label-container\"><div class=\"sk-label sk-toggleable\"><input class=\"sk-toggleable__control sk-hidden--visually\" id=\"sk-estimator-id-32\" type=\"checkbox\" ><label for=\"sk-estimator-id-32\" class=\"sk-toggleable__label sk-toggleable__label-arrow\">GridSearchCV</label><div class=\"sk-toggleable__content\"><pre>GridSearchCV(cv=[([1, 2, 3, 4, 5, 6, 7, 8, 9, 10, 11, 12, 13, 14, 15, 16, 18,\n",
       "                   19, 20, 22, 23, 24, 25, 26, 27, 28, 29, 30, 31, 32, ...],\n",
       "                  [0, 17, 21, 92, 188, 189, 191, 192, 193, 206, 212, 229, 232,\n",
       "                   255, 256, 257]),\n",
       "                 ([1, 2, 3, 4, 5, 6, 7, 8, 9, 10, 11, 12, 15, 16, 19, 20, 23,\n",
       "                   24, 25, 26, 27, 28, 29, 30, 31, 32, 33, 34, 35, 36, ...],\n",
       "                  [0, 13, 14, 17, 18, 21, 22, 38, 42, 63, 93, 136, 140, 212,\n",
       "                   229]),\n",
       "                 ([0, 1, 2, 3, 4, 5, 6, 7, 8, 9, 10, 11, 12, 15, 16, 17, 19, 2...\n",
       "                 ([0, 1, 2, 3, 4, 5, 6, 7, 8, 9, 10, 11, 12, 13, 14, 15, 16, 17,\n",
       "                   18, 19, 20, 21, 22, 23, 24, 25, 26, 27, 28, 29, ...],\n",
       "                  [73, 91, 167, 202, 203, 209, 213, 230, 241, 242, 252, 253,\n",
       "                   265, 266])],\n",
       "             estimator=GradientBoostingClassifier(), n_jobs=-1,\n",
       "             param_grid={&#x27;criterion&#x27;: [&#x27;friedman_mse&#x27;, &#x27;squared_error&#x27;],\n",
       "                         &#x27;learning_rate&#x27;: [0.16, 0.15, 0.12], &#x27;max_depth&#x27;: [15],\n",
       "                         &#x27;min_samples_leaf&#x27;: [110, 105], &#x27;n_estimators&#x27;: [21]})</pre></div></div></div><div class=\"sk-parallel\"><div class=\"sk-parallel-item\"><div class=\"sk-item\"><div class=\"sk-label-container\"><div class=\"sk-label sk-toggleable\"><input class=\"sk-toggleable__control sk-hidden--visually\" id=\"sk-estimator-id-33\" type=\"checkbox\" ><label for=\"sk-estimator-id-33\" class=\"sk-toggleable__label sk-toggleable__label-arrow\">estimator: GradientBoostingClassifier</label><div class=\"sk-toggleable__content\"><pre>GradientBoostingClassifier()</pre></div></div></div><div class=\"sk-serial\"><div class=\"sk-item\"><div class=\"sk-estimator sk-toggleable\"><input class=\"sk-toggleable__control sk-hidden--visually\" id=\"sk-estimator-id-34\" type=\"checkbox\" ><label for=\"sk-estimator-id-34\" class=\"sk-toggleable__label sk-toggleable__label-arrow\">GradientBoostingClassifier</label><div class=\"sk-toggleable__content\"><pre>GradientBoostingClassifier()</pre></div></div></div></div></div></div></div></div></div></div>"
      ],
      "text/plain": [
       "GridSearchCV(cv=[([1, 2, 3, 4, 5, 6, 7, 8, 9, 10, 11, 12, 13, 14, 15, 16, 18,\n",
       "                   19, 20, 22, 23, 24, 25, 26, 27, 28, 29, 30, 31, 32, ...],\n",
       "                  [0, 17, 21, 92, 188, 189, 191, 192, 193, 206, 212, 229, 232,\n",
       "                   255, 256, 257]),\n",
       "                 ([1, 2, 3, 4, 5, 6, 7, 8, 9, 10, 11, 12, 15, 16, 19, 20, 23,\n",
       "                   24, 25, 26, 27, 28, 29, 30, 31, 32, 33, 34, 35, 36, ...],\n",
       "                  [0, 13, 14, 17, 18, 21, 22, 38, 42, 63, 93, 136, 140, 212,\n",
       "                   229]),\n",
       "                 ([0, 1, 2, 3, 4, 5, 6, 7, 8, 9, 10, 11, 12, 15, 16, 17, 19, 2...\n",
       "                 ([0, 1, 2, 3, 4, 5, 6, 7, 8, 9, 10, 11, 12, 13, 14, 15, 16, 17,\n",
       "                   18, 19, 20, 21, 22, 23, 24, 25, 26, 27, 28, 29, ...],\n",
       "                  [73, 91, 167, 202, 203, 209, 213, 230, 241, 242, 252, 253,\n",
       "                   265, 266])],\n",
       "             estimator=GradientBoostingClassifier(), n_jobs=-1,\n",
       "             param_grid={'criterion': ['friedman_mse', 'squared_error'],\n",
       "                         'learning_rate': [0.16, 0.15, 0.12], 'max_depth': [15],\n",
       "                         'min_samples_leaf': [110, 105], 'n_estimators': [21]})"
      ]
     },
     "execution_count": 57,
     "metadata": {},
     "output_type": "execute_result"
    }
   ],
   "source": [
    "# Gradient Boosted Regression Tree\n",
    "# gbrt_model_cv = GradientBoostingClassifier(\n",
    "#    n_estimators=100,\n",
    "#    learning_rate=0.1,\n",
    "#    max_depth=10,\n",
    "#    min_samples_leaf=2,\n",
    "#    random_state=0).fit(X_train, y_train)\n",
    "\n",
    "# gbrt_model.fit(X_train, y_train)\n",
    "\n",
    "params = {\"n_estimators\": [21],\n",
    "          \"learning_rate\": [0.16,0.15,0.12],\n",
    "          \"min_samples_leaf\": [110,105],\n",
    "          \"max_depth\": [15],\n",
    "          \"criterion\": [\"friedman_mse\", \"squared_error\"]}\n",
    "\n",
    "gbdt_cv = GridSearchCV(GradientBoostingClassifier(), params, cv=cv, n_jobs=-1)\n",
    "gbdt_cv.fit(X_resampled, y_resampled)"
   ]
  },
  {
   "cell_type": "code",
   "execution_count": 58,
   "metadata": {
    "collapsed": false,
    "jupyter": {
     "outputs_hidden": false
    },
    "pycharm": {
     "name": "#%%\n"
    }
   },
   "outputs": [
    {
     "name": "stdout",
     "output_type": "stream",
     "text": [
      "Best Model Parameters: \n",
      " {'criterion': 'squared_error', 'learning_rate': 0.16, 'max_depth': 15, 'min_samples_leaf': 105, 'n_estimators': 21}\n",
      " Best Score: 0.8939130932826108\n",
      " Trainset Score: 0.9629629629629629\n",
      " Testset Score: 0.9767441860465116\n"
     ]
    }
   ],
   "source": [
    "print(\"Best Model Parameters: \\n {}\\n Best Score: {}\\n Trainset Score: {}\\n Testset Score: {}\".format(gbdt_cv.best_params_, gbdt_cv.best_score_, gbdt_cv.score(X_resampled, y_resampled), gbdt_cv.score(X_test, y_test)))"
   ]
  },
  {
   "cell_type": "markdown",
   "metadata": {
    "pycharm": {
     "name": "#%% md\n"
    }
   },
   "source": [
    "### GBDT Model Evaluation\n",
    "---"
   ]
  },
  {
   "cell_type": "code",
   "execution_count": 59,
   "metadata": {
    "collapsed": false,
    "jupyter": {
     "outputs_hidden": false
    },
    "pycharm": {
     "name": "#%%\n"
    }
   },
   "outputs": [
    {
     "data": {
      "text/html": [
       "<style>#sk-container-id-17 {color: black;background-color: white;}#sk-container-id-17 pre{padding: 0;}#sk-container-id-17 div.sk-toggleable {background-color: white;}#sk-container-id-17 label.sk-toggleable__label {cursor: pointer;display: block;width: 100%;margin-bottom: 0;padding: 0.3em;box-sizing: border-box;text-align: center;}#sk-container-id-17 label.sk-toggleable__label-arrow:before {content: \"▸\";float: left;margin-right: 0.25em;color: #696969;}#sk-container-id-17 label.sk-toggleable__label-arrow:hover:before {color: black;}#sk-container-id-17 div.sk-estimator:hover label.sk-toggleable__label-arrow:before {color: black;}#sk-container-id-17 div.sk-toggleable__content {max-height: 0;max-width: 0;overflow: hidden;text-align: left;background-color: #f0f8ff;}#sk-container-id-17 div.sk-toggleable__content pre {margin: 0.2em;color: black;border-radius: 0.25em;background-color: #f0f8ff;}#sk-container-id-17 input.sk-toggleable__control:checked~div.sk-toggleable__content {max-height: 200px;max-width: 100%;overflow: auto;}#sk-container-id-17 input.sk-toggleable__control:checked~label.sk-toggleable__label-arrow:before {content: \"▾\";}#sk-container-id-17 div.sk-estimator input.sk-toggleable__control:checked~label.sk-toggleable__label {background-color: #d4ebff;}#sk-container-id-17 div.sk-label input.sk-toggleable__control:checked~label.sk-toggleable__label {background-color: #d4ebff;}#sk-container-id-17 input.sk-hidden--visually {border: 0;clip: rect(1px 1px 1px 1px);clip: rect(1px, 1px, 1px, 1px);height: 1px;margin: -1px;overflow: hidden;padding: 0;position: absolute;width: 1px;}#sk-container-id-17 div.sk-estimator {font-family: monospace;background-color: #f0f8ff;border: 1px dotted black;border-radius: 0.25em;box-sizing: border-box;margin-bottom: 0.5em;}#sk-container-id-17 div.sk-estimator:hover {background-color: #d4ebff;}#sk-container-id-17 div.sk-parallel-item::after {content: \"\";width: 100%;border-bottom: 1px solid gray;flex-grow: 1;}#sk-container-id-17 div.sk-label:hover label.sk-toggleable__label {background-color: #d4ebff;}#sk-container-id-17 div.sk-serial::before {content: \"\";position: absolute;border-left: 1px solid gray;box-sizing: border-box;top: 0;bottom: 0;left: 50%;z-index: 0;}#sk-container-id-17 div.sk-serial {display: flex;flex-direction: column;align-items: center;background-color: white;padding-right: 0.2em;padding-left: 0.2em;position: relative;}#sk-container-id-17 div.sk-item {position: relative;z-index: 1;}#sk-container-id-17 div.sk-parallel {display: flex;align-items: stretch;justify-content: center;background-color: white;position: relative;}#sk-container-id-17 div.sk-item::before, #sk-container-id-17 div.sk-parallel-item::before {content: \"\";position: absolute;border-left: 1px solid gray;box-sizing: border-box;top: 0;bottom: 0;left: 50%;z-index: -1;}#sk-container-id-17 div.sk-parallel-item {display: flex;flex-direction: column;z-index: 1;position: relative;background-color: white;}#sk-container-id-17 div.sk-parallel-item:first-child::after {align-self: flex-end;width: 50%;}#sk-container-id-17 div.sk-parallel-item:last-child::after {align-self: flex-start;width: 50%;}#sk-container-id-17 div.sk-parallel-item:only-child::after {width: 0;}#sk-container-id-17 div.sk-dashed-wrapped {border: 1px dashed gray;margin: 0 0.4em 0.5em 0.4em;box-sizing: border-box;padding-bottom: 0.4em;background-color: white;}#sk-container-id-17 div.sk-label label {font-family: monospace;font-weight: bold;display: inline-block;line-height: 1.2em;}#sk-container-id-17 div.sk-label-container {text-align: center;}#sk-container-id-17 div.sk-container {/* jupyter's `normalize.less` sets `[hidden] { display: none; }` but bootstrap.min.css set `[hidden] { display: none !important; }` so we also need the `!important` here to be able to override the default hidden behavior on the sphinx rendered scikit-learn.org. See: https://github.com/scikit-learn/scikit-learn/issues/21755 */display: inline-block !important;position: relative;}#sk-container-id-17 div.sk-text-repr-fallback {display: none;}</style><div id=\"sk-container-id-17\" class=\"sk-top-container\"><div class=\"sk-text-repr-fallback\"><pre>GradientBoostingClassifier(criterion=&#x27;squared_error&#x27;, learning_rate=0.16,\n",
       "                           max_depth=15, min_samples_leaf=105, n_estimators=21)</pre><b>In a Jupyter environment, please rerun this cell to show the HTML representation or trust the notebook. <br />On GitHub, the HTML representation is unable to render, please try loading this page with nbviewer.org.</b></div><div class=\"sk-container\" hidden><div class=\"sk-item\"><div class=\"sk-estimator sk-toggleable\"><input class=\"sk-toggleable__control sk-hidden--visually\" id=\"sk-estimator-id-35\" type=\"checkbox\" checked><label for=\"sk-estimator-id-35\" class=\"sk-toggleable__label sk-toggleable__label-arrow\">GradientBoostingClassifier</label><div class=\"sk-toggleable__content\"><pre>GradientBoostingClassifier(criterion=&#x27;squared_error&#x27;, learning_rate=0.16,\n",
       "                           max_depth=15, min_samples_leaf=105, n_estimators=21)</pre></div></div></div></div></div>"
      ],
      "text/plain": [
       "GradientBoostingClassifier(criterion='squared_error', learning_rate=0.16,\n",
       "                           max_depth=15, min_samples_leaf=105, n_estimators=21)"
      ]
     },
     "execution_count": 59,
     "metadata": {},
     "output_type": "execute_result"
    }
   ],
   "source": [
    "params = gbdt_cv.best_params_\n",
    "gbdt = GradientBoostingClassifier(**params)\n",
    "gbdt.fit(X_resampled, y_resampled)"
   ]
  },
  {
   "cell_type": "code",
   "execution_count": 60,
   "metadata": {
    "collapsed": false,
    "jupyter": {
     "outputs_hidden": false
    },
    "pycharm": {
     "name": "#%%\n"
    }
   },
   "outputs": [
    {
     "name": "stdout",
     "output_type": "stream",
     "text": [
      "Model Performance Check:\n",
      "*********\n",
      " Average Error: 0.0233\n",
      " Precission: 0.9767\n",
      " Recall: 0.9767\n",
      "\n",
      "Model Accuracy Check:\n",
      "*********\n",
      " Trainset Accuracy: 0.9630\n",
      " Testset Accuracy: 0.9767\n"
     ]
    }
   ],
   "source": [
    "evaluate_model(gbdt, X_resampled, y_resampled, X_test, y_test)"
   ]
  },
  {
   "cell_type": "code",
   "execution_count": null,
   "metadata": {
    "collapsed": false,
    "jupyter": {
     "outputs_hidden": false
    },
    "pycharm": {
     "name": "#%%\n"
    }
   },
   "outputs": [],
   "source": []
  }
 ],
 "metadata": {
  "kernelspec": {
   "display_name": "Python 3 (ipykernel)",
   "language": "python",
   "name": "python3"
  },
  "language_info": {
   "codemirror_mode": {
    "name": "ipython",
    "version": 3
   },
   "file_extension": ".py",
   "mimetype": "text/x-python",
   "name": "python",
   "nbconvert_exporter": "python",
   "pygments_lexer": "ipython3",
   "version": "3.10.4"
  }
 },
 "nbformat": 4,
 "nbformat_minor": 4
}
