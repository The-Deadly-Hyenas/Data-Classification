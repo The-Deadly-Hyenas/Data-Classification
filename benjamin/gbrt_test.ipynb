{
 "cells": [
  {
   "cell_type": "markdown",
   "metadata": {
    "pycharm": {
     "name": "#%% md\n"
    }
   },
   "source": [
    "# Gradient Boosted Regression Trees\n",
    "---\n",
    "\n",
    "#### Data Classification Task - Model Training and Testing"
   ]
  },
  {
   "cell_type": "markdown",
   "metadata": {
    "pycharm": {
     "name": "#%% md\n"
    }
   },
   "source": [
    "### Imports\n",
    "---"
   ]
  },
  {
   "cell_type": "code",
   "execution_count": 2,
   "metadata": {
    "collapsed": false,
    "jupyter": {
     "outputs_hidden": false
    },
    "pycharm": {
     "name": "#%%\n"
    }
   },
   "outputs": [],
   "source": [
    "import pandas as pd\n",
    "import numpy as np\n",
    "import joblib\n",
    "import pickle\n",
    "import matplotlib.pyplot as plt\n",
    "\n",
    "from sklearn.utils import shuffle\n",
    "from sklearn.preprocessing import StandardScaler\n",
    "from sklearn.model_selection import train_test_split, GridSearchCV, cross_val_score\n",
    "\n",
    "from sklearn.ensemble import GradientBoostingClassifier\n",
    "from sklearn.metrics import precision_score, accuracy_score, recall_score\n",
    "\n",
    "from imblearn.combine import SMOTEENN"
   ]
  },
  {
   "cell_type": "markdown",
   "metadata": {
    "pycharm": {
     "name": "#%% md\n"
    }
   },
   "source": [
    "### Load Dataset\n",
    "---"
   ]
  },
  {
   "cell_type": "code",
   "execution_count": 3,
   "metadata": {
    "collapsed": false,
    "jupyter": {
     "outputs_hidden": false
    },
    "pycharm": {
     "name": "#%%\n"
    }
   },
   "outputs": [],
   "source": [
    "df = pd.read_pickle('../training_dataset_task3/task_3_training_e8da4715deef7d56_f8b7378_pandas.pkl').reset_index()\n",
    "\n",
    "X = df.loc[:, 'essentia_dissonance_mean':'mirtoolbox_roughness_pct_90']\n",
    "y = df['quadrant']\n",
    "\n",
    "# preprocess dataset\n",
    "X_std = StandardScaler().fit_transform(X)\n",
    "X = pd.DataFrame(X_std, columns=X.columns)"
   ]
  },
  {
   "cell_type": "markdown",
   "metadata": {
    "pycharm": {
     "name": "#%% md\n"
    }
   },
   "source": [
    "### Data Preprocessing\n",
    "---\n",
    "Where the ✨ magic ✨ happens"
   ]
  },
  {
   "cell_type": "code",
   "execution_count": 4,
   "metadata": {
    "collapsed": false,
    "jupyter": {
     "outputs_hidden": false
    },
    "pycharm": {
     "name": "#%%\n"
    }
   },
   "outputs": [],
   "source": [
    "# add segment_id to training data for doing the cross validation splits\n",
    "X[\"segment_id\"] = df[\"segment_id\"]\n",
    "\n",
    "# remove segment_id 26\n",
    "seg_26_indices = (X[\"segment_id\"] == 26)\n",
    "X_test = X[seg_26_indices].drop([\"segment_id\"], axis=1)\n",
    "y_test = y[seg_26_indices]\n",
    "\n",
    "X_train = X.drop(X[seg_26_indices].index, axis=0).reset_index(drop=True)\n",
    "y_train = y.drop(X[seg_26_indices].index, axis=0)\n",
    "\n",
    "\n",
    "# https://imbalanced-learn.org/stable/combine.html\n",
    "smote_enn = SMOTEENN(random_state=0)\n",
    "X_resampled, y_resampled = smote_enn.fit_resample(X_train, y_train)"
   ]
  },
  {
   "cell_type": "code",
   "execution_count": 5,
   "metadata": {
    "collapsed": false,
    "jupyter": {
     "outputs_hidden": false
    },
    "pycharm": {
     "name": "#%%\n"
    }
   },
   "outputs": [],
   "source": [
    "# split the data according to segment_id\n",
    "cv = []\n",
    "for i in range(24):\n",
    "    train_indices = X_resampled[~X_resampled[\"segment_id\"].isin([i, i + 1])].index.to_list()\n",
    "    test_indices = X_resampled[X_resampled[\"segment_id\"].isin([i, i + 1])].index.to_list()\n",
    "    cv.append((train_indices, test_indices))\n",
    "\n",
    "# remove the segment_id as we don't want it in the training data\n",
    "X_resampled = X_resampled.drop([\"segment_id\"], axis=1)"
   ]
  },
  {
   "cell_type": "markdown",
   "metadata": {
    "pycharm": {
     "name": "#%% md\n"
    }
   },
   "source": [
    "### Model Training and Testing\n",
    "---"
   ]
  },
  {
   "cell_type": "code",
   "execution_count": 6,
   "metadata": {
    "collapsed": false,
    "jupyter": {
     "outputs_hidden": false
    },
    "pycharm": {
     "name": "#%%\n"
    }
   },
   "outputs": [],
   "source": [
    "def evaluate_model(model, train_set_x, train_set_y, test_set_x, test_set_y):\n",
    "    \"\"\"\n",
    "\n",
    "    :param model:\n",
    "    :return:\n",
    "    \"\"\"\n",
    "    train_yhat = model.predict(train_set_x)\n",
    "    test_yhat = model.predict(test_set_x)\n",
    "\n",
    "    errors = abs(test_yhat - y_test)\n",
    "\n",
    "    print('Model Performance Check:')\n",
    "    print(\"***\"*3)\n",
    "    print(' Average Error: {:0.4f}'.format(np.mean(errors)))\n",
    "    print(' Precission: {:0.4f}'.format(precision_score(test_set_y, test_yhat, average='micro')))\n",
    "    print(' Recall: {:0.4f}'.format(recall_score(test_set_y, test_yhat, average='micro')))\n",
    "\n",
    "\n",
    "    print(\"\\nModel Accuracy Check:\")\n",
    "    print(\"***\"*3)\n",
    "    print(\" Trainset Accuracy: {:0.4f}\".format(accuracy_score(train_set_y, train_yhat)))\n",
    "    print(\" Testset Accuracy: {:0.4f}\".format(accuracy_score(test_set_y, test_yhat)))\n",
    "\n",
    "def export_model(model, model_name: str):\n",
    "    \"\"\"\n",
    "    Exports a given classifier to a pickel file\n",
    "    :param model:\n",
    "    :param model_name:\n",
    "    :return: None\n",
    "    \"\"\"\n",
    "    if model is not None:\n",
    "        try:\n",
    "            joblib.dump(model, '{}.pkl'.format(model_name), compress=9)\n",
    "            print(\"Successfully exported classifier!\\n Location: {}\")\n",
    "        except Exception as ex:\n",
    "            raise ex\n",
    "    else:\n",
    "        raise ValueError(\"Model is none\")"
   ]
  },
  {
   "cell_type": "code",
   "execution_count": 15,
   "metadata": {},
   "outputs": [
    {
     "data": {
      "text/html": [
       "<div>\n",
       "<style scoped>\n",
       "    .dataframe tbody tr th:only-of-type {\n",
       "        vertical-align: middle;\n",
       "    }\n",
       "\n",
       "    .dataframe tbody tr th {\n",
       "        vertical-align: top;\n",
       "    }\n",
       "\n",
       "    .dataframe thead th {\n",
       "        text-align: right;\n",
       "    }\n",
       "</style>\n",
       "<table border=\"1\" class=\"dataframe\">\n",
       "  <thead>\n",
       "    <tr style=\"text-align: right;\">\n",
       "      <th></th>\n",
       "      <th>essentia_dissonance_mean</th>\n",
       "      <th>essentia_dissonance_stdev</th>\n",
       "      <th>essentia_dynamic_complexity</th>\n",
       "      <th>essentia_loudness</th>\n",
       "      <th>essentia_onset_rate</th>\n",
       "      <th>essentia_pitch_salience_mean</th>\n",
       "      <th>essentia_pitch_salience_stdev</th>\n",
       "      <th>essentia_spectral_centroid_mean</th>\n",
       "      <th>essentia_spectral_centroid_stdev</th>\n",
       "      <th>essentia_spectral_complexity_mean</th>\n",
       "      <th>...</th>\n",
       "      <th>mirtoolbox_novelty_std</th>\n",
       "      <th>mirtoolbox_novelty_pct_10</th>\n",
       "      <th>mirtoolbox_novelty_pct_50</th>\n",
       "      <th>mirtoolbox_novelty_pct_90</th>\n",
       "      <th>mirtoolbox_pulseclarity</th>\n",
       "      <th>mirtoolbox_roughness_mean</th>\n",
       "      <th>mirtoolbox_roughness_std</th>\n",
       "      <th>mirtoolbox_roughness_pct_10</th>\n",
       "      <th>mirtoolbox_roughness_pct_50</th>\n",
       "      <th>mirtoolbox_roughness_pct_90</th>\n",
       "    </tr>\n",
       "  </thead>\n",
       "  <tbody>\n",
       "    <tr>\n",
       "      <th>0</th>\n",
       "      <td>0.090946</td>\n",
       "      <td>-1.049143</td>\n",
       "      <td>-0.773709</td>\n",
       "      <td>0.964218</td>\n",
       "      <td>-0.418962</td>\n",
       "      <td>0.280063</td>\n",
       "      <td>-0.386888</td>\n",
       "      <td>-0.379471</td>\n",
       "      <td>-0.649024</td>\n",
       "      <td>-0.687507</td>\n",
       "      <td>...</td>\n",
       "      <td>0.455788</td>\n",
       "      <td>-0.132523</td>\n",
       "      <td>-0.733623</td>\n",
       "      <td>-0.059085</td>\n",
       "      <td>-0.918228</td>\n",
       "      <td>-0.034804</td>\n",
       "      <td>-0.741760</td>\n",
       "      <td>0.294055</td>\n",
       "      <td>-0.018662</td>\n",
       "      <td>-0.227726</td>\n",
       "    </tr>\n",
       "    <tr>\n",
       "      <th>1</th>\n",
       "      <td>0.270427</td>\n",
       "      <td>-0.674596</td>\n",
       "      <td>-0.673356</td>\n",
       "      <td>0.982513</td>\n",
       "      <td>-0.309247</td>\n",
       "      <td>0.018125</td>\n",
       "      <td>-0.097964</td>\n",
       "      <td>0.246241</td>\n",
       "      <td>-0.265885</td>\n",
       "      <td>-1.205762</td>\n",
       "      <td>...</td>\n",
       "      <td>-0.986785</td>\n",
       "      <td>-0.132523</td>\n",
       "      <td>-1.021422</td>\n",
       "      <td>-1.318619</td>\n",
       "      <td>-1.121356</td>\n",
       "      <td>-0.334504</td>\n",
       "      <td>-0.000192</td>\n",
       "      <td>-0.238357</td>\n",
       "      <td>-0.422630</td>\n",
       "      <td>-0.189874</td>\n",
       "    </tr>\n",
       "    <tr>\n",
       "      <th>2</th>\n",
       "      <td>-0.019990</td>\n",
       "      <td>-1.521880</td>\n",
       "      <td>-0.537949</td>\n",
       "      <td>0.080994</td>\n",
       "      <td>-1.186966</td>\n",
       "      <td>-0.454266</td>\n",
       "      <td>-0.329631</td>\n",
       "      <td>-0.161461</td>\n",
       "      <td>-0.492992</td>\n",
       "      <td>-0.132790</td>\n",
       "      <td>...</td>\n",
       "      <td>1.972376</td>\n",
       "      <td>-0.132523</td>\n",
       "      <td>2.069332</td>\n",
       "      <td>2.463840</td>\n",
       "      <td>0.047504</td>\n",
       "      <td>-1.288435</td>\n",
       "      <td>-1.084122</td>\n",
       "      <td>-0.978312</td>\n",
       "      <td>-1.275097</td>\n",
       "      <td>-1.334440</td>\n",
       "    </tr>\n",
       "    <tr>\n",
       "      <th>3</th>\n",
       "      <td>0.744962</td>\n",
       "      <td>0.594004</td>\n",
       "      <td>2.790197</td>\n",
       "      <td>-0.414494</td>\n",
       "      <td>0.129612</td>\n",
       "      <td>0.353962</td>\n",
       "      <td>-0.026213</td>\n",
       "      <td>1.472166</td>\n",
       "      <td>1.399065</td>\n",
       "      <td>1.229262</td>\n",
       "      <td>...</td>\n",
       "      <td>-0.355290</td>\n",
       "      <td>-0.132523</td>\n",
       "      <td>-0.000947</td>\n",
       "      <td>-0.207538</td>\n",
       "      <td>0.691361</td>\n",
       "      <td>-0.503286</td>\n",
       "      <td>0.362072</td>\n",
       "      <td>-0.577971</td>\n",
       "      <td>-0.548347</td>\n",
       "      <td>-0.452646</td>\n",
       "    </tr>\n",
       "    <tr>\n",
       "      <th>4</th>\n",
       "      <td>0.269103</td>\n",
       "      <td>0.974086</td>\n",
       "      <td>1.176281</td>\n",
       "      <td>-0.516288</td>\n",
       "      <td>-0.199533</td>\n",
       "      <td>0.938598</td>\n",
       "      <td>-0.167299</td>\n",
       "      <td>0.882138</td>\n",
       "      <td>1.191004</td>\n",
       "      <td>1.599073</td>\n",
       "      <td>...</td>\n",
       "      <td>0.004257</td>\n",
       "      <td>-0.132523</td>\n",
       "      <td>-0.408126</td>\n",
       "      <td>-0.250454</td>\n",
       "      <td>-0.731234</td>\n",
       "      <td>0.047901</td>\n",
       "      <td>0.930058</td>\n",
       "      <td>-0.490207</td>\n",
       "      <td>0.195989</td>\n",
       "      <td>0.154293</td>\n",
       "    </tr>\n",
       "    <tr>\n",
       "      <th>...</th>\n",
       "      <td>...</td>\n",
       "      <td>...</td>\n",
       "      <td>...</td>\n",
       "      <td>...</td>\n",
       "      <td>...</td>\n",
       "      <td>...</td>\n",
       "      <td>...</td>\n",
       "      <td>...</td>\n",
       "      <td>...</td>\n",
       "      <td>...</td>\n",
       "      <td>...</td>\n",
       "      <td>...</td>\n",
       "      <td>...</td>\n",
       "      <td>...</td>\n",
       "      <td>...</td>\n",
       "      <td>...</td>\n",
       "      <td>...</td>\n",
       "      <td>...</td>\n",
       "      <td>...</td>\n",
       "      <td>...</td>\n",
       "      <td>...</td>\n",
       "    </tr>\n",
       "    <tr>\n",
       "      <th>994</th>\n",
       "      <td>-1.403430</td>\n",
       "      <td>-0.025506</td>\n",
       "      <td>0.776422</td>\n",
       "      <td>-0.792378</td>\n",
       "      <td>-0.309247</td>\n",
       "      <td>-0.386267</td>\n",
       "      <td>0.963335</td>\n",
       "      <td>-0.736275</td>\n",
       "      <td>-0.189887</td>\n",
       "      <td>0.122432</td>\n",
       "      <td>...</td>\n",
       "      <td>-0.434882</td>\n",
       "      <td>-0.132523</td>\n",
       "      <td>-1.045509</td>\n",
       "      <td>-0.558994</td>\n",
       "      <td>0.315030</td>\n",
       "      <td>-1.083367</td>\n",
       "      <td>-0.586390</td>\n",
       "      <td>-0.824407</td>\n",
       "      <td>-1.203187</td>\n",
       "      <td>-1.031429</td>\n",
       "    </tr>\n",
       "    <tr>\n",
       "      <th>995</th>\n",
       "      <td>-1.975285</td>\n",
       "      <td>-0.329677</td>\n",
       "      <td>0.347851</td>\n",
       "      <td>-0.766778</td>\n",
       "      <td>0.019897</td>\n",
       "      <td>-1.185301</td>\n",
       "      <td>2.205495</td>\n",
       "      <td>-0.852301</td>\n",
       "      <td>-0.200213</td>\n",
       "      <td>-0.783865</td>\n",
       "      <td>...</td>\n",
       "      <td>-0.676836</td>\n",
       "      <td>-0.132523</td>\n",
       "      <td>-0.528553</td>\n",
       "      <td>-0.976388</td>\n",
       "      <td>-0.362398</td>\n",
       "      <td>-1.146172</td>\n",
       "      <td>-0.477209</td>\n",
       "      <td>-1.027908</td>\n",
       "      <td>-1.200254</td>\n",
       "      <td>-1.004156</td>\n",
       "    </tr>\n",
       "    <tr>\n",
       "      <th>996</th>\n",
       "      <td>-1.507881</td>\n",
       "      <td>-0.340120</td>\n",
       "      <td>0.156639</td>\n",
       "      <td>-0.710164</td>\n",
       "      <td>-0.309247</td>\n",
       "      <td>0.292024</td>\n",
       "      <td>2.396645</td>\n",
       "      <td>-0.984551</td>\n",
       "      <td>-0.542357</td>\n",
       "      <td>0.182332</td>\n",
       "      <td>...</td>\n",
       "      <td>-0.879013</td>\n",
       "      <td>0.104492</td>\n",
       "      <td>-1.057542</td>\n",
       "      <td>-1.586059</td>\n",
       "      <td>-0.864682</td>\n",
       "      <td>0.145945</td>\n",
       "      <td>1.486274</td>\n",
       "      <td>-0.669291</td>\n",
       "      <td>0.215161</td>\n",
       "      <td>0.533152</td>\n",
       "    </tr>\n",
       "    <tr>\n",
       "      <th>997</th>\n",
       "      <td>-1.655550</td>\n",
       "      <td>-0.729454</td>\n",
       "      <td>-0.474019</td>\n",
       "      <td>-0.707023</td>\n",
       "      <td>-0.748107</td>\n",
       "      <td>1.263356</td>\n",
       "      <td>0.874696</td>\n",
       "      <td>-1.151020</td>\n",
       "      <td>-0.584318</td>\n",
       "      <td>0.739652</td>\n",
       "      <td>...</td>\n",
       "      <td>-1.418508</td>\n",
       "      <td>0.117940</td>\n",
       "      <td>-0.990264</td>\n",
       "      <td>-1.443719</td>\n",
       "      <td>-0.297005</td>\n",
       "      <td>1.205389</td>\n",
       "      <td>1.194803</td>\n",
       "      <td>0.903250</td>\n",
       "      <td>1.206546</td>\n",
       "      <td>1.418579</td>\n",
       "    </tr>\n",
       "    <tr>\n",
       "      <th>998</th>\n",
       "      <td>-1.760628</td>\n",
       "      <td>-1.259975</td>\n",
       "      <td>-1.080106</td>\n",
       "      <td>-0.814015</td>\n",
       "      <td>-0.299104</td>\n",
       "      <td>0.366898</td>\n",
       "      <td>0.035002</td>\n",
       "      <td>-1.029592</td>\n",
       "      <td>2.272910</td>\n",
       "      <td>0.943470</td>\n",
       "      <td>...</td>\n",
       "      <td>0.720555</td>\n",
       "      <td>-0.132523</td>\n",
       "      <td>0.285332</td>\n",
       "      <td>0.156109</td>\n",
       "      <td>-0.694573</td>\n",
       "      <td>0.352048</td>\n",
       "      <td>0.150300</td>\n",
       "      <td>0.484316</td>\n",
       "      <td>0.228998</td>\n",
       "      <td>0.478948</td>\n",
       "    </tr>\n",
       "  </tbody>\n",
       "</table>\n",
       "<p>999 rows × 169 columns</p>\n",
       "</div>"
      ],
      "text/plain": [
       "     essentia_dissonance_mean  essentia_dissonance_stdev  \\\n",
       "0                    0.090946                  -1.049143   \n",
       "1                    0.270427                  -0.674596   \n",
       "2                   -0.019990                  -1.521880   \n",
       "3                    0.744962                   0.594004   \n",
       "4                    0.269103                   0.974086   \n",
       "..                        ...                        ...   \n",
       "994                 -1.403430                  -0.025506   \n",
       "995                 -1.975285                  -0.329677   \n",
       "996                 -1.507881                  -0.340120   \n",
       "997                 -1.655550                  -0.729454   \n",
       "998                 -1.760628                  -1.259975   \n",
       "\n",
       "     essentia_dynamic_complexity  essentia_loudness  essentia_onset_rate  \\\n",
       "0                      -0.773709           0.964218            -0.418962   \n",
       "1                      -0.673356           0.982513            -0.309247   \n",
       "2                      -0.537949           0.080994            -1.186966   \n",
       "3                       2.790197          -0.414494             0.129612   \n",
       "4                       1.176281          -0.516288            -0.199533   \n",
       "..                           ...                ...                  ...   \n",
       "994                     0.776422          -0.792378            -0.309247   \n",
       "995                     0.347851          -0.766778             0.019897   \n",
       "996                     0.156639          -0.710164            -0.309247   \n",
       "997                    -0.474019          -0.707023            -0.748107   \n",
       "998                    -1.080106          -0.814015            -0.299104   \n",
       "\n",
       "     essentia_pitch_salience_mean  essentia_pitch_salience_stdev  \\\n",
       "0                        0.280063                      -0.386888   \n",
       "1                        0.018125                      -0.097964   \n",
       "2                       -0.454266                      -0.329631   \n",
       "3                        0.353962                      -0.026213   \n",
       "4                        0.938598                      -0.167299   \n",
       "..                            ...                            ...   \n",
       "994                     -0.386267                       0.963335   \n",
       "995                     -1.185301                       2.205495   \n",
       "996                      0.292024                       2.396645   \n",
       "997                      1.263356                       0.874696   \n",
       "998                      0.366898                       0.035002   \n",
       "\n",
       "     essentia_spectral_centroid_mean  essentia_spectral_centroid_stdev  \\\n",
       "0                          -0.379471                         -0.649024   \n",
       "1                           0.246241                         -0.265885   \n",
       "2                          -0.161461                         -0.492992   \n",
       "3                           1.472166                          1.399065   \n",
       "4                           0.882138                          1.191004   \n",
       "..                               ...                               ...   \n",
       "994                        -0.736275                         -0.189887   \n",
       "995                        -0.852301                         -0.200213   \n",
       "996                        -0.984551                         -0.542357   \n",
       "997                        -1.151020                         -0.584318   \n",
       "998                        -1.029592                          2.272910   \n",
       "\n",
       "     essentia_spectral_complexity_mean  ...  mirtoolbox_novelty_std  \\\n",
       "0                            -0.687507  ...                0.455788   \n",
       "1                            -1.205762  ...               -0.986785   \n",
       "2                            -0.132790  ...                1.972376   \n",
       "3                             1.229262  ...               -0.355290   \n",
       "4                             1.599073  ...                0.004257   \n",
       "..                                 ...  ...                     ...   \n",
       "994                           0.122432  ...               -0.434882   \n",
       "995                          -0.783865  ...               -0.676836   \n",
       "996                           0.182332  ...               -0.879013   \n",
       "997                           0.739652  ...               -1.418508   \n",
       "998                           0.943470  ...                0.720555   \n",
       "\n",
       "     mirtoolbox_novelty_pct_10  mirtoolbox_novelty_pct_50  \\\n",
       "0                    -0.132523                  -0.733623   \n",
       "1                    -0.132523                  -1.021422   \n",
       "2                    -0.132523                   2.069332   \n",
       "3                    -0.132523                  -0.000947   \n",
       "4                    -0.132523                  -0.408126   \n",
       "..                         ...                        ...   \n",
       "994                  -0.132523                  -1.045509   \n",
       "995                  -0.132523                  -0.528553   \n",
       "996                   0.104492                  -1.057542   \n",
       "997                   0.117940                  -0.990264   \n",
       "998                  -0.132523                   0.285332   \n",
       "\n",
       "     mirtoolbox_novelty_pct_90  mirtoolbox_pulseclarity  \\\n",
       "0                    -0.059085                -0.918228   \n",
       "1                    -1.318619                -1.121356   \n",
       "2                     2.463840                 0.047504   \n",
       "3                    -0.207538                 0.691361   \n",
       "4                    -0.250454                -0.731234   \n",
       "..                         ...                      ...   \n",
       "994                  -0.558994                 0.315030   \n",
       "995                  -0.976388                -0.362398   \n",
       "996                  -1.586059                -0.864682   \n",
       "997                  -1.443719                -0.297005   \n",
       "998                   0.156109                -0.694573   \n",
       "\n",
       "     mirtoolbox_roughness_mean  mirtoolbox_roughness_std  \\\n",
       "0                    -0.034804                 -0.741760   \n",
       "1                    -0.334504                 -0.000192   \n",
       "2                    -1.288435                 -1.084122   \n",
       "3                    -0.503286                  0.362072   \n",
       "4                     0.047901                  0.930058   \n",
       "..                         ...                       ...   \n",
       "994                  -1.083367                 -0.586390   \n",
       "995                  -1.146172                 -0.477209   \n",
       "996                   0.145945                  1.486274   \n",
       "997                   1.205389                  1.194803   \n",
       "998                   0.352048                  0.150300   \n",
       "\n",
       "     mirtoolbox_roughness_pct_10  mirtoolbox_roughness_pct_50  \\\n",
       "0                       0.294055                    -0.018662   \n",
       "1                      -0.238357                    -0.422630   \n",
       "2                      -0.978312                    -1.275097   \n",
       "3                      -0.577971                    -0.548347   \n",
       "4                      -0.490207                     0.195989   \n",
       "..                           ...                          ...   \n",
       "994                    -0.824407                    -1.203187   \n",
       "995                    -1.027908                    -1.200254   \n",
       "996                    -0.669291                     0.215161   \n",
       "997                     0.903250                     1.206546   \n",
       "998                     0.484316                     0.228998   \n",
       "\n",
       "     mirtoolbox_roughness_pct_90  \n",
       "0                      -0.227726  \n",
       "1                      -0.189874  \n",
       "2                      -1.334440  \n",
       "3                      -0.452646  \n",
       "4                       0.154293  \n",
       "..                           ...  \n",
       "994                    -1.031429  \n",
       "995                    -1.004156  \n",
       "996                     0.533152  \n",
       "997                     1.418579  \n",
       "998                     0.478948  \n",
       "\n",
       "[999 rows x 169 columns]"
      ]
     },
     "execution_count": 21,
     "metadata": {},
     "output_type": "execute_result"
    }
   ],
   "source": [
    "X_resampled"
   ]
  },
  {
   "cell_type": "code",
   "execution_count": 71,
   "metadata": {
    "collapsed": false,
    "jupyter": {
     "outputs_hidden": false
    },
    "pycharm": {
     "name": "#%%\n"
    }
   },
   "outputs": [
    {
     "data": {
      "text/html": [
       "<style>#sk-container-id-29 {color: black;background-color: white;}#sk-container-id-29 pre{padding: 0;}#sk-container-id-29 div.sk-toggleable {background-color: white;}#sk-container-id-29 label.sk-toggleable__label {cursor: pointer;display: block;width: 100%;margin-bottom: 0;padding: 0.3em;box-sizing: border-box;text-align: center;}#sk-container-id-29 label.sk-toggleable__label-arrow:before {content: \"▸\";float: left;margin-right: 0.25em;color: #696969;}#sk-container-id-29 label.sk-toggleable__label-arrow:hover:before {color: black;}#sk-container-id-29 div.sk-estimator:hover label.sk-toggleable__label-arrow:before {color: black;}#sk-container-id-29 div.sk-toggleable__content {max-height: 0;max-width: 0;overflow: hidden;text-align: left;background-color: #f0f8ff;}#sk-container-id-29 div.sk-toggleable__content pre {margin: 0.2em;color: black;border-radius: 0.25em;background-color: #f0f8ff;}#sk-container-id-29 input.sk-toggleable__control:checked~div.sk-toggleable__content {max-height: 200px;max-width: 100%;overflow: auto;}#sk-container-id-29 input.sk-toggleable__control:checked~label.sk-toggleable__label-arrow:before {content: \"▾\";}#sk-container-id-29 div.sk-estimator input.sk-toggleable__control:checked~label.sk-toggleable__label {background-color: #d4ebff;}#sk-container-id-29 div.sk-label input.sk-toggleable__control:checked~label.sk-toggleable__label {background-color: #d4ebff;}#sk-container-id-29 input.sk-hidden--visually {border: 0;clip: rect(1px 1px 1px 1px);clip: rect(1px, 1px, 1px, 1px);height: 1px;margin: -1px;overflow: hidden;padding: 0;position: absolute;width: 1px;}#sk-container-id-29 div.sk-estimator {font-family: monospace;background-color: #f0f8ff;border: 1px dotted black;border-radius: 0.25em;box-sizing: border-box;margin-bottom: 0.5em;}#sk-container-id-29 div.sk-estimator:hover {background-color: #d4ebff;}#sk-container-id-29 div.sk-parallel-item::after {content: \"\";width: 100%;border-bottom: 1px solid gray;flex-grow: 1;}#sk-container-id-29 div.sk-label:hover label.sk-toggleable__label {background-color: #d4ebff;}#sk-container-id-29 div.sk-serial::before {content: \"\";position: absolute;border-left: 1px solid gray;box-sizing: border-box;top: 0;bottom: 0;left: 50%;z-index: 0;}#sk-container-id-29 div.sk-serial {display: flex;flex-direction: column;align-items: center;background-color: white;padding-right: 0.2em;padding-left: 0.2em;position: relative;}#sk-container-id-29 div.sk-item {position: relative;z-index: 1;}#sk-container-id-29 div.sk-parallel {display: flex;align-items: stretch;justify-content: center;background-color: white;position: relative;}#sk-container-id-29 div.sk-item::before, #sk-container-id-29 div.sk-parallel-item::before {content: \"\";position: absolute;border-left: 1px solid gray;box-sizing: border-box;top: 0;bottom: 0;left: 50%;z-index: -1;}#sk-container-id-29 div.sk-parallel-item {display: flex;flex-direction: column;z-index: 1;position: relative;background-color: white;}#sk-container-id-29 div.sk-parallel-item:first-child::after {align-self: flex-end;width: 50%;}#sk-container-id-29 div.sk-parallel-item:last-child::after {align-self: flex-start;width: 50%;}#sk-container-id-29 div.sk-parallel-item:only-child::after {width: 0;}#sk-container-id-29 div.sk-dashed-wrapped {border: 1px dashed gray;margin: 0 0.4em 0.5em 0.4em;box-sizing: border-box;padding-bottom: 0.4em;background-color: white;}#sk-container-id-29 div.sk-label label {font-family: monospace;font-weight: bold;display: inline-block;line-height: 1.2em;}#sk-container-id-29 div.sk-label-container {text-align: center;}#sk-container-id-29 div.sk-container {/* jupyter's `normalize.less` sets `[hidden] { display: none; }` but bootstrap.min.css set `[hidden] { display: none !important; }` so we also need the `!important` here to be able to override the default hidden behavior on the sphinx rendered scikit-learn.org. See: https://github.com/scikit-learn/scikit-learn/issues/21755 */display: inline-block !important;position: relative;}#sk-container-id-29 div.sk-text-repr-fallback {display: none;}</style><div id=\"sk-container-id-29\" class=\"sk-top-container\"><div class=\"sk-text-repr-fallback\"><pre>GridSearchCV(cv=[([2, 3, 4, 5, 6, 7, 8, 9, 10, 11, 12, 13, 14, 15, 16, 17, 18,\n",
       "                   19, 20, 21, 22, 23, 24, 25, 26, 27, 28, 29, 30, 31, ...],\n",
       "                  [0, 1, 60, 74, 87, 88, 114, 115, 164, 165, 183, 192, 206, 210,\n",
       "                   215, 259, 269, 272, 297, 300, 377, 378, 484, 529, 566, 595,\n",
       "                   674, 688, 697, 698, ...]),\n",
       "                 ([2, 3, 4, 5, 6, 7, 8, 9, 10, 11, 12, 13, 14, 15, 16, 17, 18,\n",
       "                   19, 20, 21, 22, 23, 24, 25, 26, 27, 28, 29, 34, 35, ...],\n",
       "                  [0, 1, 30, 31, 32, 33, 39, 51, 52, 53, 54, 55, 6...\n",
       "                 ([0, 1, 2, 3, 4, 5, 6, 7, 8, 9, 10, 11, 12, 13, 14, 15, 16, 17,\n",
       "                   18, 19, 20, 21, 22, 23, 24, 25, 26, 27, 28, 29, ...],\n",
       "                  [358, 359, 360, 361, 376, 437, 438, 439, 455, 524, 534, 586,\n",
       "                   590, 592, 599, 604, 624, 631, 662, 664, 828, 829, 830, 831,\n",
       "                   832, 833, 842, 843, 844, 845, ...])],\n",
       "             estimator=GradientBoostingClassifier(), n_jobs=-1,\n",
       "             param_grid={&#x27;learning_rate&#x27;: [0.1], &#x27;max_depth&#x27;: [10],\n",
       "                         &#x27;min_samples_leaf&#x27;: [10], &#x27;n_estimators&#x27;: [100]})</pre><b>In a Jupyter environment, please rerun this cell to show the HTML representation or trust the notebook. <br />On GitHub, the HTML representation is unable to render, please try loading this page with nbviewer.org.</b></div><div class=\"sk-container\" hidden><div class=\"sk-item sk-dashed-wrapped\"><div class=\"sk-label-container\"><div class=\"sk-label sk-toggleable\"><input class=\"sk-toggleable__control sk-hidden--visually\" id=\"sk-estimator-id-57\" type=\"checkbox\" ><label for=\"sk-estimator-id-57\" class=\"sk-toggleable__label sk-toggleable__label-arrow\">GridSearchCV</label><div class=\"sk-toggleable__content\"><pre>GridSearchCV(cv=[([2, 3, 4, 5, 6, 7, 8, 9, 10, 11, 12, 13, 14, 15, 16, 17, 18,\n",
       "                   19, 20, 21, 22, 23, 24, 25, 26, 27, 28, 29, 30, 31, ...],\n",
       "                  [0, 1, 60, 74, 87, 88, 114, 115, 164, 165, 183, 192, 206, 210,\n",
       "                   215, 259, 269, 272, 297, 300, 377, 378, 484, 529, 566, 595,\n",
       "                   674, 688, 697, 698, ...]),\n",
       "                 ([2, 3, 4, 5, 6, 7, 8, 9, 10, 11, 12, 13, 14, 15, 16, 17, 18,\n",
       "                   19, 20, 21, 22, 23, 24, 25, 26, 27, 28, 29, 34, 35, ...],\n",
       "                  [0, 1, 30, 31, 32, 33, 39, 51, 52, 53, 54, 55, 6...\n",
       "                 ([0, 1, 2, 3, 4, 5, 6, 7, 8, 9, 10, 11, 12, 13, 14, 15, 16, 17,\n",
       "                   18, 19, 20, 21, 22, 23, 24, 25, 26, 27, 28, 29, ...],\n",
       "                  [358, 359, 360, 361, 376, 437, 438, 439, 455, 524, 534, 586,\n",
       "                   590, 592, 599, 604, 624, 631, 662, 664, 828, 829, 830, 831,\n",
       "                   832, 833, 842, 843, 844, 845, ...])],\n",
       "             estimator=GradientBoostingClassifier(), n_jobs=-1,\n",
       "             param_grid={&#x27;learning_rate&#x27;: [0.1], &#x27;max_depth&#x27;: [10],\n",
       "                         &#x27;min_samples_leaf&#x27;: [10], &#x27;n_estimators&#x27;: [100]})</pre></div></div></div><div class=\"sk-parallel\"><div class=\"sk-parallel-item\"><div class=\"sk-item\"><div class=\"sk-label-container\"><div class=\"sk-label sk-toggleable\"><input class=\"sk-toggleable__control sk-hidden--visually\" id=\"sk-estimator-id-58\" type=\"checkbox\" ><label for=\"sk-estimator-id-58\" class=\"sk-toggleable__label sk-toggleable__label-arrow\">estimator: GradientBoostingClassifier</label><div class=\"sk-toggleable__content\"><pre>GradientBoostingClassifier()</pre></div></div></div><div class=\"sk-serial\"><div class=\"sk-item\"><div class=\"sk-estimator sk-toggleable\"><input class=\"sk-toggleable__control sk-hidden--visually\" id=\"sk-estimator-id-59\" type=\"checkbox\" ><label for=\"sk-estimator-id-59\" class=\"sk-toggleable__label sk-toggleable__label-arrow\">GradientBoostingClassifier</label><div class=\"sk-toggleable__content\"><pre>GradientBoostingClassifier()</pre></div></div></div></div></div></div></div></div></div></div>"
      ],
      "text/plain": [
       "GridSearchCV(cv=[([2, 3, 4, 5, 6, 7, 8, 9, 10, 11, 12, 13, 14, 15, 16, 17, 18,\n",
       "                   19, 20, 21, 22, 23, 24, 25, 26, 27, 28, 29, 30, 31, ...],\n",
       "                  [0, 1, 60, 74, 87, 88, 114, 115, 164, 165, 183, 192, 206, 210,\n",
       "                   215, 259, 269, 272, 297, 300, 377, 378, 484, 529, 566, 595,\n",
       "                   674, 688, 697, 698, ...]),\n",
       "                 ([2, 3, 4, 5, 6, 7, 8, 9, 10, 11, 12, 13, 14, 15, 16, 17, 18,\n",
       "                   19, 20, 21, 22, 23, 24, 25, 26, 27, 28, 29, 34, 35, ...],\n",
       "                  [0, 1, 30, 31, 32, 33, 39, 51, 52, 53, 54, 55, 6...\n",
       "                 ([0, 1, 2, 3, 4, 5, 6, 7, 8, 9, 10, 11, 12, 13, 14, 15, 16, 17,\n",
       "                   18, 19, 20, 21, 22, 23, 24, 25, 26, 27, 28, 29, ...],\n",
       "                  [358, 359, 360, 361, 376, 437, 438, 439, 455, 524, 534, 586,\n",
       "                   590, 592, 599, 604, 624, 631, 662, 664, 828, 829, 830, 831,\n",
       "                   832, 833, 842, 843, 844, 845, ...])],\n",
       "             estimator=GradientBoostingClassifier(), n_jobs=-1,\n",
       "             param_grid={'learning_rate': [0.1], 'max_depth': [10],\n",
       "                         'min_samples_leaf': [10], 'n_estimators': [100]})"
      ]
     },
     "execution_count": 71,
     "metadata": {},
     "output_type": "execute_result"
    }
   ],
   "source": [
    "# Gradient Boosted Regression Tree\n",
    "# gbrt_model_cv = GradientBoostingClassifier(\n",
    "#    n_estimators=100,\n",
    "#    learning_rate=0.1,\n",
    "#    max_depth=10,\n",
    "#    min_samples_leaf=2,\n",
    "#    random_state=0).fit(X_train, y_train)\n",
    "\n",
    "# gbrt_model.fit(X_train, y_train)\n",
    "\n",
    "params = {\"n_estimators\": [100],\n",
    "          \"learning_rate\": [0.1],\n",
    "          \"min_samples_leaf\": [10],\n",
    "          \"max_depth\": [10]}\n",
    "\n",
    "gbdt_cv = GridSearchCV(GradientBoostingClassifier(), params, cv=cv, n_jobs=-1)\n",
    "gbdt_cv.fit(X_resampled, y_resampled)"
   ]
  },
  {
   "cell_type": "code",
   "execution_count": 72,
   "metadata": {
    "collapsed": false,
    "jupyter": {
     "outputs_hidden": false
    },
    "pycharm": {
     "name": "#%%\n"
    }
   },
   "outputs": [
    {
     "name": "stdout",
     "output_type": "stream",
     "text": [
      "Best Model Parameters: \n",
      " {'learning_rate': 0.1, 'max_depth': 10, 'min_samples_leaf': 10, 'n_estimators': 100}\n",
      " Best Score: 0.5314454479085674\n",
      " Trainset Score: 1.0\n",
      " Testset Score: 0.27906976744186046\n"
     ]
    }
   ],
   "source": [
    "print(\"Best Model Parameters: \\n {}\\n Best Score: {}\\n Trainset Score: {}\\n Testset Score: {}\".format(gbdt_cv.best_params_, gbdt_cv.best_score_, gbdt_cv.score(X_resampled, y_resampled), gbdt_cv.score(X_test, y_test)))"
   ]
  },
  {
   "cell_type": "markdown",
   "metadata": {
    "pycharm": {
     "name": "#%% md\n"
    }
   },
   "source": [
    "### GBDT Model Evaluation\n",
    "---"
   ]
  },
  {
   "cell_type": "code",
   "execution_count": 73,
   "metadata": {
    "collapsed": false,
    "jupyter": {
     "outputs_hidden": false
    },
    "pycharm": {
     "name": "#%%\n"
    }
   },
   "outputs": [
    {
     "data": {
      "text/html": [
       "<style>#sk-container-id-30 {color: black;background-color: white;}#sk-container-id-30 pre{padding: 0;}#sk-container-id-30 div.sk-toggleable {background-color: white;}#sk-container-id-30 label.sk-toggleable__label {cursor: pointer;display: block;width: 100%;margin-bottom: 0;padding: 0.3em;box-sizing: border-box;text-align: center;}#sk-container-id-30 label.sk-toggleable__label-arrow:before {content: \"▸\";float: left;margin-right: 0.25em;color: #696969;}#sk-container-id-30 label.sk-toggleable__label-arrow:hover:before {color: black;}#sk-container-id-30 div.sk-estimator:hover label.sk-toggleable__label-arrow:before {color: black;}#sk-container-id-30 div.sk-toggleable__content {max-height: 0;max-width: 0;overflow: hidden;text-align: left;background-color: #f0f8ff;}#sk-container-id-30 div.sk-toggleable__content pre {margin: 0.2em;color: black;border-radius: 0.25em;background-color: #f0f8ff;}#sk-container-id-30 input.sk-toggleable__control:checked~div.sk-toggleable__content {max-height: 200px;max-width: 100%;overflow: auto;}#sk-container-id-30 input.sk-toggleable__control:checked~label.sk-toggleable__label-arrow:before {content: \"▾\";}#sk-container-id-30 div.sk-estimator input.sk-toggleable__control:checked~label.sk-toggleable__label {background-color: #d4ebff;}#sk-container-id-30 div.sk-label input.sk-toggleable__control:checked~label.sk-toggleable__label {background-color: #d4ebff;}#sk-container-id-30 input.sk-hidden--visually {border: 0;clip: rect(1px 1px 1px 1px);clip: rect(1px, 1px, 1px, 1px);height: 1px;margin: -1px;overflow: hidden;padding: 0;position: absolute;width: 1px;}#sk-container-id-30 div.sk-estimator {font-family: monospace;background-color: #f0f8ff;border: 1px dotted black;border-radius: 0.25em;box-sizing: border-box;margin-bottom: 0.5em;}#sk-container-id-30 div.sk-estimator:hover {background-color: #d4ebff;}#sk-container-id-30 div.sk-parallel-item::after {content: \"\";width: 100%;border-bottom: 1px solid gray;flex-grow: 1;}#sk-container-id-30 div.sk-label:hover label.sk-toggleable__label {background-color: #d4ebff;}#sk-container-id-30 div.sk-serial::before {content: \"\";position: absolute;border-left: 1px solid gray;box-sizing: border-box;top: 0;bottom: 0;left: 50%;z-index: 0;}#sk-container-id-30 div.sk-serial {display: flex;flex-direction: column;align-items: center;background-color: white;padding-right: 0.2em;padding-left: 0.2em;position: relative;}#sk-container-id-30 div.sk-item {position: relative;z-index: 1;}#sk-container-id-30 div.sk-parallel {display: flex;align-items: stretch;justify-content: center;background-color: white;position: relative;}#sk-container-id-30 div.sk-item::before, #sk-container-id-30 div.sk-parallel-item::before {content: \"\";position: absolute;border-left: 1px solid gray;box-sizing: border-box;top: 0;bottom: 0;left: 50%;z-index: -1;}#sk-container-id-30 div.sk-parallel-item {display: flex;flex-direction: column;z-index: 1;position: relative;background-color: white;}#sk-container-id-30 div.sk-parallel-item:first-child::after {align-self: flex-end;width: 50%;}#sk-container-id-30 div.sk-parallel-item:last-child::after {align-self: flex-start;width: 50%;}#sk-container-id-30 div.sk-parallel-item:only-child::after {width: 0;}#sk-container-id-30 div.sk-dashed-wrapped {border: 1px dashed gray;margin: 0 0.4em 0.5em 0.4em;box-sizing: border-box;padding-bottom: 0.4em;background-color: white;}#sk-container-id-30 div.sk-label label {font-family: monospace;font-weight: bold;display: inline-block;line-height: 1.2em;}#sk-container-id-30 div.sk-label-container {text-align: center;}#sk-container-id-30 div.sk-container {/* jupyter's `normalize.less` sets `[hidden] { display: none; }` but bootstrap.min.css set `[hidden] { display: none !important; }` so we also need the `!important` here to be able to override the default hidden behavior on the sphinx rendered scikit-learn.org. See: https://github.com/scikit-learn/scikit-learn/issues/21755 */display: inline-block !important;position: relative;}#sk-container-id-30 div.sk-text-repr-fallback {display: none;}</style><div id=\"sk-container-id-30\" class=\"sk-top-container\"><div class=\"sk-text-repr-fallback\"><pre>GradientBoostingClassifier(max_depth=10, min_samples_leaf=10)</pre><b>In a Jupyter environment, please rerun this cell to show the HTML representation or trust the notebook. <br />On GitHub, the HTML representation is unable to render, please try loading this page with nbviewer.org.</b></div><div class=\"sk-container\" hidden><div class=\"sk-item\"><div class=\"sk-estimator sk-toggleable\"><input class=\"sk-toggleable__control sk-hidden--visually\" id=\"sk-estimator-id-60\" type=\"checkbox\" checked><label for=\"sk-estimator-id-60\" class=\"sk-toggleable__label sk-toggleable__label-arrow\">GradientBoostingClassifier</label><div class=\"sk-toggleable__content\"><pre>GradientBoostingClassifier(max_depth=10, min_samples_leaf=10)</pre></div></div></div></div></div>"
      ],
      "text/plain": [
       "GradientBoostingClassifier(max_depth=10, min_samples_leaf=10)"
      ]
     },
     "execution_count": 73,
     "metadata": {},
     "output_type": "execute_result"
    }
   ],
   "source": [
    "params = gbdt_cv.best_params_\n",
    "gbdt = GradientBoostingClassifier(**params)\n",
    "gbdt.fit(X_resampled, y_resampled)"
   ]
  },
  {
   "cell_type": "code",
   "execution_count": 74,
   "metadata": {
    "collapsed": false,
    "jupyter": {
     "outputs_hidden": false
    },
    "pycharm": {
     "name": "#%%\n"
    }
   },
   "outputs": [
    {
     "name": "stdout",
     "output_type": "stream",
     "text": [
      "Model Performance Check:\n",
      "*********\n",
      " Average Error: 1.4767\n",
      " Precission: 0.2674\n",
      " Recall: 0.2674\n",
      "\n",
      "Model Accuracy Check:\n",
      "*********\n",
      " Trainset Accuracy: 1.0000\n",
      " Testset Accuracy: 0.2674\n"
     ]
    }
   ],
   "source": [
    "evaluate_model(gbdt, X_resampled, y_resampled, X_test, y_test)"
   ]
  },
  {
   "cell_type": "code",
   "execution_count": null,
   "metadata": {
    "collapsed": false,
    "jupyter": {
     "outputs_hidden": false
    },
    "pycharm": {
     "name": "#%%\n"
    }
   },
   "outputs": [],
   "source": []
  }
 ],
 "metadata": {
  "kernelspec": {
   "display_name": "Python 3 (ipykernel)",
   "language": "python",
   "name": "python3"
  },
  "language_info": {
   "codemirror_mode": {
    "name": "ipython",
    "version": 3
   },
   "file_extension": ".py",
   "mimetype": "text/x-python",
   "name": "python",
   "nbconvert_exporter": "python",
   "pygments_lexer": "ipython3",
   "version": "3.10.4"
  }
 },
 "nbformat": 4,
 "nbformat_minor": 4
}
